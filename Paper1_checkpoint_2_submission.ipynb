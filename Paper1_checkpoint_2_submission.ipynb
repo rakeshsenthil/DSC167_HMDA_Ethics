{
 "cells": [
  {
   "cell_type": "code",
   "execution_count": 1,
   "metadata": {},
   "outputs": [],
   "source": [
    "import pandas as pd\n",
    "import numpy as np\n",
    "import matplotlib.pyplot as plt"
   ]
  },
  {
   "cell_type": "code",
   "execution_count": 2,
   "metadata": {},
   "outputs": [
    {
     "name": "stderr",
     "output_type": "stream",
     "text": [
      "/Users/rakesh/anaconda3/lib/python3.7/site-packages/IPython/core/interactiveshell.py:3020: DtypeWarning: Columns (34,36,38,44,46,48) have mixed types.Specify dtype option on import or set low_memory=False.\n",
      "  interactivity=interactivity, compiler=compiler, result=result)\n"
     ]
    }
   ],
   "source": [
    "df_2017 = pd.read_csv('/Users/rakesh/Documents/DSC167/hmda_2017_nationwide_all-records_labels.csv', \n",
    "                      dtype = {'msamd': str, 'state_code': str, 'county_code': str, 'census_tract_number': str,\n",
    "                              'denial_reason_1':str, 'denial_reason_2': str, 'denial_reason_3': str})"
   ]
  },
  {
   "cell_type": "markdown",
   "metadata": {},
   "source": [
    "# Rakesh Senthilvelan and Shin Ehara"
   ]
  },
  {
   "cell_type": "markdown",
   "metadata": {},
   "source": [
    "## Introduction\n",
    "\n",
    "When it comes to lending, there have always been disparities between different groups of people in terms of acceptance and accessibility. There have been numerous ways in which discrimination has been employed throughout the years, with lending being one of the largest areas. We wanted to examine the disparities that exist between groups based on race, gender, and sexual orientation among others. The reason we came to these disparities was based on reading previous works done through research institutions such as Vanderbilt University (https://business.vanderbilt.edu/news/2020/07/20/racial-disparities-in-lending-markets/), Proceedings of the National Academy of Sciences of the United States of America (https://www.pnas.org/content/116/19/9293), and the National Community Reinvestment Coalition (https://ncrc.org/wp-content/uploads/2009/07/ncrc%20nosheild%20june%2009.pdf). We wanted to see the specificities of these disparities in terms of how they are carried out in the real world, whether certain other inequities have a domino effect towards lending data, and what potential solutions there may be to this disparity. To look into this, we took in data from the HMDA, short for the Home Mortgage Disclosure Act, which will show data on loan applications for houses. We will be able to see many factors such as race, gender of applicant and co-applicant, income bracket, reason for loan denial, and more. Throughout the research project, we will dive into different areas of discrimination or bias seen in lending data provided by the HMDA in 2017, finding the reasons behind them, and looking into potential areas that will need to be addressed by lenders in the future for a more equitbale experience for everybody."
   ]
  },
  {
   "cell_type": "markdown",
   "metadata": {},
   "source": [
    "## Justification for the Data in Approaching the Problem at Hand"
   ]
  },
  {
   "cell_type": "markdown",
   "metadata": {},
   "source": [
    "The data provided by HMDA dataset provides a lot of insight into the inequities that are present in loans. The data in question is the most recently available set to us, which is 2017. In the preliminary exploratory data analysis, we looked into three factors: application status based on race, application status based on the sex of the applicant and co-applicant, and the reasons for denial based on race. What we found in this step was interesting. In terms of application status based on race, we noticed significant discrepancies for loan approvals by race, with White and Asian applicants seeing approval ratings around 58%, Hawaiian Native and Pacfic Islander applicants around 51%, and Native American and Black applicants around 44-45%. This shows a significant gap in loan approval ratings between racial groups and this is something we look to further examine in our paper. For the sex of applicant and co-applicant, we wanted to see if there were any significant discrepancies. While we cannot assume that an applicant and a co-applicant would be in a relationship, we thought it would be important to see the approval and rejection ratings for these combinations. What we noted was that generally, applications where a male is the applicant and a female is a co-applicant have the highest approval rating at around 61%, with female applicant and male co-applicant following at 58.8%, male applicant and co-applicant at 58%, and female appplicant and co-applicant at 55.1%. We noticed somewhat significant differences between these rates and we look to further explore this area. Finally, we looked at reasons for rejection by race. While the rankings of denial reasons were roughly similar amongst all groups, we noticed some differences in the percentages that these reasons made up for each group. We believe this will be an interesting area to further examine in the final paper. Based on our EDA, we found numerous statistical differences in the loan data that would potentially point to inequities in this system of America. As a result, this dataset is a strong source to examine the problem at hand and examine the specificities of this inequity in our society."
   ]
  },
  {
   "cell_type": "markdown",
   "metadata": {},
   "source": [
    "## The Context of the Inequity\n",
    "\n",
    "The financial inequities faced by minority populations is not a new concept. According to a report done in 1996 by the Federal Reserve Bank of Boston, it was found that there existed a discrepancy where, when it came to mortgage applications, \"minority applicants with the same economic and property characteristics as white applicants would experience a denial rate of 17 percent rather than the actual white denial rate of 11 percent\". To further understand this discepancy, we must look into concepts of equality. From an egalitarian perspective, this shows a significant discrepancy, with a look into the comparative nature of the above statement showing that there is not equal access to the opportunity of receiving a mortgage. From a Rawlisian perspective, this discrepancy does not entitle everybody from the same financial background to the same liberties and opportunities in purchasing a house. This shows that when looking at this research from multiple perspectives of equality, they universally conclude that there is inequality in this situation. However, this was in 1996, that brings forward the question. Has this inequity gotten better since then? In a study from Professor Mark Cohen of Vanderbilt University in July of 2020, it was found that \"African Americans pay twice the markup whites did\". This indicates that inequality still exists in the lending industry against minority groups when it comes to loan rejection rates and markups on properties. "
   ]
  },
  {
   "cell_type": "markdown",
   "metadata": {},
   "source": [
    "## Hypothesis\n",
    "\n",
    "Based on our preliminary exploratory data analysis and the historical context of this issue, we have the alternative hypothesis that when it comes to mortgage lending that there are significant discrepancies between different racial groups when it comes to loan approval in similar income and loan amount brackets. Our null hypothesis is that there is no significant discrepancy between loan appovals by race within similar income and loan amount brackets. "
   ]
  },
  {
   "cell_type": "markdown",
   "metadata": {},
   "source": [
    "## Regarding Application Status Based on Race"
   ]
  },
  {
   "cell_type": "code",
   "execution_count": 3,
   "metadata": {},
   "outputs": [],
   "source": [
    "df_race_action = df_2017[['action_taken_name','action_taken','applicant_race_name_1','applicant_race_1']]"
   ]
  },
  {
   "cell_type": "code",
   "execution_count": 4,
   "metadata": {},
   "outputs": [],
   "source": [
    "white_action = df_race_action[df_race_action['applicant_race_1'] == 5]"
   ]
  },
  {
   "cell_type": "markdown",
   "metadata": {},
   "source": [
    "The key for actions is as follows: 1 represents loan originated, 2 represents application approved but not accepted, 3 represents application denied by financial institution, 4 represents application withdrawn by applicant, 5 represents file closed for incompleteness, 6 represents loan purchased by institution, 7 represents Preapproval request denied by financial institution, and 8 represents Preapproval request approved but not accepted (optional reporting)."
   ]
  },
  {
   "cell_type": "markdown",
   "metadata": {},
   "source": [
    "These are the loan actions taken for white applicants."
   ]
  },
  {
   "cell_type": "code",
   "execution_count": 5,
   "metadata": {},
   "outputs": [
    {
     "data": {
      "text/plain": [
       "1    58.993101\n",
       "3    13.936836\n",
       "4    12.444372\n",
       "6     6.344793\n",
       "5     4.211396\n",
       "2     3.129952\n",
       "7     0.666690\n",
       "8     0.272859\n",
       "Name: action_taken, dtype: float64"
      ]
     },
     "execution_count": 5,
     "metadata": {},
     "output_type": "execute_result"
    }
   ],
   "source": [
    "white_action['action_taken'].value_counts(normalize=True) * 100"
   ]
  },
  {
   "cell_type": "code",
   "execution_count": 6,
   "metadata": {},
   "outputs": [],
   "source": [
    "black_action = df_race_action[df_race_action['applicant_race_1'] == 3]"
   ]
  },
  {
   "cell_type": "markdown",
   "metadata": {},
   "source": [
    "These are the loan actions taken for Black applicants."
   ]
  },
  {
   "cell_type": "code",
   "execution_count": 7,
   "metadata": {},
   "outputs": [
    {
     "data": {
      "text/plain": [
       "1    45.334724\n",
       "3    24.862152\n",
       "4    14.197212\n",
       "5     5.989391\n",
       "6     3.897338\n",
       "2     3.360810\n",
       "7     2.195089\n",
       "8     0.163283\n",
       "Name: action_taken, dtype: float64"
      ]
     },
     "execution_count": 7,
     "metadata": {},
     "output_type": "execute_result"
    }
   ],
   "source": [
    "black_action['action_taken'].value_counts(normalize=True) * 100"
   ]
  },
  {
   "cell_type": "code",
   "execution_count": 8,
   "metadata": {},
   "outputs": [],
   "source": [
    "na_action = df_race_action[df_race_action['applicant_race_1'] == 1]"
   ]
  },
  {
   "cell_type": "markdown",
   "metadata": {},
   "source": [
    "These are the loan actions taken for Native American applicants."
   ]
  },
  {
   "cell_type": "code",
   "execution_count": 9,
   "metadata": {},
   "outputs": [
    {
     "data": {
      "text/plain": [
       "1    44.667299\n",
       "3    25.251852\n",
       "4    14.837391\n",
       "5     6.781764\n",
       "6     3.629959\n",
       "2     3.164580\n",
       "7     1.488302\n",
       "8     0.178852\n",
       "Name: action_taken, dtype: float64"
      ]
     },
     "execution_count": 9,
     "metadata": {},
     "output_type": "execute_result"
    }
   ],
   "source": [
    "na_action['action_taken'].value_counts(normalize=True) * 100"
   ]
  },
  {
   "cell_type": "markdown",
   "metadata": {},
   "source": [
    "These are the loan actions taken for Asian applicants."
   ]
  },
  {
   "cell_type": "code",
   "execution_count": 10,
   "metadata": {},
   "outputs": [
    {
     "data": {
      "text/plain": [
       "1    58.277401\n",
       "4    13.691896\n",
       "3    12.536359\n",
       "6     6.712867\n",
       "5     4.321741\n",
       "2     3.233973\n",
       "7     0.732019\n",
       "8     0.493744\n",
       "Name: action_taken, dtype: float64"
      ]
     },
     "execution_count": 10,
     "metadata": {},
     "output_type": "execute_result"
    }
   ],
   "source": [
    "asian_action = df_race_action[df_race_action['applicant_race_1'] == 2]\n",
    "asian_action['action_taken'].value_counts(normalize=True) * 100"
   ]
  },
  {
   "cell_type": "markdown",
   "metadata": {},
   "source": [
    "These are the loan actions taken for Native Hawaiian or other Pacific Islander applicants."
   ]
  },
  {
   "cell_type": "code",
   "execution_count": 11,
   "metadata": {},
   "outputs": [
    {
     "data": {
      "text/plain": [
       "1    51.913531\n",
       "3    18.328900\n",
       "4    14.479814\n",
       "5     5.507649\n",
       "6     4.997713\n",
       "2     3.015569\n",
       "7     1.597574\n",
       "8     0.159249\n",
       "Name: action_taken, dtype: float64"
      ]
     },
     "execution_count": 11,
     "metadata": {},
     "output_type": "execute_result"
    }
   ],
   "source": [
    "pa_action = df_race_action[df_race_action['applicant_race_1'] == 4]\n",
    "pa_action['action_taken'].value_counts(normalize=True) * 100"
   ]
  },
  {
   "cell_type": "markdown",
   "metadata": {},
   "source": [
    "When looking at the rates of rejection for different racial groups, this is what comes up. This shows a significant discrepancy between rejection rates based on race, with the rates for Black and Native American applicants being almost double that of White and Asian applicants. "
   ]
  },
  {
   "cell_type": "code",
   "execution_count": 12,
   "metadata": {},
   "outputs": [
    {
     "data": {
      "image/png": "[encoded data removed]",
      "text/plain": [
       "<Figure size 432x288 with 1 Axes>"
      ]
     },
     "metadata": {
      "needs_background": "light"
     },
     "output_type": "display_data"
    }
   ],
   "source": [
    "race = ['White', 'Black', 'Native American', 'Asian', 'Pacific Islander']\n",
    "reject = [13.936836, 24.862152, 25.251852, 13.691896, 18.328900]\n",
    "\n",
    "plt.bar(race, reject)\n",
    "plt.title('Percentage of Loan Application Rejection by Race')\n",
    "plt.xlabel('Race')\n",
    "plt.ylabel('Percentage of Rejected Applications')\n",
    "plt.show()"
   ]
  },
  {
   "cell_type": "markdown",
   "metadata": {},
   "source": [
    "## Regarding Application Status Based on Sex of Applicant and Co-Applicant"
   ]
  },
  {
   "cell_type": "code",
   "execution_count": 13,
   "metadata": {},
   "outputs": [],
   "source": [
    "df_action_gender = df_2017[['applicant_sex_name','applicant_sex','co_applicant_sex_name','co_applicant_sex','action_taken_name','action_taken']]"
   ]
  },
  {
   "cell_type": "markdown",
   "metadata": {},
   "source": [
    "The key for actions is as follows: 1 represents loan originated, 2 represents application approved but not accepted, 3 represents application denied by financial institution, 4 represents application withdrawn by applicant, 5 represents file closed for incompleteness, 6 represents loan purchased by institution, 7 represents Preapproval request denied by financial institution, and 8 represents Preapproval request approved but not accepted (optional reporting)."
   ]
  },
  {
   "cell_type": "markdown",
   "metadata": {},
   "source": [
    "These are the loan actions taken when the main applicant is male and the co-applicant is female."
   ]
  },
  {
   "cell_type": "code",
   "execution_count": 14,
   "metadata": {},
   "outputs": [
    {
     "data": {
      "text/plain": [
       "1    61.082976\n",
       "4    12.395166\n",
       "3    11.823354\n",
       "6     6.582495\n",
       "5     4.188526\n",
       "2     3.055464\n",
       "7     0.595727\n",
       "8     0.276292\n",
       "Name: action_taken, dtype: float64"
      ]
     },
     "execution_count": 14,
     "metadata": {},
     "output_type": "execute_result"
    }
   ],
   "source": [
    "m_f = df_action_gender[(df_action_gender['applicant_sex']==1) & (df_action_gender['co_applicant_sex'] == 2)]\n",
    "m_f['action_taken'].value_counts(normalize=True) * 100"
   ]
  },
  {
   "cell_type": "markdown",
   "metadata": {},
   "source": [
    "These are the loan actions taken when the main applicant is female and the co-applicant is male."
   ]
  },
  {
   "cell_type": "code",
   "execution_count": 15,
   "metadata": {},
   "outputs": [
    {
     "data": {
      "text/plain": [
       "1    58.772253\n",
       "3    14.716190\n",
       "4    12.203630\n",
       "6     5.869638\n",
       "5     4.144491\n",
       "2     3.055725\n",
       "7     0.913898\n",
       "8     0.324175\n",
       "Name: action_taken, dtype: float64"
      ]
     },
     "execution_count": 15,
     "metadata": {},
     "output_type": "execute_result"
    }
   ],
   "source": [
    "f_m = df_action_gender[(df_action_gender['applicant_sex']==2) & (df_action_gender['co_applicant_sex'] == 1)]\n",
    "f_m['action_taken'].value_counts(normalize=True) * 100"
   ]
  },
  {
   "cell_type": "markdown",
   "metadata": {},
   "source": [
    "These are the loan actions taken when the main applicant is male and the co-applicant is male."
   ]
  },
  {
   "cell_type": "code",
   "execution_count": 16,
   "metadata": {},
   "outputs": [
    {
     "data": {
      "text/plain": [
       "1    58.003196\n",
       "3    15.100793\n",
       "4    11.925589\n",
       "6     7.169793\n",
       "5     3.974963\n",
       "2     2.903945\n",
       "7     0.735274\n",
       "8     0.186447\n",
       "Name: action_taken, dtype: float64"
      ]
     },
     "execution_count": 16,
     "metadata": {},
     "output_type": "execute_result"
    }
   ],
   "source": [
    "m_m = df_action_gender[(df_action_gender['applicant_sex']==1) & (df_action_gender['co_applicant_sex'] == 1)]\n",
    "m_m['action_taken'].value_counts(normalize=True) * 100"
   ]
  },
  {
   "cell_type": "markdown",
   "metadata": {},
   "source": [
    "These are the loan actions taken when the main applicant is female and the co-applicant is female."
   ]
  },
  {
   "cell_type": "code",
   "execution_count": 17,
   "metadata": {},
   "outputs": [
    {
     "data": {
      "text/plain": [
       "1    55.149407\n",
       "3    17.625607\n",
       "4    12.118420\n",
       "6     6.512960\n",
       "5     4.525981\n",
       "2     2.909834\n",
       "7     0.953566\n",
       "8     0.204226\n",
       "Name: action_taken, dtype: float64"
      ]
     },
     "execution_count": 17,
     "metadata": {},
     "output_type": "execute_result"
    }
   ],
   "source": [
    "f_f = df_action_gender[(df_action_gender['applicant_sex']==2) & (df_action_gender['co_applicant_sex'] == 2)]\n",
    "f_f['action_taken'].value_counts(normalize=True) * 100"
   ]
  },
  {
   "cell_type": "markdown",
   "metadata": {},
   "source": [
    "## Looking Into Reasons for Denial By Race"
   ]
  },
  {
   "cell_type": "code",
   "execution_count": 18,
   "metadata": {},
   "outputs": [],
   "source": [
    "df_denials = df_2017[['action_taken_name','action_taken','applicant_race_name_1','applicant_race_1',\n",
    "                     'denial_reason_name_1', 'denial_reason_1', 'denial_reason_name_2',\n",
    "                      'denial_reason_2', 'denial_reason_name_3', 'denial_reason_3',]]"
   ]
  },
  {
   "cell_type": "markdown",
   "metadata": {},
   "source": [
    "The key for denial reasons are as follows: 1 represents Debt-to-income ratio, 2 represents Employment history, 3 represents Credit history, 4 represents Collateral, 5 represents Insufficient cash (downpayment, closing costs), 6 represents Unverifiable information, 7 represents Credit application incomplete, 8 represents Mortgage insurance denied, and 9 represents Other."
   ]
  },
  {
   "cell_type": "markdown",
   "metadata": {},
   "source": [
    "This is the distribution of denial reasons for Native Americans applicants. "
   ]
  },
  {
   "cell_type": "code",
   "execution_count": 19,
   "metadata": {},
   "outputs": [
    {
     "data": {
      "text/html": [
       "<div>\n",
       "<style scoped>\n",
       "    .dataframe tbody tr th:only-of-type {\n",
       "        vertical-align: middle;\n",
       "    }\n",
       "\n",
       "    .dataframe tbody tr th {\n",
       "        vertical-align: top;\n",
       "    }\n",
       "\n",
       "    .dataframe thead th {\n",
       "        text-align: right;\n",
       "    }\n",
       "</style>\n",
       "<table border=\"1\" class=\"dataframe\">\n",
       "  <thead>\n",
       "    <tr style=\"text-align: right;\">\n",
       "      <th></th>\n",
       "      <th>Denial Reason</th>\n",
       "      <th>Count</th>\n",
       "      <th>Percentage</th>\n",
       "    </tr>\n",
       "  </thead>\n",
       "  <tbody>\n",
       "    <tr>\n",
       "      <th>0</th>\n",
       "      <td>3</td>\n",
       "      <td>8328</td>\n",
       "      <td>0.369542</td>\n",
       "    </tr>\n",
       "    <tr>\n",
       "      <th>1</th>\n",
       "      <td>1</td>\n",
       "      <td>5798</td>\n",
       "      <td>0.257277</td>\n",
       "    </tr>\n",
       "    <tr>\n",
       "      <th>2</th>\n",
       "      <td>9</td>\n",
       "      <td>2381</td>\n",
       "      <td>0.105653</td>\n",
       "    </tr>\n",
       "    <tr>\n",
       "      <th>3</th>\n",
       "      <td>4</td>\n",
       "      <td>2147</td>\n",
       "      <td>0.095270</td>\n",
       "    </tr>\n",
       "    <tr>\n",
       "      <th>4</th>\n",
       "      <td>7</td>\n",
       "      <td>1740</td>\n",
       "      <td>0.077210</td>\n",
       "    </tr>\n",
       "    <tr>\n",
       "      <th>5</th>\n",
       "      <td>5</td>\n",
       "      <td>936</td>\n",
       "      <td>0.041534</td>\n",
       "    </tr>\n",
       "    <tr>\n",
       "      <th>6</th>\n",
       "      <td>6</td>\n",
       "      <td>777</td>\n",
       "      <td>0.034478</td>\n",
       "    </tr>\n",
       "    <tr>\n",
       "      <th>7</th>\n",
       "      <td>2</td>\n",
       "      <td>384</td>\n",
       "      <td>0.017039</td>\n",
       "    </tr>\n",
       "    <tr>\n",
       "      <th>8</th>\n",
       "      <td>8</td>\n",
       "      <td>45</td>\n",
       "      <td>0.001997</td>\n",
       "    </tr>\n",
       "  </tbody>\n",
       "</table>\n",
       "</div>"
      ],
      "text/plain": [
       "  Denial Reason  Count  Percentage\n",
       "0             3   8328    0.369542\n",
       "1             1   5798    0.257277\n",
       "2             9   2381    0.105653\n",
       "3             4   2147    0.095270\n",
       "4             7   1740    0.077210\n",
       "5             5    936    0.041534\n",
       "6             6    777    0.034478\n",
       "7             2    384    0.017039\n",
       "8             8     45    0.001997"
      ]
     },
     "execution_count": 19,
     "metadata": {},
     "output_type": "execute_result"
    }
   ],
   "source": [
    "na_denial = df_denials[df_denials['applicant_race_1'] == 1]\n",
    "na_counts = na_denial[['denial_reason_1','denial_reason_2','denial_reason_3']]\n",
    "count = pd.Series(na_counts.squeeze().values.ravel()).value_counts()\n",
    "pd.DataFrame({'Denial Reason': count.index, 'Count':count.values, 'Percentage':(count/count.sum()).values})"
   ]
  },
  {
   "cell_type": "markdown",
   "metadata": {},
   "source": [
    "This is the distribution of denial reasons for Asian applicants. "
   ]
  },
  {
   "cell_type": "code",
   "execution_count": 20,
   "metadata": {},
   "outputs": [
    {
     "data": {
      "text/html": [
       "<div>\n",
       "<style scoped>\n",
       "    .dataframe tbody tr th:only-of-type {\n",
       "        vertical-align: middle;\n",
       "    }\n",
       "\n",
       "    .dataframe tbody tr th {\n",
       "        vertical-align: top;\n",
       "    }\n",
       "\n",
       "    .dataframe thead th {\n",
       "        text-align: right;\n",
       "    }\n",
       "</style>\n",
       "<table border=\"1\" class=\"dataframe\">\n",
       "  <thead>\n",
       "    <tr style=\"text-align: right;\">\n",
       "      <th></th>\n",
       "      <th>Denial Reason</th>\n",
       "      <th>Count</th>\n",
       "      <th>Percentage</th>\n",
       "    </tr>\n",
       "  </thead>\n",
       "  <tbody>\n",
       "    <tr>\n",
       "      <th>0</th>\n",
       "      <td>1</td>\n",
       "      <td>26872</td>\n",
       "      <td>0.318019</td>\n",
       "    </tr>\n",
       "    <tr>\n",
       "      <th>1</th>\n",
       "      <td>3</td>\n",
       "      <td>15163</td>\n",
       "      <td>0.179448</td>\n",
       "    </tr>\n",
       "    <tr>\n",
       "      <th>2</th>\n",
       "      <td>4</td>\n",
       "      <td>9839</td>\n",
       "      <td>0.116441</td>\n",
       "    </tr>\n",
       "    <tr>\n",
       "      <th>3</th>\n",
       "      <td>9</td>\n",
       "      <td>9304</td>\n",
       "      <td>0.110109</td>\n",
       "    </tr>\n",
       "    <tr>\n",
       "      <th>4</th>\n",
       "      <td>7</td>\n",
       "      <td>9289</td>\n",
       "      <td>0.109932</td>\n",
       "    </tr>\n",
       "    <tr>\n",
       "      <th>5</th>\n",
       "      <td>6</td>\n",
       "      <td>6302</td>\n",
       "      <td>0.074582</td>\n",
       "    </tr>\n",
       "    <tr>\n",
       "      <th>6</th>\n",
       "      <td>5</td>\n",
       "      <td>5325</td>\n",
       "      <td>0.063019</td>\n",
       "    </tr>\n",
       "    <tr>\n",
       "      <th>7</th>\n",
       "      <td>2</td>\n",
       "      <td>2253</td>\n",
       "      <td>0.026663</td>\n",
       "    </tr>\n",
       "    <tr>\n",
       "      <th>8</th>\n",
       "      <td>8</td>\n",
       "      <td>151</td>\n",
       "      <td>0.001787</td>\n",
       "    </tr>\n",
       "  </tbody>\n",
       "</table>\n",
       "</div>"
      ],
      "text/plain": [
       "  Denial Reason  Count  Percentage\n",
       "0             1  26872    0.318019\n",
       "1             3  15163    0.179448\n",
       "2             4   9839    0.116441\n",
       "3             9   9304    0.110109\n",
       "4             7   9289    0.109932\n",
       "5             6   6302    0.074582\n",
       "6             5   5325    0.063019\n",
       "7             2   2253    0.026663\n",
       "8             8    151    0.001787"
      ]
     },
     "execution_count": 20,
     "metadata": {},
     "output_type": "execute_result"
    }
   ],
   "source": [
    "as_denial = df_denials[df_denials['applicant_race_1'] == 2]\n",
    "as_counts = as_denial[['denial_reason_1','denial_reason_2','denial_reason_3']]\n",
    "count = pd.Series(as_counts.squeeze().values.ravel()).value_counts()\n",
    "pd.DataFrame({'Denial Reason': count.index, 'Count':count.values, 'Percentage':(count/count.sum()).values})"
   ]
  },
  {
   "cell_type": "markdown",
   "metadata": {},
   "source": [
    "This is the distribution of denial reasons for Black applicants. "
   ]
  },
  {
   "cell_type": "code",
   "execution_count": 21,
   "metadata": {},
   "outputs": [
    {
     "data": {
      "text/html": [
       "<div>\n",
       "<style scoped>\n",
       "    .dataframe tbody tr th:only-of-type {\n",
       "        vertical-align: middle;\n",
       "    }\n",
       "\n",
       "    .dataframe tbody tr th {\n",
       "        vertical-align: top;\n",
       "    }\n",
       "\n",
       "    .dataframe thead th {\n",
       "        text-align: right;\n",
       "    }\n",
       "</style>\n",
       "<table border=\"1\" class=\"dataframe\">\n",
       "  <thead>\n",
       "    <tr style=\"text-align: right;\">\n",
       "      <th></th>\n",
       "      <th>Denial Reason</th>\n",
       "      <th>Count</th>\n",
       "      <th>Percentage</th>\n",
       "    </tr>\n",
       "  </thead>\n",
       "  <tbody>\n",
       "    <tr>\n",
       "      <th>0</th>\n",
       "      <td>3</td>\n",
       "      <td>86281</td>\n",
       "      <td>0.373391</td>\n",
       "    </tr>\n",
       "    <tr>\n",
       "      <th>1</th>\n",
       "      <td>1</td>\n",
       "      <td>58779</td>\n",
       "      <td>0.254373</td>\n",
       "    </tr>\n",
       "    <tr>\n",
       "      <th>2</th>\n",
       "      <td>9</td>\n",
       "      <td>25282</td>\n",
       "      <td>0.109411</td>\n",
       "    </tr>\n",
       "    <tr>\n",
       "      <th>3</th>\n",
       "      <td>4</td>\n",
       "      <td>21887</td>\n",
       "      <td>0.094719</td>\n",
       "    </tr>\n",
       "    <tr>\n",
       "      <th>4</th>\n",
       "      <td>7</td>\n",
       "      <td>15457</td>\n",
       "      <td>0.066892</td>\n",
       "    </tr>\n",
       "    <tr>\n",
       "      <th>5</th>\n",
       "      <td>5</td>\n",
       "      <td>12601</td>\n",
       "      <td>0.054532</td>\n",
       "    </tr>\n",
       "    <tr>\n",
       "      <th>6</th>\n",
       "      <td>6</td>\n",
       "      <td>6923</td>\n",
       "      <td>0.029960</td>\n",
       "    </tr>\n",
       "    <tr>\n",
       "      <th>7</th>\n",
       "      <td>2</td>\n",
       "      <td>3472</td>\n",
       "      <td>0.015025</td>\n",
       "    </tr>\n",
       "    <tr>\n",
       "      <th>8</th>\n",
       "      <td>8</td>\n",
       "      <td>392</td>\n",
       "      <td>0.001696</td>\n",
       "    </tr>\n",
       "  </tbody>\n",
       "</table>\n",
       "</div>"
      ],
      "text/plain": [
       "  Denial Reason  Count  Percentage\n",
       "0             3  86281    0.373391\n",
       "1             1  58779    0.254373\n",
       "2             9  25282    0.109411\n",
       "3             4  21887    0.094719\n",
       "4             7  15457    0.066892\n",
       "5             5  12601    0.054532\n",
       "6             6   6923    0.029960\n",
       "7             2   3472    0.015025\n",
       "8             8    392    0.001696"
      ]
     },
     "execution_count": 21,
     "metadata": {},
     "output_type": "execute_result"
    }
   ],
   "source": [
    "bl_denial = df_denials[df_denials['applicant_race_1'] == 3]\n",
    "bl_counts = bl_denial[['denial_reason_1','denial_reason_2','denial_reason_3']]\n",
    "count = pd.Series(bl_counts.squeeze().values.ravel()).value_counts()\n",
    "pd.DataFrame({'Denial Reason': count.index, 'Count':count.values, 'Percentage':(count/count.sum()).values})"
   ]
  },
  {
   "cell_type": "markdown",
   "metadata": {},
   "source": [
    "This is the distribution of denial reasons for Native Hawaiian or other Pacific Islander applicants. "
   ]
  },
  {
   "cell_type": "code",
   "execution_count": 22,
   "metadata": {},
   "outputs": [
    {
     "data": {
      "text/html": [
       "<div>\n",
       "<style scoped>\n",
       "    .dataframe tbody tr th:only-of-type {\n",
       "        vertical-align: middle;\n",
       "    }\n",
       "\n",
       "    .dataframe tbody tr th {\n",
       "        vertical-align: top;\n",
       "    }\n",
       "\n",
       "    .dataframe thead th {\n",
       "        text-align: right;\n",
       "    }\n",
       "</style>\n",
       "<table border=\"1\" class=\"dataframe\">\n",
       "  <thead>\n",
       "    <tr style=\"text-align: right;\">\n",
       "      <th></th>\n",
       "      <th>Denial Reason</th>\n",
       "      <th>Count</th>\n",
       "      <th>Percentage</th>\n",
       "    </tr>\n",
       "  </thead>\n",
       "  <tbody>\n",
       "    <tr>\n",
       "      <th>0</th>\n",
       "      <td>3</td>\n",
       "      <td>3395</td>\n",
       "      <td>0.313221</td>\n",
       "    </tr>\n",
       "    <tr>\n",
       "      <th>1</th>\n",
       "      <td>1</td>\n",
       "      <td>3065</td>\n",
       "      <td>0.282775</td>\n",
       "    </tr>\n",
       "    <tr>\n",
       "      <th>2</th>\n",
       "      <td>9</td>\n",
       "      <td>1233</td>\n",
       "      <td>0.113756</td>\n",
       "    </tr>\n",
       "    <tr>\n",
       "      <th>3</th>\n",
       "      <td>4</td>\n",
       "      <td>1057</td>\n",
       "      <td>0.097518</td>\n",
       "    </tr>\n",
       "    <tr>\n",
       "      <th>4</th>\n",
       "      <td>7</td>\n",
       "      <td>887</td>\n",
       "      <td>0.081834</td>\n",
       "    </tr>\n",
       "    <tr>\n",
       "      <th>5</th>\n",
       "      <td>5</td>\n",
       "      <td>576</td>\n",
       "      <td>0.053141</td>\n",
       "    </tr>\n",
       "    <tr>\n",
       "      <th>6</th>\n",
       "      <td>6</td>\n",
       "      <td>411</td>\n",
       "      <td>0.037919</td>\n",
       "    </tr>\n",
       "    <tr>\n",
       "      <th>7</th>\n",
       "      <td>2</td>\n",
       "      <td>202</td>\n",
       "      <td>0.018636</td>\n",
       "    </tr>\n",
       "    <tr>\n",
       "      <th>8</th>\n",
       "      <td>8</td>\n",
       "      <td>13</td>\n",
       "      <td>0.001199</td>\n",
       "    </tr>\n",
       "  </tbody>\n",
       "</table>\n",
       "</div>"
      ],
      "text/plain": [
       "  Denial Reason  Count  Percentage\n",
       "0             3   3395    0.313221\n",
       "1             1   3065    0.282775\n",
       "2             9   1233    0.113756\n",
       "3             4   1057    0.097518\n",
       "4             7    887    0.081834\n",
       "5             5    576    0.053141\n",
       "6             6    411    0.037919\n",
       "7             2    202    0.018636\n",
       "8             8     13    0.001199"
      ]
     },
     "execution_count": 22,
     "metadata": {},
     "output_type": "execute_result"
    }
   ],
   "source": [
    "pa_denial = df_denials[df_denials['applicant_race_1'] == 4]\n",
    "pa_counts = pa_denial[['denial_reason_1','denial_reason_2','denial_reason_3']]\n",
    "count = pd.Series(pa_counts.squeeze().values.ravel()).value_counts()\n",
    "pd.DataFrame({'Denial Reason': count.index, 'Count':count.values, 'Percentage':(count/count.sum()).values})"
   ]
  },
  {
   "cell_type": "markdown",
   "metadata": {},
   "source": [
    "This is the distribution of denial reasons for White applicants. "
   ]
  },
  {
   "cell_type": "code",
   "execution_count": 23,
   "metadata": {},
   "outputs": [
    {
     "data": {
      "text/html": [
       "<div>\n",
       "<style scoped>\n",
       "    .dataframe tbody tr th:only-of-type {\n",
       "        vertical-align: middle;\n",
       "    }\n",
       "\n",
       "    .dataframe tbody tr th {\n",
       "        vertical-align: top;\n",
       "    }\n",
       "\n",
       "    .dataframe thead th {\n",
       "        text-align: right;\n",
       "    }\n",
       "</style>\n",
       "<table border=\"1\" class=\"dataframe\">\n",
       "  <thead>\n",
       "    <tr style=\"text-align: right;\">\n",
       "      <th></th>\n",
       "      <th>Denial Reason</th>\n",
       "      <th>Count</th>\n",
       "      <th>Percentage</th>\n",
       "    </tr>\n",
       "  </thead>\n",
       "  <tbody>\n",
       "    <tr>\n",
       "      <th>0</th>\n",
       "      <td>3</td>\n",
       "      <td>307209</td>\n",
       "      <td>0.277187</td>\n",
       "    </tr>\n",
       "    <tr>\n",
       "      <th>1</th>\n",
       "      <td>1</td>\n",
       "      <td>285249</td>\n",
       "      <td>0.257373</td>\n",
       "    </tr>\n",
       "    <tr>\n",
       "      <th>2</th>\n",
       "      <td>4</td>\n",
       "      <td>161464</td>\n",
       "      <td>0.145685</td>\n",
       "    </tr>\n",
       "    <tr>\n",
       "      <th>3</th>\n",
       "      <td>9</td>\n",
       "      <td>115495</td>\n",
       "      <td>0.104208</td>\n",
       "    </tr>\n",
       "    <tr>\n",
       "      <th>4</th>\n",
       "      <td>7</td>\n",
       "      <td>112956</td>\n",
       "      <td>0.101917</td>\n",
       "    </tr>\n",
       "    <tr>\n",
       "      <th>5</th>\n",
       "      <td>5</td>\n",
       "      <td>51627</td>\n",
       "      <td>0.046582</td>\n",
       "    </tr>\n",
       "    <tr>\n",
       "      <th>6</th>\n",
       "      <td>6</td>\n",
       "      <td>48620</td>\n",
       "      <td>0.043869</td>\n",
       "    </tr>\n",
       "    <tr>\n",
       "      <th>7</th>\n",
       "      <td>2</td>\n",
       "      <td>23504</td>\n",
       "      <td>0.021207</td>\n",
       "    </tr>\n",
       "    <tr>\n",
       "      <th>8</th>\n",
       "      <td>8</td>\n",
       "      <td>2185</td>\n",
       "      <td>0.001971</td>\n",
       "    </tr>\n",
       "  </tbody>\n",
       "</table>\n",
       "</div>"
      ],
      "text/plain": [
       "  Denial Reason   Count  Percentage\n",
       "0             3  307209    0.277187\n",
       "1             1  285249    0.257373\n",
       "2             4  161464    0.145685\n",
       "3             9  115495    0.104208\n",
       "4             7  112956    0.101917\n",
       "5             5   51627    0.046582\n",
       "6             6   48620    0.043869\n",
       "7             2   23504    0.021207\n",
       "8             8    2185    0.001971"
      ]
     },
     "execution_count": 23,
     "metadata": {},
     "output_type": "execute_result"
    }
   ],
   "source": [
    "wh_denial = df_denials[df_denials['applicant_race_1'] == 5]\n",
    "wh_counts = wh_denial[['denial_reason_1','denial_reason_2','denial_reason_3']]\n",
    "count = pd.Series(wh_counts.squeeze().values.ravel()).value_counts()\n",
    "pd.DataFrame({'Denial Reason': count.index, 'Count':count.values, 'Percentage':(count/count.sum()).values})"
   ]
  },
  {
   "cell_type": "markdown",
   "metadata": {},
   "source": [
    "## The Effects of Income on Loan Approval\n",
    "\n",
    "When we first looked into the exploratory data analysis on application statuses based on raced, we noticed significant disparities between different racial groups in terms of the percentages that were accepted for loans. We first wanted to see if there were other disparities that may have impacted these statistics. The first was to look into income data and see if there are major disparities here that may lead to certain racial groups seeing higher rates of rejection. "
   ]
  },
  {
   "cell_type": "code",
   "execution_count": 24,
   "metadata": {},
   "outputs": [
    {
     "data": {
      "text/plain": [
       "applicant_race_1\n",
       "1     66.0\n",
       "2    107.0\n",
       "3     64.0\n",
       "4     80.0\n",
       "5     78.0\n",
       "6     84.0\n",
       "7     77.0\n",
       "Name: applicant_income_000s, dtype: float64"
      ]
     },
     "execution_count": 24,
     "metadata": {},
     "output_type": "execute_result"
    }
   ],
   "source": [
    "df_2017.groupby(['applicant_race_1'])['applicant_income_000s'].median()"
   ]
  },
  {
   "cell_type": "code",
   "execution_count": 25,
   "metadata": {},
   "outputs": [
    {
     "data": {
      "image/png": "[encoded data removed]",
      "text/plain": [
       "<Figure size 432x288 with 1 Axes>"
      ]
     },
     "metadata": {
      "needs_background": "light"
     },
     "output_type": "display_data"
    }
   ],
   "source": [
    "race = ['White', 'Black', 'Native American', 'Asian', 'Pacific Islander']\n",
    "reject = [78.0, 64.0, 66.0, 107.0, 80.0]\n",
    "\n",
    "plt.bar(race, reject)\n",
    "plt.title('Median Incomes by Race')\n",
    "plt.xlabel('Race')\n",
    "plt.ylabel('Median Income (In Thousands)')\n",
    "plt.show()"
   ]
  },
  {
   "cell_type": "markdown",
   "metadata": {},
   "source": [
    "From the above statistics, we can see that the median incomes of each racial group roughly coincides with the acceptance rates on loans. The one discrepancy we see is with Native Hawaiian or other Pacific Islander applicants, which in the case of median show a slightly higher median income compared to White applicants depsite having a 7% lower acceptance rate. We believe that this may be due to a limited sample of this group of applicants in this dataset compared to White applicants, but it is possible that this could point to a significant inequity in this system. The main takeaway was that median incomes show relations to the rates of application acceptance, with White and Asian applicants showing higher rates of loan approvals along with higher median incomes while Black and Native American applicants showed lower median incomes and lower rates of loan approvals. "
   ]
  },
  {
   "cell_type": "code",
   "execution_count": 26,
   "metadata": {},
   "outputs": [
    {
     "data": {
      "text/plain": [
       "Index(['as_of_year', 'respondent_id', 'agency_name', 'agency_abbr',\n",
       "       'agency_code', 'loan_type_name', 'loan_type', 'property_type_name',\n",
       "       'property_type', 'loan_purpose_name', 'loan_purpose',\n",
       "       'owner_occupancy_name', 'owner_occupancy', 'loan_amount_000s',\n",
       "       'preapproval_name', 'preapproval', 'action_taken_name', 'action_taken',\n",
       "       'msamd_name', 'msamd', 'state_name', 'state_abbr', 'state_code',\n",
       "       'county_name', 'county_code', 'census_tract_number',\n",
       "       'applicant_ethnicity_name', 'applicant_ethnicity',\n",
       "       'co_applicant_ethnicity_name', 'co_applicant_ethnicity',\n",
       "       'applicant_race_name_1', 'applicant_race_1', 'applicant_race_name_2',\n",
       "       'applicant_race_2', 'applicant_race_name_3', 'applicant_race_3',\n",
       "       'applicant_race_name_4', 'applicant_race_4', 'applicant_race_name_5',\n",
       "       'applicant_race_5', 'co_applicant_race_name_1', 'co_applicant_race_1',\n",
       "       'co_applicant_race_name_2', 'co_applicant_race_2',\n",
       "       'co_applicant_race_name_3', 'co_applicant_race_3',\n",
       "       'co_applicant_race_name_4', 'co_applicant_race_4',\n",
       "       'co_applicant_race_name_5', 'co_applicant_race_5', 'applicant_sex_name',\n",
       "       'applicant_sex', 'co_applicant_sex_name', 'co_applicant_sex',\n",
       "       'applicant_income_000s', 'purchaser_type_name', 'purchaser_type',\n",
       "       'denial_reason_name_1', 'denial_reason_1', 'denial_reason_name_2',\n",
       "       'denial_reason_2', 'denial_reason_name_3', 'denial_reason_3',\n",
       "       'rate_spread', 'hoepa_status_name', 'hoepa_status', 'lien_status_name',\n",
       "       'lien_status', 'edit_status_name', 'edit_status', 'sequence_number',\n",
       "       'population', 'minority_population', 'hud_median_family_income',\n",
       "       'tract_to_msamd_income', 'number_of_owner_occupied_units',\n",
       "       'number_of_1_to_4_family_units', 'application_date_indicator'],\n",
       "      dtype='object')"
      ]
     },
     "execution_count": 26,
     "metadata": {},
     "output_type": "execute_result"
    }
   ],
   "source": [
    "df_2017.columns"
   ]
  },
  {
   "cell_type": "markdown",
   "metadata": {},
   "source": [
    "## A Look Into Median Loan Amounts Taken by Each Group\n",
    "\n",
    "To look further into this disparity, we wanted to look into the median loan amounts that are seen by these different racial groups. From here, we hope to compare the amounts relative to income and see if there is a significant disparity between different racial groups receiving different results despite having similar financial conditions and loan requests. "
   ]
  },
  {
   "cell_type": "code",
   "execution_count": 27,
   "metadata": {},
   "outputs": [
    {
     "data": {
      "text/plain": [
       "applicant_race_1\n",
       "1    150.0\n",
       "2    293.0\n",
       "3    157.0\n",
       "4    229.0\n",
       "5    180.0\n",
       "6    194.0\n",
       "7    190.0\n",
       "Name: loan_amount_000s, dtype: float64"
      ]
     },
     "execution_count": 27,
     "metadata": {},
     "output_type": "execute_result"
    }
   ],
   "source": [
    "df_2017.groupby(['applicant_race_1'])['loan_amount_000s'].median()"
   ]
  },
  {
   "cell_type": "code",
   "execution_count": 28,
   "metadata": {},
   "outputs": [
    {
     "data": {
      "image/png": "[encoded data removed]",
      "text/plain": [
       "<Figure size 432x288 with 1 Axes>"
      ]
     },
     "metadata": {
      "needs_background": "light"
     },
     "output_type": "display_data"
    }
   ],
   "source": [
    "race = ['White', 'Black', 'Native American', 'Asian', 'Pacific Islander']\n",
    "reject = [180.0, 157.0, 150.0, 293.0, 229.0]\n",
    "\n",
    "plt.bar(race, reject)\n",
    "plt.title('Median Loan Amounts by Race')\n",
    "plt.xlabel('Race')\n",
    "plt.ylabel('Median Loan Amount (In Thousands)')\n",
    "plt.show()"
   ]
  },
  {
   "cell_type": "markdown",
   "metadata": {},
   "source": [
    "Through this, we can see that the difference between White, Black, and Native American loan amounts is not as significant as the difference in rejection rates or even income. "
   ]
  },
  {
   "cell_type": "markdown",
   "metadata": {},
   "source": [
    "## The Relationship Between Amount Loaned and Income\n",
    "\n",
    "To further dive into any disparities in this area, we wanted to look into the relationship between the amount loaned and the income of the people applying for them. To do this, we created a column that took the ratio of loan amount by income, grouped by each racial group, and took the median. We believe that if all these values are similar that there is a sign of inequity in the lending data based on racial groups. "
   ]
  },
  {
   "cell_type": "code",
   "execution_count": 29,
   "metadata": {},
   "outputs": [],
   "source": [
    "df_2017['loan_to_income'] = df_2017['loan_amount_000s']/df_2017['applicant_income_000s']"
   ]
  },
  {
   "cell_type": "code",
   "execution_count": 30,
   "metadata": {},
   "outputs": [
    {
     "data": {
      "text/plain": [
       "applicant_race_1\n",
       "1    2.333333\n",
       "2    2.923913\n",
       "3    2.500000\n",
       "4    2.890625\n",
       "5    2.368421\n",
       "6    2.398148\n",
       "7    2.702703\n",
       "Name: loan_to_income, dtype: float64"
      ]
     },
     "execution_count": 30,
     "metadata": {},
     "output_type": "execute_result"
    }
   ],
   "source": [
    "df_2017.groupby(['applicant_race_1'])['loan_to_income'].median()      "
   ]
  },
  {
   "cell_type": "code",
   "execution_count": 31,
   "metadata": {},
   "outputs": [
    {
     "data": {
      "image/png": "[encoded data removed]",
      "text/plain": [
       "<Figure size 432x288 with 1 Axes>"
      ]
     },
     "metadata": {
      "needs_background": "light"
     },
     "output_type": "display_data"
    }
   ],
   "source": [
    "race = ['White', 'Black', 'Native American', 'Asian', 'Pacific Islander']\n",
    "reject = [2.368421, 2.500000, 2.333333, 2.923913, 2.890625]\n",
    "\n",
    "plt.bar(race, reject)\n",
    "plt.title('Median Loan Amount to Income Ratios by Race')\n",
    "plt.xlabel('Race')\n",
    "plt.ylabel('Median Loan Amount to Income Ratio')\n",
    "plt.show()"
   ]
  },
  {
   "cell_type": "markdown",
   "metadata": {},
   "source": [
    "When looking into the factors that developed these ratios, we wanted to rule out other factors that may skew the ratios. We know that some racial groups are more represented than other in this dataset, so we wanted to make sure that the number of loans may skew the averages of these ratios. In order to accomodate this, we used median as our measure to get a value that was more robust to significant outliers and numbers of loans. In terms of comparing loan amounts to incomes, our analysis in the past two charts indicate that the two scale with each other. This would mean that there are not many cases that would result in significant effects in our analysis except for in the case of Asian and Pacific Islander applicants. "
   ]
  },
  {
   "cell_type": "markdown",
   "metadata": {},
   "source": []
  },
  {
   "cell_type": "markdown",
   "metadata": {},
   "source": [
    "Sources:\n",
    "\n",
    "https://business.vanderbilt.edu/news/2020/07/20/racial-disparities-in-lending-markets/\n",
    "\n",
    "https://www.pnas.org/content/116/19/9293\n",
    "\n",
    "https://ncrc.org/wp-content/uploads/2009/07/ncrc%20nosheild%20june%2009.pdf\n",
    "\n",
    "https://www.bostonfed.org/publications/research-department-working-paper/1992/mortgage-lending-in-boston-interpreting-hmda-data.aspx\n",
    "\n",
    "https://law.yale.edu/sites/default/files/documents/pdf/Intellectual_Life/ltw-Scanlon.pdf"
   ]
  }
 ],
 "metadata": {
  "kernelspec": {
   "display_name": "Python 3",
   "language": "python",
   "name": "python3"
  },
  "language_info": {
   "codemirror_mode": {
    "name": "ipython",
    "version": 3
   },
   "file_extension": ".py",
   "mimetype": "text/x-python",
   "name": "python",
   "nbconvert_exporter": "python",
   "pygments_lexer": "ipython3",
   "version": "3.7.1"
  }
 },
 "nbformat": 4,
 "nbformat_minor": 2
}
