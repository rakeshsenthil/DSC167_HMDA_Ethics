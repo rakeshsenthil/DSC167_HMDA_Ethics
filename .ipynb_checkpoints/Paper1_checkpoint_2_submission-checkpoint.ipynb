{
 "cells": [
  {
   "cell_type": "code",
   "execution_count": 1,
   "metadata": {},
   "outputs": [],
   "source": [
    "import pandas as pd\n",
    "import numpy as np\n",
    "import matplotlib.pyplot as plt"
   ]
  },
  {
   "cell_type": "code",
   "execution_count": 2,
   "metadata": {},
   "outputs": [
    {
     "name": "stderr",
     "output_type": "stream",
     "text": [
      "/Users/rakesh/anaconda3/lib/python3.7/site-packages/IPython/core/interactiveshell.py:3020: DtypeWarning: Columns (34,36,38,44,46,48) have mixed types.Specify dtype option on import or set low_memory=False.\n",
      "  interactivity=interactivity, compiler=compiler, result=result)\n"
     ]
    }
   ],
   "source": [
    "df_2017 = pd.read_csv('/Users/rakesh/Documents/DSC167/hmda_2017_nationwide_all-records_labels.csv', \n",
    "                      dtype = {'msamd': str, 'state_code': str, 'county_code': str, 'census_tract_number': str,\n",
    "                              'denial_reason_1':str, 'denial_reason_2': str, 'denial_reason_3': str})"
   ]
  },
  {
   "cell_type": "markdown",
   "metadata": {},
   "source": [
    "# Rakesh Senthilvelan and Shin Ehara"
   ]
  },
  {
   "cell_type": "markdown",
   "metadata": {},
   "source": [
    "## Introduction\n",
    "\n",
    "When it comes to lending, there have always been disparities between different groups of people in terms of acceptance and accessibility. There have been numerous ways in which discrimination has been employed throughout the years, with lending being one of the largest areas. We wanted to examine the disparities that exist between groups based on race, gender, and sexual orientation among others. The reason we came to these disparities was based on reading previous works done through research institutions such as Vanderbilt University (https://business.vanderbilt.edu/news/2020/07/20/racial-disparities-in-lending-markets/), Proceedings of the National Academy of Sciences of the United States of America (https://www.pnas.org/content/116/19/9293), and the National Community Reinvestment Coalition (https://ncrc.org/wp-content/uploads/2009/07/ncrc%20nosheild%20june%2009.pdf). We wanted to see the specificities of these disparities in terms of how they are carried out in the real world, whether certain other inequities have a domino effect towards lending data, and what potential solutions there may be to this disparity. To look into this, we took in data from the HMDA, short for the Home Mortgage Disclosure Act, which will show data on loan applications for houses. We will be able to see many factors such as race, gender of applicant and co-applicant, income bracket, reason for loan denial, and more. Throughout the research project, we will dive into different areas of discrimination or bias seen in lending data provided by the HMDA in 2017, finding the reasons behind them, and looking into potential areas that will need to be addressed by lenders in the future for a more equitbale experience for everybody."
   ]
  },
  {
   "cell_type": "markdown",
   "metadata": {},
   "source": [
    "## Justification for the Data in Approaching the Problem at Hand"
   ]
  },
  {
   "cell_type": "markdown",
   "metadata": {},
   "source": [
    "The data provided by HMDA dataset provides a lot of insight into the inequities that are present in loans. The data in question is the most recently available set to us, which is 2017. In the preliminary exploratory data analysis, we looked into three factors: application status based on race, application status based on the sex of the applicant and co-applicant, and the reasons for denial based on race. What we found in this step was interesting. In terms of application status based on race, we noticed significant discrepancies for loan approvals by race, with White and Asian applicants seeing approval ratings around 58%, Hawaiian Native and Pacfic Islander applicants around 51%, and Native American and Black applicants around 44-45%. This shows a significant gap in loan approval ratings between racial groups and this is something we look to further examine in our paper. For the sex of applicant and co-applicant, we wanted to see if there were any significant discrepancies. While we cannot assume that an applicant and a co-applicant would be in a relationship, we thought it would be important to see the approval and rejection ratings for these combinations. What we noted was that generally, applications where a male is the applicant and a female is a co-applicant have the highest approval rating at around 61%, with female applicant and male co-applicant following at 58.8%, male applicant and co-applicant at 58%, and female appplicant and co-applicant at 55.1%. We noticed somewhat significant differences between these rates and we look to further explore this area. Finally, we looked at reasons for rejection by race. While the rankings of denial reasons were roughly similar amongst all groups, we noticed some differences in the percentages that these reasons made up for each group. We believe this will be an interesting area to further examine in the final paper. Based on our EDA, we found numerous statistical differences in the loan data that would potentially point to inequities in this system of America. As a result, this dataset is a strong source to examine the problem at hand and examine the specificities of this inequity in our society."
   ]
  },
  {
   "cell_type": "markdown",
   "metadata": {},
   "source": [
    "## Where Does the Data Have Shortcomings?\n",
    "\n",
    "The data is limited in a few ways. The first is that this is limited to mortgage data from 2017, which limits the amount of overall lending data that is done in the country. Generally, there are many cases where people in this country would not or can not become home buyers. Looking into other, more accesible forms of loans such as car loans would have also been useful in studying the deeper parts of inequity in lending. In addition, there are many cases where the data in this set has missing or undisclosed values for race data. While there are still significant portions of the data that are labeled, there are a lot that have significant statistics attached to them but with race being disclosed as \"Information not disclosed by applicant in mail, Internet, or telephone application\" or \"Not applicable\". In the scope of our project, these data points are lost as we cannot decipher their meaning in relation to the inequity we are trying to spotlight. "
   ]
  },
  {
   "cell_type": "markdown",
   "metadata": {},
   "source": [
    "## The Context of the Inequity\n",
    "\n",
    "The financial inequities faced by minority populations is not a new concept. According to a report done in 1996 by the Federal Reserve Bank of Boston, it was found that there existed a discrepancy where, when it came to mortgage applications, \"minority applicants with the same economic and property characteristics as white applicants would experience a denial rate of 17 percent rather than the actual white denial rate of 11 percent\". To further understand this discepancy, we must look into concepts of equality. From an egalitarian perspective, this shows a significant discrepancy, with a look into the comparative nature of the above statement showing that there is not equal access to the opportunity of receiving a mortgage. From a Rawlisian perspective, this discrepancy does not entitle everybody from the same financial background to the same liberties and opportunities in purchasing a house. This shows that when looking at this research from multiple perspectives of equality, they universally conclude that there is inequality in this situation. However, this was in 1996, that brings forward the question. Has this inequity gotten better since then? In a study from Professor Mark Cohen of Vanderbilt University in July of 2020, it was found that \"African Americans pay twice the markup whites did\". This indicates that inequality still exists in the lending industry against minority groups when it comes to loan rejection rates and markups on properties. "
   ]
  },
  {
   "cell_type": "markdown",
   "metadata": {},
   "source": [
    "## Hypothesis\n",
    "\n",
    "Based on our preliminary exploratory data analysis and the historical context of this issue, we have the alternative hypothesis that when it comes to mortgage lending that there are significant discrepancies between different racial groups when it comes to loan approval in similar income and loan amount brackets. Our null hypothesis is that there is no significant discrepancy between loan appovals by race within similar income and loan amount brackets. "
   ]
  },
  {
   "cell_type": "markdown",
   "metadata": {},
   "source": [
    "## Regarding Application Status Based on Race"
   ]
  },
  {
   "cell_type": "code",
   "execution_count": 3,
   "metadata": {},
   "outputs": [],
   "source": [
    "df_race_action = df_2017[['action_taken_name','action_taken','applicant_race_name_1','applicant_race_1']]"
   ]
  },
  {
   "cell_type": "code",
   "execution_count": 4,
   "metadata": {},
   "outputs": [],
   "source": [
    "white_action = df_race_action[df_race_action['applicant_race_1'] == 5]"
   ]
  },
  {
   "cell_type": "markdown",
   "metadata": {},
   "source": [
    "The key for actions is as follows: 1 represents loan originated, 2 represents application approved but not accepted, 3 represents application denied by financial institution, 4 represents application withdrawn by applicant, 5 represents file closed for incompleteness, 6 represents loan purchased by institution, 7 represents Preapproval request denied by financial institution, and 8 represents Preapproval request approved but not accepted (optional reporting)."
   ]
  },
  {
   "cell_type": "markdown",
   "metadata": {},
   "source": [
    "These are the loan actions taken for white applicants."
   ]
  },
  {
   "cell_type": "code",
   "execution_count": 5,
   "metadata": {},
   "outputs": [
    {
     "data": {
      "text/plain": [
       "1    58.993101\n",
       "3    13.936836\n",
       "4    12.444372\n",
       "6     6.344793\n",
       "5     4.211396\n",
       "2     3.129952\n",
       "7     0.666690\n",
       "8     0.272859\n",
       "Name: action_taken, dtype: float64"
      ]
     },
     "execution_count": 5,
     "metadata": {},
     "output_type": "execute_result"
    }
   ],
   "source": [
    "white_action['action_taken'].value_counts(normalize=True) * 100"
   ]
  },
  {
   "cell_type": "code",
   "execution_count": 6,
   "metadata": {},
   "outputs": [],
   "source": [
    "black_action = df_race_action[df_race_action['applicant_race_1'] == 3]"
   ]
  },
  {
   "cell_type": "markdown",
   "metadata": {},
   "source": [
    "These are the loan actions taken for Black applicants."
   ]
  },
  {
   "cell_type": "code",
   "execution_count": 7,
   "metadata": {},
   "outputs": [
    {
     "data": {
      "text/plain": [
       "1    45.334724\n",
       "3    24.862152\n",
       "4    14.197212\n",
       "5     5.989391\n",
       "6     3.897338\n",
       "2     3.360810\n",
       "7     2.195089\n",
       "8     0.163283\n",
       "Name: action_taken, dtype: float64"
      ]
     },
     "execution_count": 7,
     "metadata": {},
     "output_type": "execute_result"
    }
   ],
   "source": [
    "black_action['action_taken'].value_counts(normalize=True) * 100"
   ]
  },
  {
   "cell_type": "code",
   "execution_count": 8,
   "metadata": {},
   "outputs": [],
   "source": [
    "na_action = df_race_action[df_race_action['applicant_race_1'] == 1]"
   ]
  },
  {
   "cell_type": "markdown",
   "metadata": {},
   "source": [
    "These are the loan actions taken for Native American applicants."
   ]
  },
  {
   "cell_type": "code",
   "execution_count": 9,
   "metadata": {},
   "outputs": [
    {
     "data": {
      "text/plain": [
       "1    44.667299\n",
       "3    25.251852\n",
       "4    14.837391\n",
       "5     6.781764\n",
       "6     3.629959\n",
       "2     3.164580\n",
       "7     1.488302\n",
       "8     0.178852\n",
       "Name: action_taken, dtype: float64"
      ]
     },
     "execution_count": 9,
     "metadata": {},
     "output_type": "execute_result"
    }
   ],
   "source": [
    "na_action['action_taken'].value_counts(normalize=True) * 100"
   ]
  },
  {
   "cell_type": "markdown",
   "metadata": {},
   "source": [
    "These are the loan actions taken for Asian applicants."
   ]
  },
  {
   "cell_type": "code",
   "execution_count": 10,
   "metadata": {},
   "outputs": [
    {
     "data": {
      "text/plain": [
       "1    58.277401\n",
       "4    13.691896\n",
       "3    12.536359\n",
       "6     6.712867\n",
       "5     4.321741\n",
       "2     3.233973\n",
       "7     0.732019\n",
       "8     0.493744\n",
       "Name: action_taken, dtype: float64"
      ]
     },
     "execution_count": 10,
     "metadata": {},
     "output_type": "execute_result"
    }
   ],
   "source": [
    "asian_action = df_race_action[df_race_action['applicant_race_1'] == 2]\n",
    "asian_action['action_taken'].value_counts(normalize=True) * 100"
   ]
  },
  {
   "cell_type": "markdown",
   "metadata": {},
   "source": [
    "These are the loan actions taken for Native Hawaiian or other Pacific Islander applicants."
   ]
  },
  {
   "cell_type": "code",
   "execution_count": 11,
   "metadata": {},
   "outputs": [
    {
     "data": {
      "text/plain": [
       "1    51.913531\n",
       "3    18.328900\n",
       "4    14.479814\n",
       "5     5.507649\n",
       "6     4.997713\n",
       "2     3.015569\n",
       "7     1.597574\n",
       "8     0.159249\n",
       "Name: action_taken, dtype: float64"
      ]
     },
     "execution_count": 11,
     "metadata": {},
     "output_type": "execute_result"
    }
   ],
   "source": [
    "pa_action = df_race_action[df_race_action['applicant_race_1'] == 4]\n",
    "pa_action['action_taken'].value_counts(normalize=True) * 100"
   ]
  },
  {
   "cell_type": "markdown",
   "metadata": {},
   "source": [
    "When looking at the rates of rejection for different racial groups, this is what comes up. This shows a significant discrepancy between rejection rates based on race, with the rates for Black and Native American applicants being almost double that of White and Asian applicants. "
   ]
  },
  {
   "cell_type": "code",
   "execution_count": 12,
   "metadata": {},
   "outputs": [
    {
     "data": {
      "image/png": "[encoded data removed]",
      "text/plain": [
       "<Figure size 432x288 with 1 Axes>"
      ]
     },
     "metadata": {
      "needs_background": "light"
     },
     "output_type": "display_data"
    }
   ],
   "source": [
    "race = ['White', 'Black', 'Native American', 'Asian', 'Pacific Islander']\n",
    "reject = [13.936836, 24.862152, 25.251852, 13.691896, 18.328900]\n",
    "\n",
    "plt.bar(race, reject)\n",
    "plt.title('Percentage of Loan Application Rejection by Race')\n",
    "plt.xlabel('Race')\n",
    "plt.ylabel('Percentage of Rejected Applications')\n",
    "plt.show()"
   ]
  },
  {
   "cell_type": "markdown",
   "metadata": {},
   "source": [
    "## Regarding Application Status Based on Sex of Applicant and Co-Applicant"
   ]
  },
  {
   "cell_type": "code",
   "execution_count": 13,
   "metadata": {},
   "outputs": [],
   "source": [
    "df_action_gender = df_2017[['applicant_sex_name','applicant_sex','co_applicant_sex_name','co_applicant_sex','action_taken_name','action_taken']]"
   ]
  },
  {
   "cell_type": "markdown",
   "metadata": {},
   "source": [
    "The key for actions is as follows: 1 represents loan originated, 2 represents application approved but not accepted, 3 represents application denied by financial institution, 4 represents application withdrawn by applicant, 5 represents file closed for incompleteness, 6 represents loan purchased by institution, 7 represents Preapproval request denied by financial institution, and 8 represents Preapproval request approved but not accepted (optional reporting)."
   ]
  },
  {
   "cell_type": "markdown",
   "metadata": {},
   "source": [
    "These are the loan actions taken when the main applicant is male and the co-applicant is female."
   ]
  },
  {
   "cell_type": "code",
   "execution_count": 14,
   "metadata": {},
   "outputs": [
    {
     "data": {
      "text/plain": [
       "1    61.082976\n",
       "4    12.395166\n",
       "3    11.823354\n",
       "6     6.582495\n",
       "5     4.188526\n",
       "2     3.055464\n",
       "7     0.595727\n",
       "8     0.276292\n",
       "Name: action_taken, dtype: float64"
      ]
     },
     "execution_count": 14,
     "metadata": {},
     "output_type": "execute_result"
    }
   ],
   "source": [
    "m_f = df_action_gender[(df_action_gender['applicant_sex']==1) & (df_action_gender['co_applicant_sex'] == 2)]\n",
    "m_f['action_taken'].value_counts(normalize=True) * 100"
   ]
  },
  {
   "cell_type": "markdown",
   "metadata": {},
   "source": [
    "These are the loan actions taken when the main applicant is female and the co-applicant is male."
   ]
  },
  {
   "cell_type": "code",
   "execution_count": 15,
   "metadata": {},
   "outputs": [
    {
     "data": {
      "text/plain": [
       "1    58.772253\n",
       "3    14.716190\n",
       "4    12.203630\n",
       "6     5.869638\n",
       "5     4.144491\n",
       "2     3.055725\n",
       "7     0.913898\n",
       "8     0.324175\n",
       "Name: action_taken, dtype: float64"
      ]
     },
     "execution_count": 15,
     "metadata": {},
     "output_type": "execute_result"
    }
   ],
   "source": [
    "f_m = df_action_gender[(df_action_gender['applicant_sex']==2) & (df_action_gender['co_applicant_sex'] == 1)]\n",
    "f_m['action_taken'].value_counts(normalize=True) * 100"
   ]
  },
  {
   "cell_type": "markdown",
   "metadata": {},
   "source": [
    "These are the loan actions taken when the main applicant is male and the co-applicant is male."
   ]
  },
  {
   "cell_type": "code",
   "execution_count": 16,
   "metadata": {},
   "outputs": [
    {
     "data": {
      "text/plain": [
       "1    58.003196\n",
       "3    15.100793\n",
       "4    11.925589\n",
       "6     7.169793\n",
       "5     3.974963\n",
       "2     2.903945\n",
       "7     0.735274\n",
       "8     0.186447\n",
       "Name: action_taken, dtype: float64"
      ]
     },
     "execution_count": 16,
     "metadata": {},
     "output_type": "execute_result"
    }
   ],
   "source": [
    "m_m = df_action_gender[(df_action_gender['applicant_sex']==1) & (df_action_gender['co_applicant_sex'] == 1)]\n",
    "m_m['action_taken'].value_counts(normalize=True) * 100"
   ]
  },
  {
   "cell_type": "markdown",
   "metadata": {},
   "source": [
    "These are the loan actions taken when the main applicant is female and the co-applicant is female."
   ]
  },
  {
   "cell_type": "code",
   "execution_count": 17,
   "metadata": {},
   "outputs": [
    {
     "data": {
      "text/plain": [
       "1    55.149407\n",
       "3    17.625607\n",
       "4    12.118420\n",
       "6     6.512960\n",
       "5     4.525981\n",
       "2     2.909834\n",
       "7     0.953566\n",
       "8     0.204226\n",
       "Name: action_taken, dtype: float64"
      ]
     },
     "execution_count": 17,
     "metadata": {},
     "output_type": "execute_result"
    }
   ],
   "source": [
    "f_f = df_action_gender[(df_action_gender['applicant_sex']==2) & (df_action_gender['co_applicant_sex'] == 2)]\n",
    "f_f['action_taken'].value_counts(normalize=True) * 100"
   ]
  },
  {
   "cell_type": "markdown",
   "metadata": {},
   "source": [
    "## Looking Into Reasons for Denial By Race"
   ]
  },
  {
   "cell_type": "code",
   "execution_count": 18,
   "metadata": {},
   "outputs": [],
   "source": [
    "df_denials = df_2017[['action_taken_name','action_taken','applicant_race_name_1','applicant_race_1',\n",
    "                     'denial_reason_name_1', 'denial_reason_1', 'denial_reason_name_2',\n",
    "                      'denial_reason_2', 'denial_reason_name_3', 'denial_reason_3',]]"
   ]
  },
  {
   "cell_type": "markdown",
   "metadata": {},
   "source": [
    "The key for denial reasons are as follows: 1 represents Debt-to-income ratio, 2 represents Employment history, 3 represents Credit history, 4 represents Collateral, 5 represents Insufficient cash (downpayment, closing costs), 6 represents Unverifiable information, 7 represents Credit application incomplete, 8 represents Mortgage insurance denied, and 9 represents Other."
   ]
  },
  {
   "cell_type": "markdown",
   "metadata": {},
   "source": [
    "This is the distribution of denial reasons for Native Americans applicants. "
   ]
  },
  {
   "cell_type": "code",
   "execution_count": 19,
   "metadata": {},
   "outputs": [
    {
     "data": {
      "text/html": [
       "<div>\n",
       "<style scoped>\n",
       "    .dataframe tbody tr th:only-of-type {\n",
       "        vertical-align: middle;\n",
       "    }\n",
       "\n",
       "    .dataframe tbody tr th {\n",
       "        vertical-align: top;\n",
       "    }\n",
       "\n",
       "    .dataframe thead th {\n",
       "        text-align: right;\n",
       "    }\n",
       "</style>\n",
       "<table border=\"1\" class=\"dataframe\">\n",
       "  <thead>\n",
       "    <tr style=\"text-align: right;\">\n",
       "      <th></th>\n",
       "      <th>Denial Reason</th>\n",
       "      <th>Count</th>\n",
       "      <th>Percentage</th>\n",
       "    </tr>\n",
       "  </thead>\n",
       "  <tbody>\n",
       "    <tr>\n",
       "      <th>0</th>\n",
       "      <td>3</td>\n",
       "      <td>8328</td>\n",
       "      <td>0.369542</td>\n",
       "    </tr>\n",
       "    <tr>\n",
       "      <th>1</th>\n",
       "      <td>1</td>\n",
       "      <td>5798</td>\n",
       "      <td>0.257277</td>\n",
       "    </tr>\n",
       "    <tr>\n",
       "      <th>2</th>\n",
       "      <td>9</td>\n",
       "      <td>2381</td>\n",
       "      <td>0.105653</td>\n",
       "    </tr>\n",
       "    <tr>\n",
       "      <th>3</th>\n",
       "      <td>4</td>\n",
       "      <td>2147</td>\n",
       "      <td>0.095270</td>\n",
       "    </tr>\n",
       "    <tr>\n",
       "      <th>4</th>\n",
       "      <td>7</td>\n",
       "      <td>1740</td>\n",
       "      <td>0.077210</td>\n",
       "    </tr>\n",
       "    <tr>\n",
       "      <th>5</th>\n",
       "      <td>5</td>\n",
       "      <td>936</td>\n",
       "      <td>0.041534</td>\n",
       "    </tr>\n",
       "    <tr>\n",
       "      <th>6</th>\n",
       "      <td>6</td>\n",
       "      <td>777</td>\n",
       "      <td>0.034478</td>\n",
       "    </tr>\n",
       "    <tr>\n",
       "      <th>7</th>\n",
       "      <td>2</td>\n",
       "      <td>384</td>\n",
       "      <td>0.017039</td>\n",
       "    </tr>\n",
       "    <tr>\n",
       "      <th>8</th>\n",
       "      <td>8</td>\n",
       "      <td>45</td>\n",
       "      <td>0.001997</td>\n",
       "    </tr>\n",
       "  </tbody>\n",
       "</table>\n",
       "</div>"
      ],
      "text/plain": [
       "  Denial Reason  Count  Percentage\n",
       "0             3   8328    0.369542\n",
       "1             1   5798    0.257277\n",
       "2             9   2381    0.105653\n",
       "3             4   2147    0.095270\n",
       "4             7   1740    0.077210\n",
       "5             5    936    0.041534\n",
       "6             6    777    0.034478\n",
       "7             2    384    0.017039\n",
       "8             8     45    0.001997"
      ]
     },
     "execution_count": 19,
     "metadata": {},
     "output_type": "execute_result"
    }
   ],
   "source": [
    "na_denial = df_denials[df_denials['applicant_race_1'] == 1]\n",
    "na_counts = na_denial[['denial_reason_1','denial_reason_2','denial_reason_3']]\n",
    "count = pd.Series(na_counts.squeeze().values.ravel()).value_counts()\n",
    "pd.DataFrame({'Denial Reason': count.index, 'Count':count.values, 'Percentage':(count/count.sum()).values})"
   ]
  },
  {
   "cell_type": "markdown",
   "metadata": {},
   "source": [
    "This is the distribution of denial reasons for Asian applicants. "
   ]
  },
  {
   "cell_type": "code",
   "execution_count": 20,
   "metadata": {},
   "outputs": [
    {
     "data": {
      "text/html": [
       "<div>\n",
       "<style scoped>\n",
       "    .dataframe tbody tr th:only-of-type {\n",
       "        vertical-align: middle;\n",
       "    }\n",
       "\n",
       "    .dataframe tbody tr th {\n",
       "        vertical-align: top;\n",
       "    }\n",
       "\n",
       "    .dataframe thead th {\n",
       "        text-align: right;\n",
       "    }\n",
       "</style>\n",
       "<table border=\"1\" class=\"dataframe\">\n",
       "  <thead>\n",
       "    <tr style=\"text-align: right;\">\n",
       "      <th></th>\n",
       "      <th>Denial Reason</th>\n",
       "      <th>Count</th>\n",
       "      <th>Percentage</th>\n",
       "    </tr>\n",
       "  </thead>\n",
       "  <tbody>\n",
       "    <tr>\n",
       "      <th>0</th>\n",
       "      <td>1</td>\n",
       "      <td>26872</td>\n",
       "      <td>0.318019</td>\n",
       "    </tr>\n",
       "    <tr>\n",
       "      <th>1</th>\n",
       "      <td>3</td>\n",
       "      <td>15163</td>\n",
       "      <td>0.179448</td>\n",
       "    </tr>\n",
       "    <tr>\n",
       "      <th>2</th>\n",
       "      <td>4</td>\n",
       "      <td>9839</td>\n",
       "      <td>0.116441</td>\n",
       "    </tr>\n",
       "    <tr>\n",
       "      <th>3</th>\n",
       "      <td>9</td>\n",
       "      <td>9304</td>\n",
       "      <td>0.110109</td>\n",
       "    </tr>\n",
       "    <tr>\n",
       "      <th>4</th>\n",
       "      <td>7</td>\n",
       "      <td>9289</td>\n",
       "      <td>0.109932</td>\n",
       "    </tr>\n",
       "    <tr>\n",
       "      <th>5</th>\n",
       "      <td>6</td>\n",
       "      <td>6302</td>\n",
       "      <td>0.074582</td>\n",
       "    </tr>\n",
       "    <tr>\n",
       "      <th>6</th>\n",
       "      <td>5</td>\n",
       "      <td>5325</td>\n",
       "      <td>0.063019</td>\n",
       "    </tr>\n",
       "    <tr>\n",
       "      <th>7</th>\n",
       "      <td>2</td>\n",
       "      <td>2253</td>\n",
       "      <td>0.026663</td>\n",
       "    </tr>\n",
       "    <tr>\n",
       "      <th>8</th>\n",
       "      <td>8</td>\n",
       "      <td>151</td>\n",
       "      <td>0.001787</td>\n",
       "    </tr>\n",
       "  </tbody>\n",
       "</table>\n",
       "</div>"
      ],
      "text/plain": [
       "  Denial Reason  Count  Percentage\n",
       "0             1  26872    0.318019\n",
       "1             3  15163    0.179448\n",
       "2             4   9839    0.116441\n",
       "3             9   9304    0.110109\n",
       "4             7   9289    0.109932\n",
       "5             6   6302    0.074582\n",
       "6             5   5325    0.063019\n",
       "7             2   2253    0.026663\n",
       "8             8    151    0.001787"
      ]
     },
     "execution_count": 20,
     "metadata": {},
     "output_type": "execute_result"
    }
   ],
   "source": [
    "as_denial = df_denials[df_denials['applicant_race_1'] == 2]\n",
    "as_counts = as_denial[['denial_reason_1','denial_reason_2','denial_reason_3']]\n",
    "count = pd.Series(as_counts.squeeze().values.ravel()).value_counts()\n",
    "pd.DataFrame({'Denial Reason': count.index, 'Count':count.values, 'Percentage':(count/count.sum()).values})"
   ]
  },
  {
   "cell_type": "markdown",
   "metadata": {},
   "source": [
    "This is the distribution of denial reasons for Black applicants. "
   ]
  },
  {
   "cell_type": "code",
   "execution_count": 21,
   "metadata": {},
   "outputs": [
    {
     "data": {
      "text/html": [
       "<div>\n",
       "<style scoped>\n",
       "    .dataframe tbody tr th:only-of-type {\n",
       "        vertical-align: middle;\n",
       "    }\n",
       "\n",
       "    .dataframe tbody tr th {\n",
       "        vertical-align: top;\n",
       "    }\n",
       "\n",
       "    .dataframe thead th {\n",
       "        text-align: right;\n",
       "    }\n",
       "</style>\n",
       "<table border=\"1\" class=\"dataframe\">\n",
       "  <thead>\n",
       "    <tr style=\"text-align: right;\">\n",
       "      <th></th>\n",
       "      <th>Denial Reason</th>\n",
       "      <th>Count</th>\n",
       "      <th>Percentage</th>\n",
       "    </tr>\n",
       "  </thead>\n",
       "  <tbody>\n",
       "    <tr>\n",
       "      <th>0</th>\n",
       "      <td>3</td>\n",
       "      <td>86281</td>\n",
       "      <td>0.373391</td>\n",
       "    </tr>\n",
       "    <tr>\n",
       "      <th>1</th>\n",
       "      <td>1</td>\n",
       "      <td>58779</td>\n",
       "      <td>0.254373</td>\n",
       "    </tr>\n",
       "    <tr>\n",
       "      <th>2</th>\n",
       "      <td>9</td>\n",
       "      <td>25282</td>\n",
       "      <td>0.109411</td>\n",
       "    </tr>\n",
       "    <tr>\n",
       "      <th>3</th>\n",
       "      <td>4</td>\n",
       "      <td>21887</td>\n",
       "      <td>0.094719</td>\n",
       "    </tr>\n",
       "    <tr>\n",
       "      <th>4</th>\n",
       "      <td>7</td>\n",
       "      <td>15457</td>\n",
       "      <td>0.066892</td>\n",
       "    </tr>\n",
       "    <tr>\n",
       "      <th>5</th>\n",
       "      <td>5</td>\n",
       "      <td>12601</td>\n",
       "      <td>0.054532</td>\n",
       "    </tr>\n",
       "    <tr>\n",
       "      <th>6</th>\n",
       "      <td>6</td>\n",
       "      <td>6923</td>\n",
       "      <td>0.029960</td>\n",
       "    </tr>\n",
       "    <tr>\n",
       "      <th>7</th>\n",
       "      <td>2</td>\n",
       "      <td>3472</td>\n",
       "      <td>0.015025</td>\n",
       "    </tr>\n",
       "    <tr>\n",
       "      <th>8</th>\n",
       "      <td>8</td>\n",
       "      <td>392</td>\n",
       "      <td>0.001696</td>\n",
       "    </tr>\n",
       "  </tbody>\n",
       "</table>\n",
       "</div>"
      ],
      "text/plain": [
       "  Denial Reason  Count  Percentage\n",
       "0             3  86281    0.373391\n",
       "1             1  58779    0.254373\n",
       "2             9  25282    0.109411\n",
       "3             4  21887    0.094719\n",
       "4             7  15457    0.066892\n",
       "5             5  12601    0.054532\n",
       "6             6   6923    0.029960\n",
       "7             2   3472    0.015025\n",
       "8             8    392    0.001696"
      ]
     },
     "execution_count": 21,
     "metadata": {},
     "output_type": "execute_result"
    }
   ],
   "source": [
    "bl_denial = df_denials[df_denials['applicant_race_1'] == 3]\n",
    "bl_counts = bl_denial[['denial_reason_1','denial_reason_2','denial_reason_3']]\n",
    "count = pd.Series(bl_counts.squeeze().values.ravel()).value_counts()\n",
    "pd.DataFrame({'Denial Reason': count.index, 'Count':count.values, 'Percentage':(count/count.sum()).values})"
   ]
  },
  {
   "cell_type": "markdown",
   "metadata": {},
   "source": [
    "This is the distribution of denial reasons for Native Hawaiian or other Pacific Islander applicants. "
   ]
  },
  {
   "cell_type": "code",
   "execution_count": 22,
   "metadata": {},
   "outputs": [
    {
     "data": {
      "text/html": [
       "<div>\n",
       "<style scoped>\n",
       "    .dataframe tbody tr th:only-of-type {\n",
       "        vertical-align: middle;\n",
       "    }\n",
       "\n",
       "    .dataframe tbody tr th {\n",
       "        vertical-align: top;\n",
       "    }\n",
       "\n",
       "    .dataframe thead th {\n",
       "        text-align: right;\n",
       "    }\n",
       "</style>\n",
       "<table border=\"1\" class=\"dataframe\">\n",
       "  <thead>\n",
       "    <tr style=\"text-align: right;\">\n",
       "      <th></th>\n",
       "      <th>Denial Reason</th>\n",
       "      <th>Count</th>\n",
       "      <th>Percentage</th>\n",
       "    </tr>\n",
       "  </thead>\n",
       "  <tbody>\n",
       "    <tr>\n",
       "      <th>0</th>\n",
       "      <td>3</td>\n",
       "      <td>3395</td>\n",
       "      <td>0.313221</td>\n",
       "    </tr>\n",
       "    <tr>\n",
       "      <th>1</th>\n",
       "      <td>1</td>\n",
       "      <td>3065</td>\n",
       "      <td>0.282775</td>\n",
       "    </tr>\n",
       "    <tr>\n",
       "      <th>2</th>\n",
       "      <td>9</td>\n",
       "      <td>1233</td>\n",
       "      <td>0.113756</td>\n",
       "    </tr>\n",
       "    <tr>\n",
       "      <th>3</th>\n",
       "      <td>4</td>\n",
       "      <td>1057</td>\n",
       "      <td>0.097518</td>\n",
       "    </tr>\n",
       "    <tr>\n",
       "      <th>4</th>\n",
       "      <td>7</td>\n",
       "      <td>887</td>\n",
       "      <td>0.081834</td>\n",
       "    </tr>\n",
       "    <tr>\n",
       "      <th>5</th>\n",
       "      <td>5</td>\n",
       "      <td>576</td>\n",
       "      <td>0.053141</td>\n",
       "    </tr>\n",
       "    <tr>\n",
       "      <th>6</th>\n",
       "      <td>6</td>\n",
       "      <td>411</td>\n",
       "      <td>0.037919</td>\n",
       "    </tr>\n",
       "    <tr>\n",
       "      <th>7</th>\n",
       "      <td>2</td>\n",
       "      <td>202</td>\n",
       "      <td>0.018636</td>\n",
       "    </tr>\n",
       "    <tr>\n",
       "      <th>8</th>\n",
       "      <td>8</td>\n",
       "      <td>13</td>\n",
       "      <td>0.001199</td>\n",
       "    </tr>\n",
       "  </tbody>\n",
       "</table>\n",
       "</div>"
      ],
      "text/plain": [
       "  Denial Reason  Count  Percentage\n",
       "0             3   3395    0.313221\n",
       "1             1   3065    0.282775\n",
       "2             9   1233    0.113756\n",
       "3             4   1057    0.097518\n",
       "4             7    887    0.081834\n",
       "5             5    576    0.053141\n",
       "6             6    411    0.037919\n",
       "7             2    202    0.018636\n",
       "8             8     13    0.001199"
      ]
     },
     "execution_count": 22,
     "metadata": {},
     "output_type": "execute_result"
    }
   ],
   "source": [
    "pa_denial = df_denials[df_denials['applicant_race_1'] == 4]\n",
    "pa_counts = pa_denial[['denial_reason_1','denial_reason_2','denial_reason_3']]\n",
    "count = pd.Series(pa_counts.squeeze().values.ravel()).value_counts()\n",
    "pd.DataFrame({'Denial Reason': count.index, 'Count':count.values, 'Percentage':(count/count.sum()).values})"
   ]
  },
  {
   "cell_type": "markdown",
   "metadata": {},
   "source": [
    "This is the distribution of denial reasons for White applicants. "
   ]
  },
  {
   "cell_type": "code",
   "execution_count": 23,
   "metadata": {},
   "outputs": [
    {
     "data": {
      "text/html": [
       "<div>\n",
       "<style scoped>\n",
       "    .dataframe tbody tr th:only-of-type {\n",
       "        vertical-align: middle;\n",
       "    }\n",
       "\n",
       "    .dataframe tbody tr th {\n",
       "        vertical-align: top;\n",
       "    }\n",
       "\n",
       "    .dataframe thead th {\n",
       "        text-align: right;\n",
       "    }\n",
       "</style>\n",
       "<table border=\"1\" class=\"dataframe\">\n",
       "  <thead>\n",
       "    <tr style=\"text-align: right;\">\n",
       "      <th></th>\n",
       "      <th>Denial Reason</th>\n",
       "      <th>Count</th>\n",
       "      <th>Percentage</th>\n",
       "    </tr>\n",
       "  </thead>\n",
       "  <tbody>\n",
       "    <tr>\n",
       "      <th>0</th>\n",
       "      <td>3</td>\n",
       "      <td>307209</td>\n",
       "      <td>0.277187</td>\n",
       "    </tr>\n",
       "    <tr>\n",
       "      <th>1</th>\n",
       "      <td>1</td>\n",
       "      <td>285249</td>\n",
       "      <td>0.257373</td>\n",
       "    </tr>\n",
       "    <tr>\n",
       "      <th>2</th>\n",
       "      <td>4</td>\n",
       "      <td>161464</td>\n",
       "      <td>0.145685</td>\n",
       "    </tr>\n",
       "    <tr>\n",
       "      <th>3</th>\n",
       "      <td>9</td>\n",
       "      <td>115495</td>\n",
       "      <td>0.104208</td>\n",
       "    </tr>\n",
       "    <tr>\n",
       "      <th>4</th>\n",
       "      <td>7</td>\n",
       "      <td>112956</td>\n",
       "      <td>0.101917</td>\n",
       "    </tr>\n",
       "    <tr>\n",
       "      <th>5</th>\n",
       "      <td>5</td>\n",
       "      <td>51627</td>\n",
       "      <td>0.046582</td>\n",
       "    </tr>\n",
       "    <tr>\n",
       "      <th>6</th>\n",
       "      <td>6</td>\n",
       "      <td>48620</td>\n",
       "      <td>0.043869</td>\n",
       "    </tr>\n",
       "    <tr>\n",
       "      <th>7</th>\n",
       "      <td>2</td>\n",
       "      <td>23504</td>\n",
       "      <td>0.021207</td>\n",
       "    </tr>\n",
       "    <tr>\n",
       "      <th>8</th>\n",
       "      <td>8</td>\n",
       "      <td>2185</td>\n",
       "      <td>0.001971</td>\n",
       "    </tr>\n",
       "  </tbody>\n",
       "</table>\n",
       "</div>"
      ],
      "text/plain": [
       "  Denial Reason   Count  Percentage\n",
       "0             3  307209    0.277187\n",
       "1             1  285249    0.257373\n",
       "2             4  161464    0.145685\n",
       "3             9  115495    0.104208\n",
       "4             7  112956    0.101917\n",
       "5             5   51627    0.046582\n",
       "6             6   48620    0.043869\n",
       "7             2   23504    0.021207\n",
       "8             8    2185    0.001971"
      ]
     },
     "execution_count": 23,
     "metadata": {},
     "output_type": "execute_result"
    }
   ],
   "source": [
    "wh_denial = df_denials[df_denials['applicant_race_1'] == 5]\n",
    "wh_counts = wh_denial[['denial_reason_1','denial_reason_2','denial_reason_3']]\n",
    "count = pd.Series(wh_counts.squeeze().values.ravel()).value_counts()\n",
    "pd.DataFrame({'Denial Reason': count.index, 'Count':count.values, 'Percentage':(count/count.sum()).values})"
   ]
  },
  {
   "cell_type": "markdown",
   "metadata": {},
   "source": [
    "## The Effects of Income on Loan Approval\n",
    "\n",
    "When we first looked into the exploratory data analysis on application statuses based on raced, we noticed significant disparities between different racial groups in terms of the percentages that were accepted for loans. We first wanted to see if there were other disparities that may have impacted these statistics. The first was to look into income data and see if there are major disparities here that may lead to certain racial groups seeing higher rates of rejection. "
   ]
  },
  {
   "cell_type": "code",
   "execution_count": 24,
   "metadata": {},
   "outputs": [
    {
     "data": {
      "text/plain": [
       "applicant_race_1\n",
       "1     66.0\n",
       "2    107.0\n",
       "3     64.0\n",
       "4     80.0\n",
       "5     78.0\n",
       "6     84.0\n",
       "7     77.0\n",
       "Name: applicant_income_000s, dtype: float64"
      ]
     },
     "execution_count": 24,
     "metadata": {},
     "output_type": "execute_result"
    }
   ],
   "source": [
    "df_2017.groupby(['applicant_race_1'])['applicant_income_000s'].median()"
   ]
  },
  {
   "cell_type": "code",
   "execution_count": 25,
   "metadata": {},
   "outputs": [
    {
     "data": {
      "image/png": "[encoded data removed]",
      "text/plain": [
       "<Figure size 432x288 with 1 Axes>"
      ]
     },
     "metadata": {
      "needs_background": "light"
     },
     "output_type": "display_data"
    }
   ],
   "source": [
    "race = ['White', 'Black', 'Native American', 'Asian', 'Pacific Islander']\n",
    "reject = [78.0, 64.0, 66.0, 107.0, 80.0]\n",
    "\n",
    "plt.bar(race, reject)\n",
    "plt.title('Median Incomes by Race')\n",
    "plt.xlabel('Race')\n",
    "plt.ylabel('Median Income (In Thousands)')\n",
    "plt.show()"
   ]
  },
  {
   "cell_type": "markdown",
   "metadata": {},
   "source": [
    "From the above statistics, we can see that the median incomes of each racial group roughly coincides with the acceptance rates on loans. The one discrepancy we see is with Native Hawaiian or other Pacific Islander applicants, which in the case of median show a slightly higher median income compared to White applicants depsite having a 7% lower acceptance rate. We believe that this may be due to a limited sample of this group of applicants in this dataset compared to White applicants, but it is possible that this could point to a significant inequity in this system. The main takeaway was that median incomes show relations to the rates of application acceptance, with White and Asian applicants showing higher rates of loan approvals along with higher median incomes while Black and Native American applicants showed lower median incomes and lower rates of loan approvals. "
   ]
  },
  {
   "cell_type": "code",
   "execution_count": 26,
   "metadata": {},
   "outputs": [
    {
     "data": {
      "text/plain": [
       "Index(['as_of_year', 'respondent_id', 'agency_name', 'agency_abbr',\n",
       "       'agency_code', 'loan_type_name', 'loan_type', 'property_type_name',\n",
       "       'property_type', 'loan_purpose_name', 'loan_purpose',\n",
       "       'owner_occupancy_name', 'owner_occupancy', 'loan_amount_000s',\n",
       "       'preapproval_name', 'preapproval', 'action_taken_name', 'action_taken',\n",
       "       'msamd_name', 'msamd', 'state_name', 'state_abbr', 'state_code',\n",
       "       'county_name', 'county_code', 'census_tract_number',\n",
       "       'applicant_ethnicity_name', 'applicant_ethnicity',\n",
       "       'co_applicant_ethnicity_name', 'co_applicant_ethnicity',\n",
       "       'applicant_race_name_1', 'applicant_race_1', 'applicant_race_name_2',\n",
       "       'applicant_race_2', 'applicant_race_name_3', 'applicant_race_3',\n",
       "       'applicant_race_name_4', 'applicant_race_4', 'applicant_race_name_5',\n",
       "       'applicant_race_5', 'co_applicant_race_name_1', 'co_applicant_race_1',\n",
       "       'co_applicant_race_name_2', 'co_applicant_race_2',\n",
       "       'co_applicant_race_name_3', 'co_applicant_race_3',\n",
       "       'co_applicant_race_name_4', 'co_applicant_race_4',\n",
       "       'co_applicant_race_name_5', 'co_applicant_race_5', 'applicant_sex_name',\n",
       "       'applicant_sex', 'co_applicant_sex_name', 'co_applicant_sex',\n",
       "       'applicant_income_000s', 'purchaser_type_name', 'purchaser_type',\n",
       "       'denial_reason_name_1', 'denial_reason_1', 'denial_reason_name_2',\n",
       "       'denial_reason_2', 'denial_reason_name_3', 'denial_reason_3',\n",
       "       'rate_spread', 'hoepa_status_name', 'hoepa_status', 'lien_status_name',\n",
       "       'lien_status', 'edit_status_name', 'edit_status', 'sequence_number',\n",
       "       'population', 'minority_population', 'hud_median_family_income',\n",
       "       'tract_to_msamd_income', 'number_of_owner_occupied_units',\n",
       "       'number_of_1_to_4_family_units', 'application_date_indicator'],\n",
       "      dtype='object')"
      ]
     },
     "execution_count": 26,
     "metadata": {},
     "output_type": "execute_result"
    }
   ],
   "source": [
    "df_2017.columns"
   ]
  },
  {
   "cell_type": "markdown",
   "metadata": {},
   "source": [
    "## A Look Into Median Loan Amounts Taken by Each Group\n",
    "\n",
    "To look further into this disparity, we wanted to look into the median loan amounts that are seen by these different racial groups. From here, we hope to compare the amounts relative to income and see if there is a significant disparity between different racial groups receiving different results despite having similar financial conditions and loan requests. "
   ]
  },
  {
   "cell_type": "code",
   "execution_count": 27,
   "metadata": {},
   "outputs": [
    {
     "data": {
      "text/plain": [
       "applicant_race_1\n",
       "1    150.0\n",
       "2    293.0\n",
       "3    157.0\n",
       "4    229.0\n",
       "5    180.0\n",
       "6    194.0\n",
       "7    190.0\n",
       "Name: loan_amount_000s, dtype: float64"
      ]
     },
     "execution_count": 27,
     "metadata": {},
     "output_type": "execute_result"
    }
   ],
   "source": [
    "df_2017.groupby(['applicant_race_1'])['loan_amount_000s'].median()"
   ]
  },
  {
   "cell_type": "code",
   "execution_count": 28,
   "metadata": {},
   "outputs": [
    {
     "data": {
      "image/png": "[encoded data removed]",
      "text/plain": [
       "<Figure size 432x288 with 1 Axes>"
      ]
     },
     "metadata": {
      "needs_background": "light"
     },
     "output_type": "display_data"
    }
   ],
   "source": [
    "race = ['White', 'Black', 'Native American', 'Asian', 'Pacific Islander']\n",
    "reject = [180.0, 157.0, 150.0, 293.0, 229.0]\n",
    "\n",
    "plt.bar(race, reject)\n",
    "plt.title('Median Loan Amounts by Race')\n",
    "plt.xlabel('Race')\n",
    "plt.ylabel('Median Loan Amount (In Thousands)')\n",
    "plt.show()"
   ]
  },
  {
   "cell_type": "markdown",
   "metadata": {},
   "source": [
    "Through this, we can see that the difference between White, Black, and Native American loan amounts is not as significant as the difference in rejection rates or even income. "
   ]
  },
  {
   "cell_type": "markdown",
   "metadata": {},
   "source": [
    "## The Relationship Between Amount Loaned and Income\n",
    "\n",
    "To further dive into any disparities in this area, we wanted to look into the relationship between the amount loaned and the income of the people applying for them. To do this, we created a column that took the ratio of loan amount by income, grouped by each racial group, and took the median. We believe that if all these values are similar that there is a sign of inequity in the lending data based on racial groups. "
   ]
  },
  {
   "cell_type": "code",
   "execution_count": 29,
   "metadata": {},
   "outputs": [],
   "source": [
    "df_2017['loan_to_income'] = df_2017['loan_amount_000s']/df_2017['applicant_income_000s']"
   ]
  },
  {
   "cell_type": "code",
   "execution_count": 30,
   "metadata": {},
   "outputs": [
    {
     "data": {
      "text/plain": [
       "applicant_race_1\n",
       "1    2.333333\n",
       "2    2.923913\n",
       "3    2.500000\n",
       "4    2.890625\n",
       "5    2.368421\n",
       "6    2.398148\n",
       "7    2.702703\n",
       "Name: loan_to_income, dtype: float64"
      ]
     },
     "execution_count": 30,
     "metadata": {},
     "output_type": "execute_result"
    }
   ],
   "source": [
    "df_2017.groupby(['applicant_race_1'])['loan_to_income'].median()      "
   ]
  },
  {
   "cell_type": "code",
   "execution_count": 31,
   "metadata": {},
   "outputs": [
    {
     "data": {
      "image/png": "[encoded data removed]",
      "text/plain": [
       "<Figure size 432x288 with 1 Axes>"
      ]
     },
     "metadata": {
      "needs_background": "light"
     },
     "output_type": "display_data"
    }
   ],
   "source": [
    "race = ['White', 'Black', 'Native American', 'Asian', 'Pacific Islander']\n",
    "reject = [2.368421, 2.500000, 2.333333, 2.923913, 2.890625]\n",
    "\n",
    "plt.bar(race, reject)\n",
    "plt.title('Median Loan Amount to Income Ratios by Race')\n",
    "plt.xlabel('Race')\n",
    "plt.ylabel('Median Loan Amount to Income Ratio')\n",
    "plt.show()"
   ]
  },
  {
   "cell_type": "markdown",
   "metadata": {},
   "source": [
    "When looking into the factors that developed these ratios, we wanted to rule out other factors that may skew the ratios. We know that some racial groups are more represented than other in this dataset, so we wanted to make sure that the number of loans may skew the averages of these ratios. In order to accomodate this, we used median as our measure to get a value that was more robust to significant outliers and numbers of loans. In terms of comparing loan amounts to incomes, our analysis in the past two charts indicate that the two scale with each other. This would mean that there are not many cases that would result in significant effects in our analysis except for in the case of Asian and Pacific Islander applicants. "
   ]
  },
  {
   "cell_type": "markdown",
   "metadata": {},
   "source": [
    "## Fairness Quantitative Measures\n",
    "\n",
    "To see how significant these figures are, we decided to look into these statistics by sampling based on income. We wanted to see if similar income groups and loan amounts had varying outcomes for action taken on the loan when looking at racial group as a factor. For the purpose of this analysis, we will be focusing on the lending experiences faced by Black and White applicants. The fairness of the mortgage lending system will be based on the criteria of group fairness as opposed to individual fairness (https://fairmlbook.org/tutorial2.html). We will also do our fairness analysis based on income group to better sample the data during our comparisons."
   ]
  },
  {
   "cell_type": "code",
   "execution_count": 37,
   "metadata": {},
   "outputs": [
    {
     "data": {
      "text/html": [
       "<div>\n",
       "<style scoped>\n",
       "    .dataframe tbody tr th:only-of-type {\n",
       "        vertical-align: middle;\n",
       "    }\n",
       "\n",
       "    .dataframe tbody tr th {\n",
       "        vertical-align: top;\n",
       "    }\n",
       "\n",
       "    .dataframe thead th {\n",
       "        text-align: right;\n",
       "    }\n",
       "</style>\n",
       "<table border=\"1\" class=\"dataframe\">\n",
       "  <thead>\n",
       "    <tr style=\"text-align: right;\">\n",
       "      <th></th>\n",
       "      <th>applicant_race_1</th>\n",
       "      <th>applicant_income_000s</th>\n",
       "      <th>loan_amount_000s</th>\n",
       "      <th>action_taken</th>\n",
       "      <th>loan_to_income</th>\n",
       "    </tr>\n",
       "  </thead>\n",
       "  <tbody>\n",
       "    <tr>\n",
       "      <th>0</th>\n",
       "      <td>3</td>\n",
       "      <td>12.0</td>\n",
       "      <td>53.0</td>\n",
       "      <td>4</td>\n",
       "      <td>4.416667</td>\n",
       "    </tr>\n",
       "    <tr>\n",
       "      <th>1</th>\n",
       "      <td>5</td>\n",
       "      <td>60.0</td>\n",
       "      <td>168.0</td>\n",
       "      <td>3</td>\n",
       "      <td>2.800000</td>\n",
       "    </tr>\n",
       "    <tr>\n",
       "      <th>2</th>\n",
       "      <td>6</td>\n",
       "      <td>50.0</td>\n",
       "      <td>103.0</td>\n",
       "      <td>5</td>\n",
       "      <td>2.060000</td>\n",
       "    </tr>\n",
       "    <tr>\n",
       "      <th>3</th>\n",
       "      <td>5</td>\n",
       "      <td>53.0</td>\n",
       "      <td>88.0</td>\n",
       "      <td>1</td>\n",
       "      <td>1.660377</td>\n",
       "    </tr>\n",
       "    <tr>\n",
       "      <th>4</th>\n",
       "      <td>5</td>\n",
       "      <td>29.0</td>\n",
       "      <td>90.0</td>\n",
       "      <td>4</td>\n",
       "      <td>3.103448</td>\n",
       "    </tr>\n",
       "    <tr>\n",
       "      <th>...</th>\n",
       "      <td>...</td>\n",
       "      <td>...</td>\n",
       "      <td>...</td>\n",
       "      <td>...</td>\n",
       "      <td>...</td>\n",
       "    </tr>\n",
       "    <tr>\n",
       "      <th>14285491</th>\n",
       "      <td>6</td>\n",
       "      <td>167.0</td>\n",
       "      <td>832.0</td>\n",
       "      <td>1</td>\n",
       "      <td>4.982036</td>\n",
       "    </tr>\n",
       "    <tr>\n",
       "      <th>14285492</th>\n",
       "      <td>6</td>\n",
       "      <td>193.0</td>\n",
       "      <td>840.0</td>\n",
       "      <td>3</td>\n",
       "      <td>4.352332</td>\n",
       "    </tr>\n",
       "    <tr>\n",
       "      <th>14285493</th>\n",
       "      <td>6</td>\n",
       "      <td>175.0</td>\n",
       "      <td>476.0</td>\n",
       "      <td>1</td>\n",
       "      <td>2.720000</td>\n",
       "    </tr>\n",
       "    <tr>\n",
       "      <th>14285494</th>\n",
       "      <td>5</td>\n",
       "      <td>55.0</td>\n",
       "      <td>141.0</td>\n",
       "      <td>3</td>\n",
       "      <td>2.563636</td>\n",
       "    </tr>\n",
       "    <tr>\n",
       "      <th>14285495</th>\n",
       "      <td>5</td>\n",
       "      <td>106.0</td>\n",
       "      <td>75.0</td>\n",
       "      <td>3</td>\n",
       "      <td>0.707547</td>\n",
       "    </tr>\n",
       "  </tbody>\n",
       "</table>\n",
       "<p>14285496 rows × 5 columns</p>\n",
       "</div>"
      ],
      "text/plain": [
       "          applicant_race_1  applicant_income_000s  loan_amount_000s  \\\n",
       "0                        3                   12.0              53.0   \n",
       "1                        5                   60.0             168.0   \n",
       "2                        6                   50.0             103.0   \n",
       "3                        5                   53.0              88.0   \n",
       "4                        5                   29.0              90.0   \n",
       "...                    ...                    ...               ...   \n",
       "14285491                 6                  167.0             832.0   \n",
       "14285492                 6                  193.0             840.0   \n",
       "14285493                 6                  175.0             476.0   \n",
       "14285494                 5                   55.0             141.0   \n",
       "14285495                 5                  106.0              75.0   \n",
       "\n",
       "          action_taken  loan_to_income  \n",
       "0                    4        4.416667  \n",
       "1                    3        2.800000  \n",
       "2                    5        2.060000  \n",
       "3                    1        1.660377  \n",
       "4                    4        3.103448  \n",
       "...                ...             ...  \n",
       "14285491             1        4.982036  \n",
       "14285492             3        4.352332  \n",
       "14285493             1        2.720000  \n",
       "14285494             3        2.563636  \n",
       "14285495             3        0.707547  \n",
       "\n",
       "[14285496 rows x 5 columns]"
      ]
     },
     "execution_count": 37,
     "metadata": {},
     "output_type": "execute_result"
    }
   ],
   "source": [
    "df_fair = df_2017[['applicant_race_1','applicant_income_000s','loan_amount_000s', 'action_taken','loan_to_income']]\n",
    "df_fair"
   ]
  },
  {
   "cell_type": "markdown",
   "metadata": {},
   "source": [
    "For this section, we decided to sample based on the income brackets set by the Federal Income Brackets as of 2020-2021. First, we took into account the range of incomes between 0 and $10,000 yearly. "
   ]
  },
  {
   "cell_type": "code",
   "execution_count": 51,
   "metadata": {},
   "outputs": [
    {
     "data": {
      "text/html": [
       "<div>\n",
       "<style scoped>\n",
       "    .dataframe tbody tr th:only-of-type {\n",
       "        vertical-align: middle;\n",
       "    }\n",
       "\n",
       "    .dataframe tbody tr th {\n",
       "        vertical-align: top;\n",
       "    }\n",
       "\n",
       "    .dataframe thead th {\n",
       "        text-align: right;\n",
       "    }\n",
       "</style>\n",
       "<table border=\"1\" class=\"dataframe\">\n",
       "  <thead>\n",
       "    <tr style=\"text-align: right;\">\n",
       "      <th></th>\n",
       "      <th>applicant_race_1</th>\n",
       "      <th>applicant_income_000s</th>\n",
       "      <th>loan_amount_000s</th>\n",
       "      <th>action_taken</th>\n",
       "      <th>loan_to_income</th>\n",
       "    </tr>\n",
       "  </thead>\n",
       "  <tbody>\n",
       "    <tr>\n",
       "      <th>465</th>\n",
       "      <td>5</td>\n",
       "      <td>3.0</td>\n",
       "      <td>55.0</td>\n",
       "      <td>1</td>\n",
       "      <td>18.333333</td>\n",
       "    </tr>\n",
       "    <tr>\n",
       "      <th>600</th>\n",
       "      <td>6</td>\n",
       "      <td>2.0</td>\n",
       "      <td>1.0</td>\n",
       "      <td>3</td>\n",
       "      <td>0.500000</td>\n",
       "    </tr>\n",
       "    <tr>\n",
       "      <th>644</th>\n",
       "      <td>3</td>\n",
       "      <td>9.0</td>\n",
       "      <td>185.0</td>\n",
       "      <td>3</td>\n",
       "      <td>20.555556</td>\n",
       "    </tr>\n",
       "    <tr>\n",
       "      <th>697</th>\n",
       "      <td>6</td>\n",
       "      <td>7.0</td>\n",
       "      <td>150.0</td>\n",
       "      <td>3</td>\n",
       "      <td>21.428571</td>\n",
       "    </tr>\n",
       "    <tr>\n",
       "      <th>868</th>\n",
       "      <td>1</td>\n",
       "      <td>3.0</td>\n",
       "      <td>30.0</td>\n",
       "      <td>3</td>\n",
       "      <td>10.000000</td>\n",
       "    </tr>\n",
       "    <tr>\n",
       "      <th>...</th>\n",
       "      <td>...</td>\n",
       "      <td>...</td>\n",
       "      <td>...</td>\n",
       "      <td>...</td>\n",
       "      <td>...</td>\n",
       "    </tr>\n",
       "    <tr>\n",
       "      <th>14283448</th>\n",
       "      <td>5</td>\n",
       "      <td>8.0</td>\n",
       "      <td>424.0</td>\n",
       "      <td>1</td>\n",
       "      <td>53.000000</td>\n",
       "    </tr>\n",
       "    <tr>\n",
       "      <th>14284031</th>\n",
       "      <td>6</td>\n",
       "      <td>8.0</td>\n",
       "      <td>3.0</td>\n",
       "      <td>1</td>\n",
       "      <td>0.375000</td>\n",
       "    </tr>\n",
       "    <tr>\n",
       "      <th>14284277</th>\n",
       "      <td>6</td>\n",
       "      <td>9.0</td>\n",
       "      <td>285.0</td>\n",
       "      <td>1</td>\n",
       "      <td>31.666667</td>\n",
       "    </tr>\n",
       "    <tr>\n",
       "      <th>14284466</th>\n",
       "      <td>5</td>\n",
       "      <td>9.0</td>\n",
       "      <td>125.0</td>\n",
       "      <td>3</td>\n",
       "      <td>13.888889</td>\n",
       "    </tr>\n",
       "    <tr>\n",
       "      <th>14285206</th>\n",
       "      <td>3</td>\n",
       "      <td>9.0</td>\n",
       "      <td>132.0</td>\n",
       "      <td>3</td>\n",
       "      <td>14.666667</td>\n",
       "    </tr>\n",
       "  </tbody>\n",
       "</table>\n",
       "<p>37735 rows × 5 columns</p>\n",
       "</div>"
      ],
      "text/plain": [
       "          applicant_race_1  applicant_income_000s  loan_amount_000s  \\\n",
       "465                      5                    3.0              55.0   \n",
       "600                      6                    2.0               1.0   \n",
       "644                      3                    9.0             185.0   \n",
       "697                      6                    7.0             150.0   \n",
       "868                      1                    3.0              30.0   \n",
       "...                    ...                    ...               ...   \n",
       "14283448                 5                    8.0             424.0   \n",
       "14284031                 6                    8.0               3.0   \n",
       "14284277                 6                    9.0             285.0   \n",
       "14284466                 5                    9.0             125.0   \n",
       "14285206                 3                    9.0             132.0   \n",
       "\n",
       "          action_taken  loan_to_income  \n",
       "465                  1       18.333333  \n",
       "600                  3        0.500000  \n",
       "644                  3       20.555556  \n",
       "697                  3       21.428571  \n",
       "868                  3       10.000000  \n",
       "...                ...             ...  \n",
       "14283448             1       53.000000  \n",
       "14284031             1        0.375000  \n",
       "14284277             1       31.666667  \n",
       "14284466             3       13.888889  \n",
       "14285206             3       14.666667  \n",
       "\n",
       "[37735 rows x 5 columns]"
      ]
     },
     "execution_count": 51,
     "metadata": {},
     "output_type": "execute_result"
    }
   ],
   "source": [
    "range_0_10 = np.arange(0.0,10.0)\n",
    "df_0_10 = df_fair.loc[(df_fair['applicant_income_000s'].isin(range_0_10))]\n",
    "df_0_10"
   ]
  },
  {
   "cell_type": "code",
   "execution_count": 52,
   "metadata": {},
   "outputs": [
    {
     "data": {
      "text/plain": [
       "applicant_race_1\n",
       "1    10.000000\n",
       "2    38.333333\n",
       "3     7.500000\n",
       "4    23.250000\n",
       "5    19.000000\n",
       "6    28.222222\n",
       "7    36.687500\n",
       "Name: loan_to_income, dtype: float64"
      ]
     },
     "execution_count": 52,
     "metadata": {},
     "output_type": "execute_result"
    }
   ],
   "source": [
    "df_0_10.groupby(['applicant_race_1'])['loan_to_income'].median()      "
   ]
  },
  {
   "cell_type": "code",
   "execution_count": 53,
   "metadata": {},
   "outputs": [
    {
     "data": {
      "text/plain": [
       "5    22213\n",
       "6     8103\n",
       "3     4613\n",
       "2     1380\n",
       "7      662\n",
       "1      599\n",
       "4      165\n",
       "Name: applicant_race_1, dtype: int64"
      ]
     },
     "execution_count": 53,
     "metadata": {},
     "output_type": "execute_result"
    }
   ],
   "source": [
    "df_0_10.applicant_race_1.value_counts()"
   ]
  },
  {
   "cell_type": "code",
   "execution_count": 54,
   "metadata": {},
   "outputs": [
    {
     "data": {
      "text/plain": [
       "3    55.494530\n",
       "1    21.676496\n",
       "4    12.879845\n",
       "5     3.894116\n",
       "2     2.894701\n",
       "7     2.507541\n",
       "6     0.436681\n",
       "8     0.216090\n",
       "Name: action_taken, dtype: float64"
      ]
     },
     "execution_count": 54,
     "metadata": {},
     "output_type": "execute_result"
    }
   ],
   "source": [
    "white_action = df_0_10[df_0_10['applicant_race_1'] == 5]\n",
    "white_action['action_taken'].value_counts(normalize=True) * 100"
   ]
  },
  {
   "cell_type": "code",
   "execution_count": 55,
   "metadata": {},
   "outputs": [
    {
     "data": {
      "text/html": [
       "<div>\n",
       "<style scoped>\n",
       "    .dataframe tbody tr th:only-of-type {\n",
       "        vertical-align: middle;\n",
       "    }\n",
       "\n",
       "    .dataframe tbody tr th {\n",
       "        vertical-align: top;\n",
       "    }\n",
       "\n",
       "    .dataframe thead th {\n",
       "        text-align: right;\n",
       "    }\n",
       "</style>\n",
       "<table border=\"1\" class=\"dataframe\">\n",
       "  <thead>\n",
       "    <tr style=\"text-align: right;\">\n",
       "      <th></th>\n",
       "      <th>applicant_race_1</th>\n",
       "      <th>applicant_income_000s</th>\n",
       "      <th>loan_amount_000s</th>\n",
       "      <th>action_taken</th>\n",
       "      <th>loan_to_income</th>\n",
       "    </tr>\n",
       "  </thead>\n",
       "  <tbody>\n",
       "    <tr>\n",
       "      <th>count</th>\n",
       "      <td>22213.0</td>\n",
       "      <td>22213.000000</td>\n",
       "      <td>22210.000000</td>\n",
       "      <td>22213.000000</td>\n",
       "      <td>22210.000000</td>\n",
       "    </tr>\n",
       "    <tr>\n",
       "      <th>mean</th>\n",
       "      <td>5.0</td>\n",
       "      <td>5.330977</td>\n",
       "      <td>130.696713</td>\n",
       "      <td>2.868410</td>\n",
       "      <td>53.422605</td>\n",
       "    </tr>\n",
       "    <tr>\n",
       "      <th>std</th>\n",
       "      <td>0.0</td>\n",
       "      <td>2.984040</td>\n",
       "      <td>158.250872</td>\n",
       "      <td>1.287579</td>\n",
       "      <td>99.585795</td>\n",
       "    </tr>\n",
       "    <tr>\n",
       "      <th>min</th>\n",
       "      <td>5.0</td>\n",
       "      <td>1.000000</td>\n",
       "      <td>1.000000</td>\n",
       "      <td>1.000000</td>\n",
       "      <td>0.111111</td>\n",
       "    </tr>\n",
       "    <tr>\n",
       "      <th>25%</th>\n",
       "      <td>5.0</td>\n",
       "      <td>2.000000</td>\n",
       "      <td>37.000000</td>\n",
       "      <td>3.000000</td>\n",
       "      <td>5.750000</td>\n",
       "    </tr>\n",
       "    <tr>\n",
       "      <th>50%</th>\n",
       "      <td>5.0</td>\n",
       "      <td>6.000000</td>\n",
       "      <td>90.000000</td>\n",
       "      <td>3.000000</td>\n",
       "      <td>19.000000</td>\n",
       "    </tr>\n",
       "    <tr>\n",
       "      <th>75%</th>\n",
       "      <td>5.0</td>\n",
       "      <td>8.000000</td>\n",
       "      <td>177.000000</td>\n",
       "      <td>3.000000</td>\n",
       "      <td>54.000000</td>\n",
       "    </tr>\n",
       "    <tr>\n",
       "      <th>max</th>\n",
       "      <td>5.0</td>\n",
       "      <td>9.000000</td>\n",
       "      <td>5000.000000</td>\n",
       "      <td>8.000000</td>\n",
       "      <td>2345.000000</td>\n",
       "    </tr>\n",
       "  </tbody>\n",
       "</table>\n",
       "</div>"
      ],
      "text/plain": [
       "       applicant_race_1  applicant_income_000s  loan_amount_000s  \\\n",
       "count           22213.0           22213.000000      22210.000000   \n",
       "mean                5.0               5.330977        130.696713   \n",
       "std                 0.0               2.984040        158.250872   \n",
       "min                 5.0               1.000000          1.000000   \n",
       "25%                 5.0               2.000000         37.000000   \n",
       "50%                 5.0               6.000000         90.000000   \n",
       "75%                 5.0               8.000000        177.000000   \n",
       "max                 5.0               9.000000       5000.000000   \n",
       "\n",
       "       action_taken  loan_to_income  \n",
       "count  22213.000000    22210.000000  \n",
       "mean       2.868410       53.422605  \n",
       "std        1.287579       99.585795  \n",
       "min        1.000000        0.111111  \n",
       "25%        3.000000        5.750000  \n",
       "50%        3.000000       19.000000  \n",
       "75%        3.000000       54.000000  \n",
       "max        8.000000     2345.000000  "
      ]
     },
     "execution_count": 55,
     "metadata": {},
     "output_type": "execute_result"
    }
   ],
   "source": [
    "white_action.describe()"
   ]
  },
  {
   "cell_type": "code",
   "execution_count": 56,
   "metadata": {},
   "outputs": [
    {
     "data": {
      "text/plain": [
       "3    70.951658\n",
       "1    11.294169\n",
       "4     8.367657\n",
       "7     3.750271\n",
       "5     3.078257\n",
       "2     1.951008\n",
       "6     0.585302\n",
       "8     0.021678\n",
       "Name: action_taken, dtype: float64"
      ]
     },
     "execution_count": 56,
     "metadata": {},
     "output_type": "execute_result"
    }
   ],
   "source": [
    "black_action = df_0_10[df_0_10['applicant_race_1'] == 3]\n",
    "black_action['action_taken'].value_counts(normalize=True) * 100"
   ]
  },
  {
   "cell_type": "code",
   "execution_count": 57,
   "metadata": {},
   "outputs": [
    {
     "data": {
      "text/html": [
       "<div>\n",
       "<style scoped>\n",
       "    .dataframe tbody tr th:only-of-type {\n",
       "        vertical-align: middle;\n",
       "    }\n",
       "\n",
       "    .dataframe tbody tr th {\n",
       "        vertical-align: top;\n",
       "    }\n",
       "\n",
       "    .dataframe thead th {\n",
       "        text-align: right;\n",
       "    }\n",
       "</style>\n",
       "<table border=\"1\" class=\"dataframe\">\n",
       "  <thead>\n",
       "    <tr style=\"text-align: right;\">\n",
       "      <th></th>\n",
       "      <th>applicant_race_1</th>\n",
       "      <th>applicant_income_000s</th>\n",
       "      <th>loan_amount_000s</th>\n",
       "      <th>action_taken</th>\n",
       "      <th>loan_to_income</th>\n",
       "    </tr>\n",
       "  </thead>\n",
       "  <tbody>\n",
       "    <tr>\n",
       "      <th>count</th>\n",
       "      <td>4613.0</td>\n",
       "      <td>4613.000000</td>\n",
       "      <td>4613.000000</td>\n",
       "      <td>4613.000000</td>\n",
       "      <td>4613.000000</td>\n",
       "    </tr>\n",
       "    <tr>\n",
       "      <th>mean</th>\n",
       "      <td>3.0</td>\n",
       "      <td>5.568177</td>\n",
       "      <td>80.717321</td>\n",
       "      <td>3.068502</td>\n",
       "      <td>30.011100</td>\n",
       "    </tr>\n",
       "    <tr>\n",
       "      <th>std</th>\n",
       "      <td>0.0</td>\n",
       "      <td>3.018726</td>\n",
       "      <td>117.063364</td>\n",
       "      <td>1.154045</td>\n",
       "      <td>65.131533</td>\n",
       "    </tr>\n",
       "    <tr>\n",
       "      <th>min</th>\n",
       "      <td>3.0</td>\n",
       "      <td>1.000000</td>\n",
       "      <td>1.000000</td>\n",
       "      <td>1.000000</td>\n",
       "      <td>0.111111</td>\n",
       "    </tr>\n",
       "    <tr>\n",
       "      <th>25%</th>\n",
       "      <td>3.0</td>\n",
       "      <td>3.000000</td>\n",
       "      <td>5.000000</td>\n",
       "      <td>3.000000</td>\n",
       "      <td>1.500000</td>\n",
       "    </tr>\n",
       "    <tr>\n",
       "      <th>50%</th>\n",
       "      <td>3.0</td>\n",
       "      <td>6.000000</td>\n",
       "      <td>48.000000</td>\n",
       "      <td>3.000000</td>\n",
       "      <td>7.500000</td>\n",
       "    </tr>\n",
       "    <tr>\n",
       "      <th>75%</th>\n",
       "      <td>3.0</td>\n",
       "      <td>9.000000</td>\n",
       "      <td>108.000000</td>\n",
       "      <td>3.000000</td>\n",
       "      <td>29.200000</td>\n",
       "    </tr>\n",
       "    <tr>\n",
       "      <th>max</th>\n",
       "      <td>3.0</td>\n",
       "      <td>9.000000</td>\n",
       "      <td>3000.000000</td>\n",
       "      <td>8.000000</td>\n",
       "      <td>1240.000000</td>\n",
       "    </tr>\n",
       "  </tbody>\n",
       "</table>\n",
       "</div>"
      ],
      "text/plain": [
       "       applicant_race_1  applicant_income_000s  loan_amount_000s  \\\n",
       "count            4613.0            4613.000000       4613.000000   \n",
       "mean                3.0               5.568177         80.717321   \n",
       "std                 0.0               3.018726        117.063364   \n",
       "min                 3.0               1.000000          1.000000   \n",
       "25%                 3.0               3.000000          5.000000   \n",
       "50%                 3.0               6.000000         48.000000   \n",
       "75%                 3.0               9.000000        108.000000   \n",
       "max                 3.0               9.000000       3000.000000   \n",
       "\n",
       "       action_taken  loan_to_income  \n",
       "count   4613.000000     4613.000000  \n",
       "mean       3.068502       30.011100  \n",
       "std        1.154045       65.131533  \n",
       "min        1.000000        0.111111  \n",
       "25%        3.000000        1.500000  \n",
       "50%        3.000000        7.500000  \n",
       "75%        3.000000       29.200000  \n",
       "max        8.000000     1240.000000  "
      ]
     },
     "execution_count": 57,
     "metadata": {},
     "output_type": "execute_result"
    }
   ],
   "source": [
    "black_action.describe()"
   ]
  },
  {
   "cell_type": "markdown",
   "metadata": {},
   "source": [
    "Next, we looked into the bracket between $10,000 and $40,000 yearly. "
   ]
  },
  {
   "cell_type": "code",
   "execution_count": 58,
   "metadata": {},
   "outputs": [
    {
     "data": {
      "text/html": [
       "<div>\n",
       "<style scoped>\n",
       "    .dataframe tbody tr th:only-of-type {\n",
       "        vertical-align: middle;\n",
       "    }\n",
       "\n",
       "    .dataframe tbody tr th {\n",
       "        vertical-align: top;\n",
       "    }\n",
       "\n",
       "    .dataframe thead th {\n",
       "        text-align: right;\n",
       "    }\n",
       "</style>\n",
       "<table border=\"1\" class=\"dataframe\">\n",
       "  <thead>\n",
       "    <tr style=\"text-align: right;\">\n",
       "      <th></th>\n",
       "      <th>applicant_race_1</th>\n",
       "      <th>applicant_income_000s</th>\n",
       "      <th>loan_amount_000s</th>\n",
       "      <th>action_taken</th>\n",
       "      <th>loan_to_income</th>\n",
       "    </tr>\n",
       "  </thead>\n",
       "  <tbody>\n",
       "    <tr>\n",
       "      <th>0</th>\n",
       "      <td>3</td>\n",
       "      <td>12.0</td>\n",
       "      <td>53.0</td>\n",
       "      <td>4</td>\n",
       "      <td>4.416667</td>\n",
       "    </tr>\n",
       "    <tr>\n",
       "      <th>4</th>\n",
       "      <td>5</td>\n",
       "      <td>29.0</td>\n",
       "      <td>90.0</td>\n",
       "      <td>4</td>\n",
       "      <td>3.103448</td>\n",
       "    </tr>\n",
       "    <tr>\n",
       "      <th>9</th>\n",
       "      <td>5</td>\n",
       "      <td>31.0</td>\n",
       "      <td>94.0</td>\n",
       "      <td>1</td>\n",
       "      <td>3.032258</td>\n",
       "    </tr>\n",
       "    <tr>\n",
       "      <th>10</th>\n",
       "      <td>3</td>\n",
       "      <td>26.0</td>\n",
       "      <td>95.0</td>\n",
       "      <td>3</td>\n",
       "      <td>3.653846</td>\n",
       "    </tr>\n",
       "    <tr>\n",
       "      <th>11</th>\n",
       "      <td>5</td>\n",
       "      <td>36.0</td>\n",
       "      <td>38.0</td>\n",
       "      <td>3</td>\n",
       "      <td>1.055556</td>\n",
       "    </tr>\n",
       "    <tr>\n",
       "      <th>...</th>\n",
       "      <td>...</td>\n",
       "      <td>...</td>\n",
       "      <td>...</td>\n",
       "      <td>...</td>\n",
       "      <td>...</td>\n",
       "    </tr>\n",
       "    <tr>\n",
       "      <th>14285480</th>\n",
       "      <td>5</td>\n",
       "      <td>20.0</td>\n",
       "      <td>140.0</td>\n",
       "      <td>4</td>\n",
       "      <td>7.000000</td>\n",
       "    </tr>\n",
       "    <tr>\n",
       "      <th>14285481</th>\n",
       "      <td>5</td>\n",
       "      <td>38.0</td>\n",
       "      <td>122.0</td>\n",
       "      <td>1</td>\n",
       "      <td>3.210526</td>\n",
       "    </tr>\n",
       "    <tr>\n",
       "      <th>14285483</th>\n",
       "      <td>5</td>\n",
       "      <td>18.0</td>\n",
       "      <td>30.0</td>\n",
       "      <td>5</td>\n",
       "      <td>1.666667</td>\n",
       "    </tr>\n",
       "    <tr>\n",
       "      <th>14285484</th>\n",
       "      <td>6</td>\n",
       "      <td>32.0</td>\n",
       "      <td>164.0</td>\n",
       "      <td>1</td>\n",
       "      <td>5.125000</td>\n",
       "    </tr>\n",
       "    <tr>\n",
       "      <th>14285487</th>\n",
       "      <td>5</td>\n",
       "      <td>31.0</td>\n",
       "      <td>188.0</td>\n",
       "      <td>2</td>\n",
       "      <td>6.064516</td>\n",
       "    </tr>\n",
       "  </tbody>\n",
       "</table>\n",
       "<p>1693102 rows × 5 columns</p>\n",
       "</div>"
      ],
      "text/plain": [
       "          applicant_race_1  applicant_income_000s  loan_amount_000s  \\\n",
       "0                        3                   12.0              53.0   \n",
       "4                        5                   29.0              90.0   \n",
       "9                        5                   31.0              94.0   \n",
       "10                       3                   26.0              95.0   \n",
       "11                       5                   36.0              38.0   \n",
       "...                    ...                    ...               ...   \n",
       "14285480                 5                   20.0             140.0   \n",
       "14285481                 5                   38.0             122.0   \n",
       "14285483                 5                   18.0              30.0   \n",
       "14285484                 6                   32.0             164.0   \n",
       "14285487                 5                   31.0             188.0   \n",
       "\n",
       "          action_taken  loan_to_income  \n",
       "0                    4        4.416667  \n",
       "4                    4        3.103448  \n",
       "9                    1        3.032258  \n",
       "10                   3        3.653846  \n",
       "11                   3        1.055556  \n",
       "...                ...             ...  \n",
       "14285480             4        7.000000  \n",
       "14285481             1        3.210526  \n",
       "14285483             5        1.666667  \n",
       "14285484             1        5.125000  \n",
       "14285487             2        6.064516  \n",
       "\n",
       "[1693102 rows x 5 columns]"
      ]
     },
     "execution_count": 58,
     "metadata": {},
     "output_type": "execute_result"
    }
   ],
   "source": [
    "range_10_40 = np.arange(10,40)\n",
    "df_10_40 = df_fair.loc[(df_fair['applicant_income_000s'].isin(range_10_40))]\n",
    "df_10_40"
   ]
  },
  {
   "cell_type": "code",
   "execution_count": 59,
   "metadata": {},
   "outputs": [
    {
     "data": {
      "text/plain": [
       "applicant_race_1\n",
       "1    2.892857\n",
       "2    4.347826\n",
       "3    2.911765\n",
       "4    3.656250\n",
       "5    3.192928\n",
       "6    3.333333\n",
       "7    3.600000\n",
       "Name: loan_to_income, dtype: float64"
      ]
     },
     "execution_count": 59,
     "metadata": {},
     "output_type": "execute_result"
    }
   ],
   "source": [
    "df_10_40.groupby(['applicant_race_1'])['loan_to_income'].median()      "
   ]
  },
  {
   "cell_type": "code",
   "execution_count": 60,
   "metadata": {},
   "outputs": [
    {
     "data": {
      "text/plain": [
       "1    48.383400\n",
       "3    26.015737\n",
       "4    11.798059\n",
       "5     4.775552\n",
       "6     3.965685\n",
       "2     3.360491\n",
       "7     1.435108\n",
       "8     0.265968\n",
       "Name: action_taken, dtype: float64"
      ]
     },
     "execution_count": 60,
     "metadata": {},
     "output_type": "execute_result"
    }
   ],
   "source": [
    "white_action = df_10_40[df_10_40['applicant_race_1'] == 5]\n",
    "white_action['action_taken'].value_counts(normalize=True) * 100"
   ]
  },
  {
   "cell_type": "code",
   "execution_count": 61,
   "metadata": {},
   "outputs": [
    {
     "data": {
      "text/plain": [
       "3    39.880038\n",
       "1    33.051776\n",
       "4    11.873208\n",
       "5     6.363773\n",
       "2     3.218670\n",
       "7     3.002803\n",
       "6     2.458840\n",
       "8     0.150892\n",
       "Name: action_taken, dtype: float64"
      ]
     },
     "execution_count": 61,
     "metadata": {},
     "output_type": "execute_result"
    }
   ],
   "source": [
    "black_action = df_10_40[df_10_40['applicant_race_1'] == 3]\n",
    "black_action['action_taken'].value_counts(normalize=True) * 100"
   ]
  },
  {
   "cell_type": "code",
   "execution_count": 62,
   "metadata": {},
   "outputs": [
    {
     "data": {
      "text/html": [
       "<div>\n",
       "<style scoped>\n",
       "    .dataframe tbody tr th:only-of-type {\n",
       "        vertical-align: middle;\n",
       "    }\n",
       "\n",
       "    .dataframe tbody tr th {\n",
       "        vertical-align: top;\n",
       "    }\n",
       "\n",
       "    .dataframe thead th {\n",
       "        text-align: right;\n",
       "    }\n",
       "</style>\n",
       "<table border=\"1\" class=\"dataframe\">\n",
       "  <thead>\n",
       "    <tr style=\"text-align: right;\">\n",
       "      <th></th>\n",
       "      <th>applicant_race_1</th>\n",
       "      <th>applicant_income_000s</th>\n",
       "      <th>loan_amount_000s</th>\n",
       "      <th>action_taken</th>\n",
       "      <th>loan_to_income</th>\n",
       "    </tr>\n",
       "  </thead>\n",
       "  <tbody>\n",
       "    <tr>\n",
       "      <th>count</th>\n",
       "      <td>186226.0</td>\n",
       "      <td>186226.000000</td>\n",
       "      <td>186220.000000</td>\n",
       "      <td>186226.000000</td>\n",
       "      <td>186220.000000</td>\n",
       "    </tr>\n",
       "    <tr>\n",
       "      <th>mean</th>\n",
       "      <td>3.0</td>\n",
       "      <td>28.777271</td>\n",
       "      <td>88.845962</td>\n",
       "      <td>2.754207</td>\n",
       "      <td>3.226852</td>\n",
       "    </tr>\n",
       "    <tr>\n",
       "      <th>std</th>\n",
       "      <td>0.0</td>\n",
       "      <td>7.505715</td>\n",
       "      <td>66.074965</td>\n",
       "      <td>1.551324</td>\n",
       "      <td>2.914246</td>\n",
       "    </tr>\n",
       "    <tr>\n",
       "      <th>min</th>\n",
       "      <td>3.0</td>\n",
       "      <td>10.000000</td>\n",
       "      <td>1.000000</td>\n",
       "      <td>1.000000</td>\n",
       "      <td>0.025641</td>\n",
       "    </tr>\n",
       "    <tr>\n",
       "      <th>25%</th>\n",
       "      <td>3.0</td>\n",
       "      <td>24.000000</td>\n",
       "      <td>45.000000</td>\n",
       "      <td>1.000000</td>\n",
       "      <td>1.625000</td>\n",
       "    </tr>\n",
       "    <tr>\n",
       "      <th>50%</th>\n",
       "      <td>3.0</td>\n",
       "      <td>30.000000</td>\n",
       "      <td>81.000000</td>\n",
       "      <td>3.000000</td>\n",
       "      <td>2.911765</td>\n",
       "    </tr>\n",
       "    <tr>\n",
       "      <th>75%</th>\n",
       "      <td>3.0</td>\n",
       "      <td>35.000000</td>\n",
       "      <td>124.000000</td>\n",
       "      <td>3.000000</td>\n",
       "      <td>4.210526</td>\n",
       "    </tr>\n",
       "    <tr>\n",
       "      <th>max</th>\n",
       "      <td>3.0</td>\n",
       "      <td>39.000000</td>\n",
       "      <td>2101.000000</td>\n",
       "      <td>8.000000</td>\n",
       "      <td>122.727273</td>\n",
       "    </tr>\n",
       "  </tbody>\n",
       "</table>\n",
       "</div>"
      ],
      "text/plain": [
       "       applicant_race_1  applicant_income_000s  loan_amount_000s  \\\n",
       "count          186226.0          186226.000000     186220.000000   \n",
       "mean                3.0              28.777271         88.845962   \n",
       "std                 0.0               7.505715         66.074965   \n",
       "min                 3.0              10.000000          1.000000   \n",
       "25%                 3.0              24.000000         45.000000   \n",
       "50%                 3.0              30.000000         81.000000   \n",
       "75%                 3.0              35.000000        124.000000   \n",
       "max                 3.0              39.000000       2101.000000   \n",
       "\n",
       "        action_taken  loan_to_income  \n",
       "count  186226.000000   186220.000000  \n",
       "mean        2.754207        3.226852  \n",
       "std         1.551324        2.914246  \n",
       "min         1.000000        0.025641  \n",
       "25%         1.000000        1.625000  \n",
       "50%         3.000000        2.911765  \n",
       "75%         3.000000        4.210526  \n",
       "max         8.000000      122.727273  "
      ]
     },
     "execution_count": 62,
     "metadata": {},
     "output_type": "execute_result"
    }
   ],
   "source": [
    "black_action.describe()"
   ]
  },
  {
   "cell_type": "code",
   "execution_count": 64,
   "metadata": {},
   "outputs": [
    {
     "data": {
      "text/html": [
       "<div>\n",
       "<style scoped>\n",
       "    .dataframe tbody tr th:only-of-type {\n",
       "        vertical-align: middle;\n",
       "    }\n",
       "\n",
       "    .dataframe tbody tr th {\n",
       "        vertical-align: top;\n",
       "    }\n",
       "\n",
       "    .dataframe thead th {\n",
       "        text-align: right;\n",
       "    }\n",
       "</style>\n",
       "<table border=\"1\" class=\"dataframe\">\n",
       "  <thead>\n",
       "    <tr style=\"text-align: right;\">\n",
       "      <th></th>\n",
       "      <th>applicant_race_1</th>\n",
       "      <th>applicant_income_000s</th>\n",
       "      <th>loan_amount_000s</th>\n",
       "      <th>action_taken</th>\n",
       "      <th>loan_to_income</th>\n",
       "    </tr>\n",
       "  </thead>\n",
       "  <tbody>\n",
       "    <tr>\n",
       "      <th>count</th>\n",
       "      <td>1212174.0</td>\n",
       "      <td>1.212174e+06</td>\n",
       "      <td>1.211984e+06</td>\n",
       "      <td>1.212174e+06</td>\n",
       "      <td>1.211984e+06</td>\n",
       "    </tr>\n",
       "    <tr>\n",
       "      <th>mean</th>\n",
       "      <td>5.0</td>\n",
       "      <td>2.953894e+01</td>\n",
       "      <td>1.000539e+02</td>\n",
       "      <td>2.401892e+00</td>\n",
       "      <td>3.564041e+00</td>\n",
       "    </tr>\n",
       "    <tr>\n",
       "      <th>std</th>\n",
       "      <td>0.0</td>\n",
       "      <td>7.129614e+00</td>\n",
       "      <td>1.149595e+02</td>\n",
       "      <td>1.604130e+00</td>\n",
       "      <td>6.851670e+00</td>\n",
       "    </tr>\n",
       "    <tr>\n",
       "      <th>min</th>\n",
       "      <td>5.0</td>\n",
       "      <td>1.000000e+01</td>\n",
       "      <td>1.000000e+00</td>\n",
       "      <td>1.000000e+00</td>\n",
       "      <td>2.564103e-02</td>\n",
       "    </tr>\n",
       "    <tr>\n",
       "      <th>25%</th>\n",
       "      <td>5.0</td>\n",
       "      <td>2.500000e+01</td>\n",
       "      <td>5.800000e+01</td>\n",
       "      <td>1.000000e+00</td>\n",
       "      <td>2.038462e+00</td>\n",
       "    </tr>\n",
       "    <tr>\n",
       "      <th>50%</th>\n",
       "      <td>5.0</td>\n",
       "      <td>3.100000e+01</td>\n",
       "      <td>9.200000e+01</td>\n",
       "      <td>2.000000e+00</td>\n",
       "      <td>3.192928e+00</td>\n",
       "    </tr>\n",
       "    <tr>\n",
       "      <th>75%</th>\n",
       "      <td>5.0</td>\n",
       "      <td>3.500000e+01</td>\n",
       "      <td>1.320000e+02</td>\n",
       "      <td>3.000000e+00</td>\n",
       "      <td>4.413793e+00</td>\n",
       "    </tr>\n",
       "    <tr>\n",
       "      <th>max</th>\n",
       "      <td>5.0</td>\n",
       "      <td>3.900000e+01</td>\n",
       "      <td>9.999900e+04</td>\n",
       "      <td>8.000000e+00</td>\n",
       "      <td>6.666600e+03</td>\n",
       "    </tr>\n",
       "  </tbody>\n",
       "</table>\n",
       "</div>"
      ],
      "text/plain": [
       "       applicant_race_1  applicant_income_000s  loan_amount_000s  \\\n",
       "count         1212174.0           1.212174e+06      1.211984e+06   \n",
       "mean                5.0           2.953894e+01      1.000539e+02   \n",
       "std                 0.0           7.129614e+00      1.149595e+02   \n",
       "min                 5.0           1.000000e+01      1.000000e+00   \n",
       "25%                 5.0           2.500000e+01      5.800000e+01   \n",
       "50%                 5.0           3.100000e+01      9.200000e+01   \n",
       "75%                 5.0           3.500000e+01      1.320000e+02   \n",
       "max                 5.0           3.900000e+01      9.999900e+04   \n",
       "\n",
       "       action_taken  loan_to_income  \n",
       "count  1.212174e+06    1.211984e+06  \n",
       "mean   2.401892e+00    3.564041e+00  \n",
       "std    1.604130e+00    6.851670e+00  \n",
       "min    1.000000e+00    2.564103e-02  \n",
       "25%    1.000000e+00    2.038462e+00  \n",
       "50%    2.000000e+00    3.192928e+00  \n",
       "75%    3.000000e+00    4.413793e+00  \n",
       "max    8.000000e+00    6.666600e+03  "
      ]
     },
     "execution_count": 64,
     "metadata": {},
     "output_type": "execute_result"
    }
   ],
   "source": [
    "white_action.describe()"
   ]
  },
  {
   "cell_type": "markdown",
   "metadata": {},
   "source": [
    "Next, we looked into the bracket between $40,000 and $85,000 yearly. This area is of particular interest as it encompasses the median range for most of the population. "
   ]
  },
  {
   "cell_type": "code",
   "execution_count": 65,
   "metadata": {},
   "outputs": [
    {
     "data": {
      "text/html": [
       "<div>\n",
       "<style scoped>\n",
       "    .dataframe tbody tr th:only-of-type {\n",
       "        vertical-align: middle;\n",
       "    }\n",
       "\n",
       "    .dataframe tbody tr th {\n",
       "        vertical-align: top;\n",
       "    }\n",
       "\n",
       "    .dataframe thead th {\n",
       "        text-align: right;\n",
       "    }\n",
       "</style>\n",
       "<table border=\"1\" class=\"dataframe\">\n",
       "  <thead>\n",
       "    <tr style=\"text-align: right;\">\n",
       "      <th></th>\n",
       "      <th>applicant_race_1</th>\n",
       "      <th>applicant_income_000s</th>\n",
       "      <th>loan_amount_000s</th>\n",
       "      <th>action_taken</th>\n",
       "      <th>loan_to_income</th>\n",
       "    </tr>\n",
       "  </thead>\n",
       "  <tbody>\n",
       "    <tr>\n",
       "      <th>1</th>\n",
       "      <td>5</td>\n",
       "      <td>60.0</td>\n",
       "      <td>168.0</td>\n",
       "      <td>3</td>\n",
       "      <td>2.800000</td>\n",
       "    </tr>\n",
       "    <tr>\n",
       "      <th>2</th>\n",
       "      <td>6</td>\n",
       "      <td>50.0</td>\n",
       "      <td>103.0</td>\n",
       "      <td>5</td>\n",
       "      <td>2.060000</td>\n",
       "    </tr>\n",
       "    <tr>\n",
       "      <th>3</th>\n",
       "      <td>5</td>\n",
       "      <td>53.0</td>\n",
       "      <td>88.0</td>\n",
       "      <td>1</td>\n",
       "      <td>1.660377</td>\n",
       "    </tr>\n",
       "    <tr>\n",
       "      <th>5</th>\n",
       "      <td>5</td>\n",
       "      <td>43.0</td>\n",
       "      <td>202.0</td>\n",
       "      <td>4</td>\n",
       "      <td>4.697674</td>\n",
       "    </tr>\n",
       "    <tr>\n",
       "      <th>7</th>\n",
       "      <td>2</td>\n",
       "      <td>51.0</td>\n",
       "      <td>185.0</td>\n",
       "      <td>3</td>\n",
       "      <td>3.627451</td>\n",
       "    </tr>\n",
       "    <tr>\n",
       "      <th>...</th>\n",
       "      <td>...</td>\n",
       "      <td>...</td>\n",
       "      <td>...</td>\n",
       "      <td>...</td>\n",
       "      <td>...</td>\n",
       "    </tr>\n",
       "    <tr>\n",
       "      <th>14285478</th>\n",
       "      <td>5</td>\n",
       "      <td>83.0</td>\n",
       "      <td>81.0</td>\n",
       "      <td>1</td>\n",
       "      <td>0.975904</td>\n",
       "    </tr>\n",
       "    <tr>\n",
       "      <th>14285488</th>\n",
       "      <td>2</td>\n",
       "      <td>70.0</td>\n",
       "      <td>340.0</td>\n",
       "      <td>3</td>\n",
       "      <td>4.857143</td>\n",
       "    </tr>\n",
       "    <tr>\n",
       "      <th>14285489</th>\n",
       "      <td>5</td>\n",
       "      <td>84.0</td>\n",
       "      <td>324.0</td>\n",
       "      <td>3</td>\n",
       "      <td>3.857143</td>\n",
       "    </tr>\n",
       "    <tr>\n",
       "      <th>14285490</th>\n",
       "      <td>6</td>\n",
       "      <td>47.0</td>\n",
       "      <td>85.0</td>\n",
       "      <td>1</td>\n",
       "      <td>1.808511</td>\n",
       "    </tr>\n",
       "    <tr>\n",
       "      <th>14285494</th>\n",
       "      <td>5</td>\n",
       "      <td>55.0</td>\n",
       "      <td>141.0</td>\n",
       "      <td>3</td>\n",
       "      <td>2.563636</td>\n",
       "    </tr>\n",
       "  </tbody>\n",
       "</table>\n",
       "<p>5000830 rows × 5 columns</p>\n",
       "</div>"
      ],
      "text/plain": [
       "          applicant_race_1  applicant_income_000s  loan_amount_000s  \\\n",
       "1                        5                   60.0             168.0   \n",
       "2                        6                   50.0             103.0   \n",
       "3                        5                   53.0              88.0   \n",
       "5                        5                   43.0             202.0   \n",
       "7                        2                   51.0             185.0   \n",
       "...                    ...                    ...               ...   \n",
       "14285478                 5                   83.0              81.0   \n",
       "14285488                 2                   70.0             340.0   \n",
       "14285489                 5                   84.0             324.0   \n",
       "14285490                 6                   47.0              85.0   \n",
       "14285494                 5                   55.0             141.0   \n",
       "\n",
       "          action_taken  loan_to_income  \n",
       "1                    3        2.800000  \n",
       "2                    5        2.060000  \n",
       "3                    1        1.660377  \n",
       "5                    4        4.697674  \n",
       "7                    3        3.627451  \n",
       "...                ...             ...  \n",
       "14285478             1        0.975904  \n",
       "14285488             3        4.857143  \n",
       "14285489             3        3.857143  \n",
       "14285490             1        1.808511  \n",
       "14285494             3        2.563636  \n",
       "\n",
       "[5000830 rows x 5 columns]"
      ]
     },
     "execution_count": 65,
     "metadata": {},
     "output_type": "execute_result"
    }
   ],
   "source": [
    "range_40_85 = np.arange(40,85)\n",
    "df_40_85 = df_fair.loc[(df_fair['applicant_income_000s'].isin(range_40_85))]\n",
    "df_40_85"
   ]
  },
  {
   "cell_type": "code",
   "execution_count": 66,
   "metadata": {},
   "outputs": [
    {
     "data": {
      "text/plain": [
       "applicant_race_1\n",
       "1    2.509091\n",
       "2    3.579710\n",
       "3    2.698630\n",
       "4    3.294118\n",
       "5    2.682927\n",
       "6    2.714286\n",
       "7    3.068182\n",
       "Name: loan_to_income, dtype: float64"
      ]
     },
     "execution_count": 66,
     "metadata": {},
     "output_type": "execute_result"
    }
   ],
   "source": [
    "df_40_85.groupby(['applicant_race_1'])['loan_to_income'].median()  "
   ]
  },
  {
   "cell_type": "code",
   "execution_count": 67,
   "metadata": {},
   "outputs": [
    {
     "data": {
      "text/plain": [
       "1    59.390740\n",
       "3    14.133654\n",
       "4    12.190312\n",
       "6     6.125517\n",
       "5     4.051922\n",
       "2     3.102891\n",
       "7     0.729156\n",
       "8     0.275808\n",
       "Name: action_taken, dtype: float64"
      ]
     },
     "execution_count": 67,
     "metadata": {},
     "output_type": "execute_result"
    }
   ],
   "source": [
    "white_action = df_40_85[df_40_85['applicant_race_1'] == 5]\n",
    "white_action['action_taken'].value_counts(normalize=True) * 100"
   ]
  },
  {
   "cell_type": "code",
   "execution_count": 68,
   "metadata": {},
   "outputs": [
    {
     "data": {
      "text/plain": [
       "1    47.151183\n",
       "3    23.696660\n",
       "4    14.010980\n",
       "5     5.362210\n",
       "6     3.885156\n",
       "2     3.250891\n",
       "7     2.470293\n",
       "8     0.172628\n",
       "Name: action_taken, dtype: float64"
      ]
     },
     "execution_count": 68,
     "metadata": {},
     "output_type": "execute_result"
    }
   ],
   "source": [
    "black_action = df_40_85[df_40_85['applicant_race_1'] == 3]\n",
    "black_action['action_taken'].value_counts(normalize=True) * 100"
   ]
  },
  {
   "cell_type": "code",
   "execution_count": 69,
   "metadata": {},
   "outputs": [
    {
     "data": {
      "text/html": [
       "<div>\n",
       "<style scoped>\n",
       "    .dataframe tbody tr th:only-of-type {\n",
       "        vertical-align: middle;\n",
       "    }\n",
       "\n",
       "    .dataframe tbody tr th {\n",
       "        vertical-align: top;\n",
       "    }\n",
       "\n",
       "    .dataframe thead th {\n",
       "        text-align: right;\n",
       "    }\n",
       "</style>\n",
       "<table border=\"1\" class=\"dataframe\">\n",
       "  <thead>\n",
       "    <tr style=\"text-align: right;\">\n",
       "      <th></th>\n",
       "      <th>applicant_race_1</th>\n",
       "      <th>applicant_income_000s</th>\n",
       "      <th>loan_amount_000s</th>\n",
       "      <th>action_taken</th>\n",
       "      <th>loan_to_income</th>\n",
       "    </tr>\n",
       "  </thead>\n",
       "  <tbody>\n",
       "    <tr>\n",
       "      <th>count</th>\n",
       "      <td>437357.0</td>\n",
       "      <td>437357.000000</td>\n",
       "      <td>437349.000000</td>\n",
       "      <td>437357.000000</td>\n",
       "      <td>437349.000000</td>\n",
       "    </tr>\n",
       "    <tr>\n",
       "      <th>mean</th>\n",
       "      <td>3.0</td>\n",
       "      <td>59.800861</td>\n",
       "      <td>160.662494</td>\n",
       "      <td>2.495819</td>\n",
       "      <td>2.710370</td>\n",
       "    </tr>\n",
       "    <tr>\n",
       "      <th>std</th>\n",
       "      <td>0.0</td>\n",
       "      <td>12.560781</td>\n",
       "      <td>93.256482</td>\n",
       "      <td>1.675419</td>\n",
       "      <td>1.504642</td>\n",
       "    </tr>\n",
       "    <tr>\n",
       "      <th>min</th>\n",
       "      <td>3.0</td>\n",
       "      <td>40.000000</td>\n",
       "      <td>1.000000</td>\n",
       "      <td>1.000000</td>\n",
       "      <td>0.011905</td>\n",
       "    </tr>\n",
       "    <tr>\n",
       "      <th>25%</th>\n",
       "      <td>3.0</td>\n",
       "      <td>49.000000</td>\n",
       "      <td>97.000000</td>\n",
       "      <td>1.000000</td>\n",
       "      <td>1.684932</td>\n",
       "    </tr>\n",
       "    <tr>\n",
       "      <th>50%</th>\n",
       "      <td>3.0</td>\n",
       "      <td>59.000000</td>\n",
       "      <td>156.000000</td>\n",
       "      <td>2.000000</td>\n",
       "      <td>2.698630</td>\n",
       "    </tr>\n",
       "    <tr>\n",
       "      <th>75%</th>\n",
       "      <td>3.0</td>\n",
       "      <td>70.000000</td>\n",
       "      <td>216.000000</td>\n",
       "      <td>4.000000</td>\n",
       "      <td>3.648649</td>\n",
       "    </tr>\n",
       "    <tr>\n",
       "      <th>max</th>\n",
       "      <td>3.0</td>\n",
       "      <td>84.000000</td>\n",
       "      <td>3100.000000</td>\n",
       "      <td>8.000000</td>\n",
       "      <td>60.784314</td>\n",
       "    </tr>\n",
       "  </tbody>\n",
       "</table>\n",
       "</div>"
      ],
      "text/plain": [
       "       applicant_race_1  applicant_income_000s  loan_amount_000s  \\\n",
       "count          437357.0          437357.000000     437349.000000   \n",
       "mean                3.0              59.800861        160.662494   \n",
       "std                 0.0              12.560781         93.256482   \n",
       "min                 3.0              40.000000          1.000000   \n",
       "25%                 3.0              49.000000         97.000000   \n",
       "50%                 3.0              59.000000        156.000000   \n",
       "75%                 3.0              70.000000        216.000000   \n",
       "max                 3.0              84.000000       3100.000000   \n",
       "\n",
       "        action_taken  loan_to_income  \n",
       "count  437357.000000   437349.000000  \n",
       "mean        2.495819        2.710370  \n",
       "std         1.675419        1.504642  \n",
       "min         1.000000        0.011905  \n",
       "25%         1.000000        1.684932  \n",
       "50%         2.000000        2.698630  \n",
       "75%         4.000000        3.648649  \n",
       "max         8.000000       60.784314  "
      ]
     },
     "execution_count": 69,
     "metadata": {},
     "output_type": "execute_result"
    }
   ],
   "source": [
    "black_action.describe()"
   ]
  },
  {
   "cell_type": "code",
   "execution_count": 70,
   "metadata": {},
   "outputs": [
    {
     "data": {
      "text/html": [
       "<div>\n",
       "<style scoped>\n",
       "    .dataframe tbody tr th:only-of-type {\n",
       "        vertical-align: middle;\n",
       "    }\n",
       "\n",
       "    .dataframe tbody tr th {\n",
       "        vertical-align: top;\n",
       "    }\n",
       "\n",
       "    .dataframe thead th {\n",
       "        text-align: right;\n",
       "    }\n",
       "</style>\n",
       "<table border=\"1\" class=\"dataframe\">\n",
       "  <thead>\n",
       "    <tr style=\"text-align: right;\">\n",
       "      <th></th>\n",
       "      <th>applicant_race_1</th>\n",
       "      <th>applicant_income_000s</th>\n",
       "      <th>loan_amount_000s</th>\n",
       "      <th>action_taken</th>\n",
       "      <th>loan_to_income</th>\n",
       "    </tr>\n",
       "  </thead>\n",
       "  <tbody>\n",
       "    <tr>\n",
       "      <th>count</th>\n",
       "      <td>3632967.0</td>\n",
       "      <td>3.632967e+06</td>\n",
       "      <td>3.632603e+06</td>\n",
       "      <td>3.632967e+06</td>\n",
       "      <td>3.632603e+06</td>\n",
       "    </tr>\n",
       "    <tr>\n",
       "      <th>mean</th>\n",
       "      <td>5.0</td>\n",
       "      <td>6.085646e+01</td>\n",
       "      <td>1.656609e+02</td>\n",
       "      <td>2.210820e+00</td>\n",
       "      <td>2.757408e+00</td>\n",
       "    </tr>\n",
       "    <tr>\n",
       "      <th>std</th>\n",
       "      <td>0.0</td>\n",
       "      <td>1.267135e+01</td>\n",
       "      <td>1.015166e+02</td>\n",
       "      <td>1.674738e+00</td>\n",
       "      <td>1.592413e+00</td>\n",
       "    </tr>\n",
       "    <tr>\n",
       "      <th>min</th>\n",
       "      <td>5.0</td>\n",
       "      <td>4.000000e+01</td>\n",
       "      <td>1.000000e+00</td>\n",
       "      <td>1.000000e+00</td>\n",
       "      <td>1.190476e-02</td>\n",
       "    </tr>\n",
       "    <tr>\n",
       "      <th>25%</th>\n",
       "      <td>5.0</td>\n",
       "      <td>5.000000e+01</td>\n",
       "      <td>1.040000e+02</td>\n",
       "      <td>1.000000e+00</td>\n",
       "      <td>1.781250e+00</td>\n",
       "    </tr>\n",
       "    <tr>\n",
       "      <th>50%</th>\n",
       "      <td>5.0</td>\n",
       "      <td>6.000000e+01</td>\n",
       "      <td>1.580000e+02</td>\n",
       "      <td>1.000000e+00</td>\n",
       "      <td>2.682927e+00</td>\n",
       "    </tr>\n",
       "    <tr>\n",
       "      <th>75%</th>\n",
       "      <td>5.0</td>\n",
       "      <td>7.200000e+01</td>\n",
       "      <td>2.180000e+02</td>\n",
       "      <td>3.000000e+00</td>\n",
       "      <td>3.636364e+00</td>\n",
       "    </tr>\n",
       "    <tr>\n",
       "      <th>max</th>\n",
       "      <td>5.0</td>\n",
       "      <td>8.400000e+01</td>\n",
       "      <td>8.216900e+04</td>\n",
       "      <td>8.000000e+00</td>\n",
       "      <td>1.125603e+03</td>\n",
       "    </tr>\n",
       "  </tbody>\n",
       "</table>\n",
       "</div>"
      ],
      "text/plain": [
       "       applicant_race_1  applicant_income_000s  loan_amount_000s  \\\n",
       "count         3632967.0           3.632967e+06      3.632603e+06   \n",
       "mean                5.0           6.085646e+01      1.656609e+02   \n",
       "std                 0.0           1.267135e+01      1.015166e+02   \n",
       "min                 5.0           4.000000e+01      1.000000e+00   \n",
       "25%                 5.0           5.000000e+01      1.040000e+02   \n",
       "50%                 5.0           6.000000e+01      1.580000e+02   \n",
       "75%                 5.0           7.200000e+01      2.180000e+02   \n",
       "max                 5.0           8.400000e+01      8.216900e+04   \n",
       "\n",
       "       action_taken  loan_to_income  \n",
       "count  3.632967e+06    3.632603e+06  \n",
       "mean   2.210820e+00    2.757408e+00  \n",
       "std    1.674738e+00    1.592413e+00  \n",
       "min    1.000000e+00    1.190476e-02  \n",
       "25%    1.000000e+00    1.781250e+00  \n",
       "50%    1.000000e+00    2.682927e+00  \n",
       "75%    3.000000e+00    3.636364e+00  \n",
       "max    8.000000e+00    1.125603e+03  "
      ]
     },
     "execution_count": 70,
     "metadata": {},
     "output_type": "execute_result"
    }
   ],
   "source": [
    "white_action.describe()"
   ]
  },
  {
   "cell_type": "markdown",
   "metadata": {},
   "source": [
    "Next, we looked into the bracket between  85,000 𝑎𝑛𝑑 163,000 yearly. We wanted to see how upper middle class brackets would be treated. "
   ]
  },
  {
   "cell_type": "code",
   "execution_count": 83,
   "metadata": {},
   "outputs": [
    {
     "data": {
      "text/html": [
       "<div>\n",
       "<style scoped>\n",
       "    .dataframe tbody tr th:only-of-type {\n",
       "        vertical-align: middle;\n",
       "    }\n",
       "\n",
       "    .dataframe tbody tr th {\n",
       "        vertical-align: top;\n",
       "    }\n",
       "\n",
       "    .dataframe thead th {\n",
       "        text-align: right;\n",
       "    }\n",
       "</style>\n",
       "<table border=\"1\" class=\"dataframe\">\n",
       "  <thead>\n",
       "    <tr style=\"text-align: right;\">\n",
       "      <th></th>\n",
       "      <th>applicant_race_1</th>\n",
       "      <th>applicant_income_000s</th>\n",
       "      <th>loan_amount_000s</th>\n",
       "      <th>action_taken</th>\n",
       "      <th>loan_to_income</th>\n",
       "    </tr>\n",
       "  </thead>\n",
       "  <tbody>\n",
       "    <tr>\n",
       "      <th>15</th>\n",
       "      <td>5</td>\n",
       "      <td>130.0</td>\n",
       "      <td>285.0</td>\n",
       "      <td>6</td>\n",
       "      <td>2.192308</td>\n",
       "    </tr>\n",
       "    <tr>\n",
       "      <th>17</th>\n",
       "      <td>5</td>\n",
       "      <td>94.0</td>\n",
       "      <td>132.0</td>\n",
       "      <td>6</td>\n",
       "      <td>1.404255</td>\n",
       "    </tr>\n",
       "    <tr>\n",
       "      <th>18</th>\n",
       "      <td>5</td>\n",
       "      <td>144.0</td>\n",
       "      <td>570.0</td>\n",
       "      <td>3</td>\n",
       "      <td>3.958333</td>\n",
       "    </tr>\n",
       "    <tr>\n",
       "      <th>21</th>\n",
       "      <td>6</td>\n",
       "      <td>119.0</td>\n",
       "      <td>199.0</td>\n",
       "      <td>1</td>\n",
       "      <td>1.672269</td>\n",
       "    </tr>\n",
       "    <tr>\n",
       "      <th>26</th>\n",
       "      <td>6</td>\n",
       "      <td>109.0</td>\n",
       "      <td>152.0</td>\n",
       "      <td>5</td>\n",
       "      <td>1.394495</td>\n",
       "    </tr>\n",
       "    <tr>\n",
       "      <th>...</th>\n",
       "      <td>...</td>\n",
       "      <td>...</td>\n",
       "      <td>...</td>\n",
       "      <td>...</td>\n",
       "      <td>...</td>\n",
       "    </tr>\n",
       "    <tr>\n",
       "      <th>14285468</th>\n",
       "      <td>5</td>\n",
       "      <td>100.0</td>\n",
       "      <td>449.0</td>\n",
       "      <td>3</td>\n",
       "      <td>4.490000</td>\n",
       "    </tr>\n",
       "    <tr>\n",
       "      <th>14285470</th>\n",
       "      <td>5</td>\n",
       "      <td>150.0</td>\n",
       "      <td>320.0</td>\n",
       "      <td>4</td>\n",
       "      <td>2.133333</td>\n",
       "    </tr>\n",
       "    <tr>\n",
       "      <th>14285474</th>\n",
       "      <td>5</td>\n",
       "      <td>99.0</td>\n",
       "      <td>576.0</td>\n",
       "      <td>2</td>\n",
       "      <td>5.818182</td>\n",
       "    </tr>\n",
       "    <tr>\n",
       "      <th>14285486</th>\n",
       "      <td>6</td>\n",
       "      <td>161.0</td>\n",
       "      <td>424.0</td>\n",
       "      <td>1</td>\n",
       "      <td>2.633540</td>\n",
       "    </tr>\n",
       "    <tr>\n",
       "      <th>14285495</th>\n",
       "      <td>5</td>\n",
       "      <td>106.0</td>\n",
       "      <td>75.0</td>\n",
       "      <td>3</td>\n",
       "      <td>0.707547</td>\n",
       "    </tr>\n",
       "  </tbody>\n",
       "</table>\n",
       "<p>3894100 rows × 5 columns</p>\n",
       "</div>"
      ],
      "text/plain": [
       "          applicant_race_1  applicant_income_000s  loan_amount_000s  \\\n",
       "15                       5                  130.0             285.0   \n",
       "17                       5                   94.0             132.0   \n",
       "18                       5                  144.0             570.0   \n",
       "21                       6                  119.0             199.0   \n",
       "26                       6                  109.0             152.0   \n",
       "...                    ...                    ...               ...   \n",
       "14285468                 5                  100.0             449.0   \n",
       "14285470                 5                  150.0             320.0   \n",
       "14285474                 5                   99.0             576.0   \n",
       "14285486                 6                  161.0             424.0   \n",
       "14285495                 5                  106.0              75.0   \n",
       "\n",
       "          action_taken  loan_to_income  \n",
       "15                   6        2.192308  \n",
       "17                   6        1.404255  \n",
       "18                   3        3.958333  \n",
       "21                   1        1.672269  \n",
       "26                   5        1.394495  \n",
       "...                ...             ...  \n",
       "14285468             3        4.490000  \n",
       "14285470             4        2.133333  \n",
       "14285474             2        5.818182  \n",
       "14285486             1        2.633540  \n",
       "14285495             3        0.707547  \n",
       "\n",
       "[3894100 rows x 5 columns]"
      ]
     },
     "execution_count": 83,
     "metadata": {},
     "output_type": "execute_result"
    }
   ],
   "source": [
    "range_85_163 = np.arange(85,163)\n",
    "df_85_163 = df_fair.loc[(df_fair['applicant_income_000s'].isin(range_85_163))]\n",
    "df_85_163"
   ]
  },
  {
   "cell_type": "code",
   "execution_count": 84,
   "metadata": {},
   "outputs": [
    {
     "data": {
      "text/plain": [
       "1    62.571129\n",
       "4    12.293348\n",
       "3    10.164868\n",
       "6     7.705853\n",
       "5     3.562290\n",
       "2     2.993296\n",
       "7     0.415627\n",
       "8     0.293590\n",
       "Name: action_taken, dtype: float64"
      ]
     },
     "execution_count": 84,
     "metadata": {},
     "output_type": "execute_result"
    }
   ],
   "source": [
    "white_action = df_85_163[df_85_163['applicant_race_1'] == 5]\n",
    "white_action['action_taken'].value_counts(normalize=True) * 100"
   ]
  },
  {
   "cell_type": "code",
   "execution_count": 85,
   "metadata": {
    "scrolled": true
   },
   "outputs": [
    {
     "data": {
      "text/plain": [
       "1    51.510545\n",
       "3    18.517326\n",
       "4    14.858093\n",
       "6     5.084964\n",
       "5     4.734973\n",
       "2     3.292494\n",
       "7     1.811365\n",
       "8     0.190241\n",
       "Name: action_taken, dtype: float64"
      ]
     },
     "execution_count": 85,
     "metadata": {},
     "output_type": "execute_result"
    }
   ],
   "source": [
    "black_action = df_85_163[df_85_163['applicant_race_1'] == 3]\n",
    "black_action['action_taken'].value_counts(normalize=True) * 100"
   ]
  },
  {
   "cell_type": "code",
   "execution_count": 86,
   "metadata": {},
   "outputs": [
    {
     "data": {
      "text/html": [
       "<div>\n",
       "<style scoped>\n",
       "    .dataframe tbody tr th:only-of-type {\n",
       "        vertical-align: middle;\n",
       "    }\n",
       "\n",
       "    .dataframe tbody tr th {\n",
       "        vertical-align: top;\n",
       "    }\n",
       "\n",
       "    .dataframe thead th {\n",
       "        text-align: right;\n",
       "    }\n",
       "</style>\n",
       "<table border=\"1\" class=\"dataframe\">\n",
       "  <thead>\n",
       "    <tr style=\"text-align: right;\">\n",
       "      <th></th>\n",
       "      <th>applicant_race_1</th>\n",
       "      <th>applicant_income_000s</th>\n",
       "      <th>loan_amount_000s</th>\n",
       "      <th>action_taken</th>\n",
       "      <th>loan_to_income</th>\n",
       "    </tr>\n",
       "  </thead>\n",
       "  <tbody>\n",
       "    <tr>\n",
       "      <th>count</th>\n",
       "      <td>232863.0</td>\n",
       "      <td>232863.000000</td>\n",
       "      <td>232859.000000</td>\n",
       "      <td>232863.000000</td>\n",
       "      <td>232859.000000</td>\n",
       "    </tr>\n",
       "    <tr>\n",
       "      <th>mean</th>\n",
       "      <td>3.0</td>\n",
       "      <td>112.179792</td>\n",
       "      <td>251.056231</td>\n",
       "      <td>2.414660</td>\n",
       "      <td>2.267871</td>\n",
       "    </tr>\n",
       "    <tr>\n",
       "      <th>std</th>\n",
       "      <td>0.0</td>\n",
       "      <td>20.777051</td>\n",
       "      <td>140.149382</td>\n",
       "      <td>1.698158</td>\n",
       "      <td>1.247861</td>\n",
       "    </tr>\n",
       "    <tr>\n",
       "      <th>min</th>\n",
       "      <td>3.0</td>\n",
       "      <td>85.000000</td>\n",
       "      <td>1.000000</td>\n",
       "      <td>1.000000</td>\n",
       "      <td>0.006250</td>\n",
       "    </tr>\n",
       "    <tr>\n",
       "      <th>25%</th>\n",
       "      <td>3.0</td>\n",
       "      <td>95.000000</td>\n",
       "      <td>153.000000</td>\n",
       "      <td>1.000000</td>\n",
       "      <td>1.405660</td>\n",
       "    </tr>\n",
       "    <tr>\n",
       "      <th>50%</th>\n",
       "      <td>3.0</td>\n",
       "      <td>108.000000</td>\n",
       "      <td>245.000000</td>\n",
       "      <td>1.000000</td>\n",
       "      <td>2.230263</td>\n",
       "    </tr>\n",
       "    <tr>\n",
       "      <th>75%</th>\n",
       "      <td>3.0</td>\n",
       "      <td>127.000000</td>\n",
       "      <td>339.000000</td>\n",
       "      <td>4.000000</td>\n",
       "      <td>3.031579</td>\n",
       "    </tr>\n",
       "    <tr>\n",
       "      <th>max</th>\n",
       "      <td>3.0</td>\n",
       "      <td>162.000000</td>\n",
       "      <td>3705.000000</td>\n",
       "      <td>8.000000</td>\n",
       "      <td>35.164835</td>\n",
       "    </tr>\n",
       "  </tbody>\n",
       "</table>\n",
       "</div>"
      ],
      "text/plain": [
       "       applicant_race_1  applicant_income_000s  loan_amount_000s  \\\n",
       "count          232863.0          232863.000000     232859.000000   \n",
       "mean                3.0             112.179792        251.056231   \n",
       "std                 0.0              20.777051        140.149382   \n",
       "min                 3.0              85.000000          1.000000   \n",
       "25%                 3.0              95.000000        153.000000   \n",
       "50%                 3.0             108.000000        245.000000   \n",
       "75%                 3.0             127.000000        339.000000   \n",
       "max                 3.0             162.000000       3705.000000   \n",
       "\n",
       "        action_taken  loan_to_income  \n",
       "count  232863.000000   232859.000000  \n",
       "mean        2.414660        2.267871  \n",
       "std         1.698158        1.247861  \n",
       "min         1.000000        0.006250  \n",
       "25%         1.000000        1.405660  \n",
       "50%         1.000000        2.230263  \n",
       "75%         4.000000        3.031579  \n",
       "max         8.000000       35.164835  "
      ]
     },
     "execution_count": 86,
     "metadata": {},
     "output_type": "execute_result"
    }
   ],
   "source": [
    "black_action.describe()"
   ]
  },
  {
   "cell_type": "code",
   "execution_count": 87,
   "metadata": {},
   "outputs": [
    {
     "data": {
      "text/html": [
       "<div>\n",
       "<style scoped>\n",
       "    .dataframe tbody tr th:only-of-type {\n",
       "        vertical-align: middle;\n",
       "    }\n",
       "\n",
       "    .dataframe tbody tr th {\n",
       "        vertical-align: top;\n",
       "    }\n",
       "\n",
       "    .dataframe thead th {\n",
       "        text-align: right;\n",
       "    }\n",
       "</style>\n",
       "<table border=\"1\" class=\"dataframe\">\n",
       "  <thead>\n",
       "    <tr style=\"text-align: right;\">\n",
       "      <th></th>\n",
       "      <th>applicant_race_1</th>\n",
       "      <th>applicant_income_000s</th>\n",
       "      <th>loan_amount_000s</th>\n",
       "      <th>action_taken</th>\n",
       "      <th>loan_to_income</th>\n",
       "    </tr>\n",
       "  </thead>\n",
       "  <tbody>\n",
       "    <tr>\n",
       "      <th>count</th>\n",
       "      <td>2777006.0</td>\n",
       "      <td>2.777006e+06</td>\n",
       "      <td>2.776792e+06</td>\n",
       "      <td>2.777006e+06</td>\n",
       "      <td>2.776792e+06</td>\n",
       "    </tr>\n",
       "    <tr>\n",
       "      <th>mean</th>\n",
       "      <td>5.0</td>\n",
       "      <td>1.149445e+02</td>\n",
       "      <td>2.520583e+02</td>\n",
       "      <td>2.175304e+00</td>\n",
       "      <td>2.221053e+00</td>\n",
       "    </tr>\n",
       "    <tr>\n",
       "      <th>std</th>\n",
       "      <td>0.0</td>\n",
       "      <td>2.146654e+01</td>\n",
       "      <td>1.397729e+02</td>\n",
       "      <td>1.717995e+00</td>\n",
       "      <td>1.201478e+00</td>\n",
       "    </tr>\n",
       "    <tr>\n",
       "      <th>min</th>\n",
       "      <td>5.0</td>\n",
       "      <td>8.500000e+01</td>\n",
       "      <td>1.000000e+00</td>\n",
       "      <td>1.000000e+00</td>\n",
       "      <td>6.172840e-03</td>\n",
       "    </tr>\n",
       "    <tr>\n",
       "      <th>25%</th>\n",
       "      <td>5.0</td>\n",
       "      <td>9.600000e+01</td>\n",
       "      <td>1.570000e+02</td>\n",
       "      <td>1.000000e+00</td>\n",
       "      <td>1.406593e+00</td>\n",
       "    </tr>\n",
       "    <tr>\n",
       "      <th>50%</th>\n",
       "      <td>5.0</td>\n",
       "      <td>1.110000e+02</td>\n",
       "      <td>2.400000e+02</td>\n",
       "      <td>1.000000e+00</td>\n",
       "      <td>2.134921e+00</td>\n",
       "    </tr>\n",
       "    <tr>\n",
       "      <th>75%</th>\n",
       "      <td>5.0</td>\n",
       "      <td>1.310000e+02</td>\n",
       "      <td>3.320000e+02</td>\n",
       "      <td>3.000000e+00</td>\n",
       "      <td>2.914894e+00</td>\n",
       "    </tr>\n",
       "    <tr>\n",
       "      <th>max</th>\n",
       "      <td>5.0</td>\n",
       "      <td>1.620000e+02</td>\n",
       "      <td>1.148000e+04</td>\n",
       "      <td>8.000000e+00</td>\n",
       "      <td>9.982609e+01</td>\n",
       "    </tr>\n",
       "  </tbody>\n",
       "</table>\n",
       "</div>"
      ],
      "text/plain": [
       "       applicant_race_1  applicant_income_000s  loan_amount_000s  \\\n",
       "count         2777006.0           2.777006e+06      2.776792e+06   \n",
       "mean                5.0           1.149445e+02      2.520583e+02   \n",
       "std                 0.0           2.146654e+01      1.397729e+02   \n",
       "min                 5.0           8.500000e+01      1.000000e+00   \n",
       "25%                 5.0           9.600000e+01      1.570000e+02   \n",
       "50%                 5.0           1.110000e+02      2.400000e+02   \n",
       "75%                 5.0           1.310000e+02      3.320000e+02   \n",
       "max                 5.0           1.620000e+02      1.148000e+04   \n",
       "\n",
       "       action_taken  loan_to_income  \n",
       "count  2.777006e+06    2.776792e+06  \n",
       "mean   2.175304e+00    2.221053e+00  \n",
       "std    1.717995e+00    1.201478e+00  \n",
       "min    1.000000e+00    6.172840e-03  \n",
       "25%    1.000000e+00    1.406593e+00  \n",
       "50%    1.000000e+00    2.134921e+00  \n",
       "75%    3.000000e+00    2.914894e+00  \n",
       "max    8.000000e+00    9.982609e+01  "
      ]
     },
     "execution_count": 87,
     "metadata": {},
     "output_type": "execute_result"
    }
   ],
   "source": [
    "white_action.describe()"
   ]
  },
  {
   "cell_type": "markdown",
   "metadata": {},
   "source": [
    "Next, we looked into the range of income between $ 163k and 207k. "
   ]
  },
  {
   "cell_type": "code",
   "execution_count": 91,
   "metadata": {},
   "outputs": [
    {
     "data": {
      "text/html": [
       "<div>\n",
       "<style scoped>\n",
       "    .dataframe tbody tr th:only-of-type {\n",
       "        vertical-align: middle;\n",
       "    }\n",
       "\n",
       "    .dataframe tbody tr th {\n",
       "        vertical-align: top;\n",
       "    }\n",
       "\n",
       "    .dataframe thead th {\n",
       "        text-align: right;\n",
       "    }\n",
       "</style>\n",
       "<table border=\"1\" class=\"dataframe\">\n",
       "  <thead>\n",
       "    <tr style=\"text-align: right;\">\n",
       "      <th></th>\n",
       "      <th>applicant_race_1</th>\n",
       "      <th>applicant_income_000s</th>\n",
       "      <th>loan_amount_000s</th>\n",
       "      <th>action_taken</th>\n",
       "      <th>loan_to_income</th>\n",
       "    </tr>\n",
       "  </thead>\n",
       "  <tbody>\n",
       "    <tr>\n",
       "      <th>16</th>\n",
       "      <td>6</td>\n",
       "      <td>181.0</td>\n",
       "      <td>800.0</td>\n",
       "      <td>1</td>\n",
       "      <td>4.419890</td>\n",
       "    </tr>\n",
       "    <tr>\n",
       "      <th>37</th>\n",
       "      <td>6</td>\n",
       "      <td>204.0</td>\n",
       "      <td>183.0</td>\n",
       "      <td>1</td>\n",
       "      <td>0.897059</td>\n",
       "    </tr>\n",
       "    <tr>\n",
       "      <th>71</th>\n",
       "      <td>5</td>\n",
       "      <td>167.0</td>\n",
       "      <td>294.0</td>\n",
       "      <td>6</td>\n",
       "      <td>1.760479</td>\n",
       "    </tr>\n",
       "    <tr>\n",
       "      <th>97</th>\n",
       "      <td>1</td>\n",
       "      <td>179.0</td>\n",
       "      <td>550.0</td>\n",
       "      <td>1</td>\n",
       "      <td>3.072626</td>\n",
       "    </tr>\n",
       "    <tr>\n",
       "      <th>141</th>\n",
       "      <td>5</td>\n",
       "      <td>196.0</td>\n",
       "      <td>264.0</td>\n",
       "      <td>3</td>\n",
       "      <td>1.346939</td>\n",
       "    </tr>\n",
       "    <tr>\n",
       "      <th>...</th>\n",
       "      <td>...</td>\n",
       "      <td>...</td>\n",
       "      <td>...</td>\n",
       "      <td>...</td>\n",
       "      <td>...</td>\n",
       "    </tr>\n",
       "    <tr>\n",
       "      <th>14285466</th>\n",
       "      <td>5</td>\n",
       "      <td>171.0</td>\n",
       "      <td>238.0</td>\n",
       "      <td>3</td>\n",
       "      <td>1.391813</td>\n",
       "    </tr>\n",
       "    <tr>\n",
       "      <th>14285476</th>\n",
       "      <td>3</td>\n",
       "      <td>186.0</td>\n",
       "      <td>332.0</td>\n",
       "      <td>1</td>\n",
       "      <td>1.784946</td>\n",
       "    </tr>\n",
       "    <tr>\n",
       "      <th>14285491</th>\n",
       "      <td>6</td>\n",
       "      <td>167.0</td>\n",
       "      <td>832.0</td>\n",
       "      <td>1</td>\n",
       "      <td>4.982036</td>\n",
       "    </tr>\n",
       "    <tr>\n",
       "      <th>14285492</th>\n",
       "      <td>6</td>\n",
       "      <td>193.0</td>\n",
       "      <td>840.0</td>\n",
       "      <td>3</td>\n",
       "      <td>4.352332</td>\n",
       "    </tr>\n",
       "    <tr>\n",
       "      <th>14285493</th>\n",
       "      <td>6</td>\n",
       "      <td>175.0</td>\n",
       "      <td>476.0</td>\n",
       "      <td>1</td>\n",
       "      <td>2.720000</td>\n",
       "    </tr>\n",
       "  </tbody>\n",
       "</table>\n",
       "<p>720556 rows × 5 columns</p>\n",
       "</div>"
      ],
      "text/plain": [
       "          applicant_race_1  applicant_income_000s  loan_amount_000s  \\\n",
       "16                       6                  181.0             800.0   \n",
       "37                       6                  204.0             183.0   \n",
       "71                       5                  167.0             294.0   \n",
       "97                       1                  179.0             550.0   \n",
       "141                      5                  196.0             264.0   \n",
       "...                    ...                    ...               ...   \n",
       "14285466                 5                  171.0             238.0   \n",
       "14285476                 3                  186.0             332.0   \n",
       "14285491                 6                  167.0             832.0   \n",
       "14285492                 6                  193.0             840.0   \n",
       "14285493                 6                  175.0             476.0   \n",
       "\n",
       "          action_taken  loan_to_income  \n",
       "16                   1        4.419890  \n",
       "37                   1        0.897059  \n",
       "71                   6        1.760479  \n",
       "97                   1        3.072626  \n",
       "141                  3        1.346939  \n",
       "...                ...             ...  \n",
       "14285466             3        1.391813  \n",
       "14285476             1        1.784946  \n",
       "14285491             1        4.982036  \n",
       "14285492             3        4.352332  \n",
       "14285493             1        2.720000  \n",
       "\n",
       "[720556 rows x 5 columns]"
      ]
     },
     "execution_count": 91,
     "metadata": {},
     "output_type": "execute_result"
    }
   ],
   "source": [
    "range_163_207 = np.arange(163,207)\n",
    "df_163_207 = df_fair.loc[(df_fair['applicant_income_000s'].isin(range_163_207))]\n",
    "df_163_207"
   ]
  },
  {
   "cell_type": "code",
   "execution_count": 92,
   "metadata": {},
   "outputs": [
    {
     "data": {
      "text/plain": [
       "1    63.283229\n",
       "4    12.448198\n",
       "3     9.027158\n",
       "6     8.204628\n",
       "5     3.458642\n",
       "2     2.984181\n",
       "8     0.301804\n",
       "7     0.292158\n",
       "Name: action_taken, dtype: float64"
      ]
     },
     "execution_count": 92,
     "metadata": {},
     "output_type": "execute_result"
    }
   ],
   "source": [
    "white_action = df_163_207[df_163_207['applicant_race_1'] == 5]\n",
    "white_action['action_taken'].value_counts(normalize=True) * 100"
   ]
  },
  {
   "cell_type": "code",
   "execution_count": 93,
   "metadata": {},
   "outputs": [
    {
     "data": {
      "text/plain": [
       "1    52.505983\n",
       "3    16.957265\n",
       "4    15.401709\n",
       "6     5.552137\n",
       "5     4.748718\n",
       "2     3.333333\n",
       "7     1.319658\n",
       "8     0.181197\n",
       "Name: action_taken, dtype: float64"
      ]
     },
     "execution_count": 93,
     "metadata": {},
     "output_type": "execute_result"
    }
   ],
   "source": [
    "black_action = df_163_207[df_163_207['applicant_race_1'] == 3]\n",
    "black_action['action_taken'].value_counts(normalize=True) * 100"
   ]
  },
  {
   "cell_type": "code",
   "execution_count": 94,
   "metadata": {},
   "outputs": [
    {
     "data": {
      "text/html": [
       "<div>\n",
       "<style scoped>\n",
       "    .dataframe tbody tr th:only-of-type {\n",
       "        vertical-align: middle;\n",
       "    }\n",
       "\n",
       "    .dataframe tbody tr th {\n",
       "        vertical-align: top;\n",
       "    }\n",
       "\n",
       "    .dataframe thead th {\n",
       "        text-align: right;\n",
       "    }\n",
       "</style>\n",
       "<table border=\"1\" class=\"dataframe\">\n",
       "  <thead>\n",
       "    <tr style=\"text-align: right;\">\n",
       "      <th></th>\n",
       "      <th>applicant_race_1</th>\n",
       "      <th>applicant_income_000s</th>\n",
       "      <th>loan_amount_000s</th>\n",
       "      <th>action_taken</th>\n",
       "      <th>loan_to_income</th>\n",
       "    </tr>\n",
       "  </thead>\n",
       "  <tbody>\n",
       "    <tr>\n",
       "      <th>count</th>\n",
       "      <td>29250.0</td>\n",
       "      <td>29250.000000</td>\n",
       "      <td>29249.000000</td>\n",
       "      <td>29250.000000</td>\n",
       "      <td>29249.000000</td>\n",
       "    </tr>\n",
       "    <tr>\n",
       "      <th>mean</th>\n",
       "      <td>3.0</td>\n",
       "      <td>181.401607</td>\n",
       "      <td>328.591131</td>\n",
       "      <td>2.393949</td>\n",
       "      <td>1.816177</td>\n",
       "    </tr>\n",
       "    <tr>\n",
       "      <th>std</th>\n",
       "      <td>0.0</td>\n",
       "      <td>12.431187</td>\n",
       "      <td>186.859030</td>\n",
       "      <td>1.693067</td>\n",
       "      <td>1.031400</td>\n",
       "    </tr>\n",
       "    <tr>\n",
       "      <th>min</th>\n",
       "      <td>3.0</td>\n",
       "      <td>163.000000</td>\n",
       "      <td>1.000000</td>\n",
       "      <td>1.000000</td>\n",
       "      <td>0.004878</td>\n",
       "    </tr>\n",
       "    <tr>\n",
       "      <th>25%</th>\n",
       "      <td>3.0</td>\n",
       "      <td>170.000000</td>\n",
       "      <td>195.000000</td>\n",
       "      <td>1.000000</td>\n",
       "      <td>1.072222</td>\n",
       "    </tr>\n",
       "    <tr>\n",
       "      <th>50%</th>\n",
       "      <td>3.0</td>\n",
       "      <td>180.000000</td>\n",
       "      <td>326.000000</td>\n",
       "      <td>1.000000</td>\n",
       "      <td>1.808290</td>\n",
       "    </tr>\n",
       "    <tr>\n",
       "      <th>75%</th>\n",
       "      <td>3.0</td>\n",
       "      <td>191.000000</td>\n",
       "      <td>424.000000</td>\n",
       "      <td>4.000000</td>\n",
       "      <td>2.411765</td>\n",
       "    </tr>\n",
       "    <tr>\n",
       "      <th>max</th>\n",
       "      <td>3.0</td>\n",
       "      <td>206.000000</td>\n",
       "      <td>2800.000000</td>\n",
       "      <td>8.000000</td>\n",
       "      <td>16.000000</td>\n",
       "    </tr>\n",
       "  </tbody>\n",
       "</table>\n",
       "</div>"
      ],
      "text/plain": [
       "       applicant_race_1  applicant_income_000s  loan_amount_000s  \\\n",
       "count           29250.0           29250.000000      29249.000000   \n",
       "mean                3.0             181.401607        328.591131   \n",
       "std                 0.0              12.431187        186.859030   \n",
       "min                 3.0             163.000000          1.000000   \n",
       "25%                 3.0             170.000000        195.000000   \n",
       "50%                 3.0             180.000000        326.000000   \n",
       "75%                 3.0             191.000000        424.000000   \n",
       "max                 3.0             206.000000       2800.000000   \n",
       "\n",
       "       action_taken  loan_to_income  \n",
       "count  29250.000000    29249.000000  \n",
       "mean       2.393949        1.816177  \n",
       "std        1.693067        1.031400  \n",
       "min        1.000000        0.004878  \n",
       "25%        1.000000        1.072222  \n",
       "50%        1.000000        1.808290  \n",
       "75%        4.000000        2.411765  \n",
       "max        8.000000       16.000000  "
      ]
     },
     "execution_count": 94,
     "metadata": {},
     "output_type": "execute_result"
    }
   ],
   "source": [
    "black_action.describe()"
   ]
  },
  {
   "cell_type": "code",
   "execution_count": 95,
   "metadata": {},
   "outputs": [
    {
     "data": {
      "text/html": [
       "<div>\n",
       "<style scoped>\n",
       "    .dataframe tbody tr th:only-of-type {\n",
       "        vertical-align: middle;\n",
       "    }\n",
       "\n",
       "    .dataframe tbody tr th {\n",
       "        vertical-align: top;\n",
       "    }\n",
       "\n",
       "    .dataframe thead th {\n",
       "        text-align: right;\n",
       "    }\n",
       "</style>\n",
       "<table border=\"1\" class=\"dataframe\">\n",
       "  <thead>\n",
       "    <tr style=\"text-align: right;\">\n",
       "      <th></th>\n",
       "      <th>applicant_race_1</th>\n",
       "      <th>applicant_income_000s</th>\n",
       "      <th>loan_amount_000s</th>\n",
       "      <th>action_taken</th>\n",
       "      <th>loan_to_income</th>\n",
       "    </tr>\n",
       "  </thead>\n",
       "  <tbody>\n",
       "    <tr>\n",
       "      <th>count</th>\n",
       "      <td>507945.0</td>\n",
       "      <td>507945.000000</td>\n",
       "      <td>507919.000000</td>\n",
       "      <td>507945.000000</td>\n",
       "      <td>507919.000000</td>\n",
       "    </tr>\n",
       "    <tr>\n",
       "      <th>mean</th>\n",
       "      <td>5.0</td>\n",
       "      <td>182.053679</td>\n",
       "      <td>339.860446</td>\n",
       "      <td>2.171064</td>\n",
       "      <td>1.869664</td>\n",
       "    </tr>\n",
       "    <tr>\n",
       "      <th>std</th>\n",
       "      <td>0.0</td>\n",
       "      <td>12.553462</td>\n",
       "      <td>222.924353</td>\n",
       "      <td>1.731324</td>\n",
       "      <td>1.230961</td>\n",
       "    </tr>\n",
       "    <tr>\n",
       "      <th>min</th>\n",
       "      <td>5.0</td>\n",
       "      <td>163.000000</td>\n",
       "      <td>1.000000</td>\n",
       "      <td>1.000000</td>\n",
       "      <td>0.004878</td>\n",
       "    </tr>\n",
       "    <tr>\n",
       "      <th>25%</th>\n",
       "      <td>5.0</td>\n",
       "      <td>171.000000</td>\n",
       "      <td>202.000000</td>\n",
       "      <td>1.000000</td>\n",
       "      <td>1.123529</td>\n",
       "    </tr>\n",
       "    <tr>\n",
       "      <th>50%</th>\n",
       "      <td>5.0</td>\n",
       "      <td>180.000000</td>\n",
       "      <td>324.000000</td>\n",
       "      <td>1.000000</td>\n",
       "      <td>1.788660</td>\n",
       "    </tr>\n",
       "    <tr>\n",
       "      <th>75%</th>\n",
       "      <td>5.0</td>\n",
       "      <td>192.000000</td>\n",
       "      <td>424.000000</td>\n",
       "      <td>3.000000</td>\n",
       "      <td>2.419162</td>\n",
       "    </tr>\n",
       "    <tr>\n",
       "      <th>max</th>\n",
       "      <td>5.0</td>\n",
       "      <td>206.000000</td>\n",
       "      <td>75000.000000</td>\n",
       "      <td>8.000000</td>\n",
       "      <td>428.571429</td>\n",
       "    </tr>\n",
       "  </tbody>\n",
       "</table>\n",
       "</div>"
      ],
      "text/plain": [
       "       applicant_race_1  applicant_income_000s  loan_amount_000s  \\\n",
       "count          507945.0          507945.000000     507919.000000   \n",
       "mean                5.0             182.053679        339.860446   \n",
       "std                 0.0              12.553462        222.924353   \n",
       "min                 5.0             163.000000          1.000000   \n",
       "25%                 5.0             171.000000        202.000000   \n",
       "50%                 5.0             180.000000        324.000000   \n",
       "75%                 5.0             192.000000        424.000000   \n",
       "max                 5.0             206.000000      75000.000000   \n",
       "\n",
       "        action_taken  loan_to_income  \n",
       "count  507945.000000   507919.000000  \n",
       "mean        2.171064        1.869664  \n",
       "std         1.731324        1.230961  \n",
       "min         1.000000        0.004878  \n",
       "25%         1.000000        1.123529  \n",
       "50%         1.000000        1.788660  \n",
       "75%         3.000000        2.419162  \n",
       "max         8.000000      428.571429  "
      ]
     },
     "execution_count": 95,
     "metadata": {},
     "output_type": "execute_result"
    }
   ],
   "source": [
    "white_action.describe()"
   ]
  },
  {
   "cell_type": "markdown",
   "metadata": {},
   "source": [
    "Next, we looked into the bracket of 207k to 518k. "
   ]
  },
  {
   "cell_type": "code",
   "execution_count": 97,
   "metadata": {},
   "outputs": [
    {
     "data": {
      "text/html": [
       "<div>\n",
       "<style scoped>\n",
       "    .dataframe tbody tr th:only-of-type {\n",
       "        vertical-align: middle;\n",
       "    }\n",
       "\n",
       "    .dataframe tbody tr th {\n",
       "        vertical-align: top;\n",
       "    }\n",
       "\n",
       "    .dataframe thead th {\n",
       "        text-align: right;\n",
       "    }\n",
       "</style>\n",
       "<table border=\"1\" class=\"dataframe\">\n",
       "  <thead>\n",
       "    <tr style=\"text-align: right;\">\n",
       "      <th></th>\n",
       "      <th>applicant_race_1</th>\n",
       "      <th>applicant_income_000s</th>\n",
       "      <th>loan_amount_000s</th>\n",
       "      <th>action_taken</th>\n",
       "      <th>loan_to_income</th>\n",
       "    </tr>\n",
       "  </thead>\n",
       "  <tbody>\n",
       "    <tr>\n",
       "      <th>8</th>\n",
       "      <td>6</td>\n",
       "      <td>278.0</td>\n",
       "      <td>1079.0</td>\n",
       "      <td>1</td>\n",
       "      <td>3.881295</td>\n",
       "    </tr>\n",
       "    <tr>\n",
       "      <th>12</th>\n",
       "      <td>6</td>\n",
       "      <td>490.0</td>\n",
       "      <td>45.0</td>\n",
       "      <td>3</td>\n",
       "      <td>0.091837</td>\n",
       "    </tr>\n",
       "    <tr>\n",
       "      <th>28</th>\n",
       "      <td>6</td>\n",
       "      <td>219.0</td>\n",
       "      <td>304.0</td>\n",
       "      <td>1</td>\n",
       "      <td>1.388128</td>\n",
       "    </tr>\n",
       "    <tr>\n",
       "      <th>33</th>\n",
       "      <td>1</td>\n",
       "      <td>223.0</td>\n",
       "      <td>290.0</td>\n",
       "      <td>5</td>\n",
       "      <td>1.300448</td>\n",
       "    </tr>\n",
       "    <tr>\n",
       "      <th>50</th>\n",
       "      <td>6</td>\n",
       "      <td>250.0</td>\n",
       "      <td>350.0</td>\n",
       "      <td>1</td>\n",
       "      <td>1.400000</td>\n",
       "    </tr>\n",
       "    <tr>\n",
       "      <th>...</th>\n",
       "      <td>...</td>\n",
       "      <td>...</td>\n",
       "      <td>...</td>\n",
       "      <td>...</td>\n",
       "      <td>...</td>\n",
       "    </tr>\n",
       "    <tr>\n",
       "      <th>14285441</th>\n",
       "      <td>5</td>\n",
       "      <td>323.0</td>\n",
       "      <td>941.0</td>\n",
       "      <td>4</td>\n",
       "      <td>2.913313</td>\n",
       "    </tr>\n",
       "    <tr>\n",
       "      <th>14285442</th>\n",
       "      <td>5</td>\n",
       "      <td>244.0</td>\n",
       "      <td>400.0</td>\n",
       "      <td>4</td>\n",
       "      <td>1.639344</td>\n",
       "    </tr>\n",
       "    <tr>\n",
       "      <th>14285453</th>\n",
       "      <td>5</td>\n",
       "      <td>256.0</td>\n",
       "      <td>200.0</td>\n",
       "      <td>1</td>\n",
       "      <td>0.781250</td>\n",
       "    </tr>\n",
       "    <tr>\n",
       "      <th>14285464</th>\n",
       "      <td>6</td>\n",
       "      <td>250.0</td>\n",
       "      <td>626.0</td>\n",
       "      <td>4</td>\n",
       "      <td>2.504000</td>\n",
       "    </tr>\n",
       "    <tr>\n",
       "      <th>14285471</th>\n",
       "      <td>6</td>\n",
       "      <td>350.0</td>\n",
       "      <td>993.0</td>\n",
       "      <td>6</td>\n",
       "      <td>2.837143</td>\n",
       "    </tr>\n",
       "  </tbody>\n",
       "</table>\n",
       "<p>900019 rows × 5 columns</p>\n",
       "</div>"
      ],
      "text/plain": [
       "          applicant_race_1  applicant_income_000s  loan_amount_000s  \\\n",
       "8                        6                  278.0            1079.0   \n",
       "12                       6                  490.0              45.0   \n",
       "28                       6                  219.0             304.0   \n",
       "33                       1                  223.0             290.0   \n",
       "50                       6                  250.0             350.0   \n",
       "...                    ...                    ...               ...   \n",
       "14285441                 5                  323.0             941.0   \n",
       "14285442                 5                  244.0             400.0   \n",
       "14285453                 5                  256.0             200.0   \n",
       "14285464                 6                  250.0             626.0   \n",
       "14285471                 6                  350.0             993.0   \n",
       "\n",
       "          action_taken  loan_to_income  \n",
       "8                    1        3.881295  \n",
       "12                   3        0.091837  \n",
       "28                   1        1.388128  \n",
       "33                   5        1.300448  \n",
       "50                   1        1.400000  \n",
       "...                ...             ...  \n",
       "14285441             4        2.913313  \n",
       "14285442             4        1.639344  \n",
       "14285453             1        0.781250  \n",
       "14285464             4        2.504000  \n",
       "14285471             6        2.837143  \n",
       "\n",
       "[900019 rows x 5 columns]"
      ]
     },
     "execution_count": 97,
     "metadata": {},
     "output_type": "execute_result"
    }
   ],
   "source": [
    "range_207_518 = np.arange(207,518)\n",
    "df_207_518 = df_fair.loc[(df_fair['applicant_income_000s'].isin(range_207_518))]\n",
    "df_207_518"
   ]
  },
  {
   "cell_type": "code",
   "execution_count": 98,
   "metadata": {},
   "outputs": [
    {
     "data": {
      "text/plain": [
       "1    64.088213\n",
       "4    12.485300\n",
       "3     9.058271\n",
       "6     7.327650\n",
       "5     3.405863\n",
       "2     3.068014\n",
       "8     0.288357\n",
       "7     0.278332\n",
       "Name: action_taken, dtype: float64"
      ]
     },
     "execution_count": 98,
     "metadata": {},
     "output_type": "execute_result"
    }
   ],
   "source": [
    "white_action = df_207_518[df_207_518['applicant_race_1'] == 5]\n",
    "white_action['action_taken'].value_counts(normalize=True) * 100"
   ]
  },
  {
   "cell_type": "code",
   "execution_count": 99,
   "metadata": {},
   "outputs": [
    {
     "data": {
      "text/plain": [
       "1    53.000000\n",
       "3    16.980620\n",
       "4    15.131783\n",
       "6     5.189922\n",
       "5     4.724806\n",
       "2     3.426357\n",
       "7     1.232558\n",
       "8     0.313953\n",
       "Name: action_taken, dtype: float64"
      ]
     },
     "execution_count": 99,
     "metadata": {},
     "output_type": "execute_result"
    }
   ],
   "source": [
    "black_action = df_207_518[df_207_518['applicant_race_1'] == 3]\n",
    "black_action['action_taken'].value_counts(normalize=True) * 100"
   ]
  },
  {
   "cell_type": "code",
   "execution_count": 100,
   "metadata": {},
   "outputs": [
    {
     "data": {
      "text/html": [
       "<div>\n",
       "<style scoped>\n",
       "    .dataframe tbody tr th:only-of-type {\n",
       "        vertical-align: middle;\n",
       "    }\n",
       "\n",
       "    .dataframe tbody tr th {\n",
       "        vertical-align: top;\n",
       "    }\n",
       "\n",
       "    .dataframe thead th {\n",
       "        text-align: right;\n",
       "    }\n",
       "</style>\n",
       "<table border=\"1\" class=\"dataframe\">\n",
       "  <thead>\n",
       "    <tr style=\"text-align: right;\">\n",
       "      <th></th>\n",
       "      <th>applicant_race_1</th>\n",
       "      <th>applicant_income_000s</th>\n",
       "      <th>loan_amount_000s</th>\n",
       "      <th>action_taken</th>\n",
       "      <th>loan_to_income</th>\n",
       "    </tr>\n",
       "  </thead>\n",
       "  <tbody>\n",
       "    <tr>\n",
       "      <th>count</th>\n",
       "      <td>25800.0</td>\n",
       "      <td>25800.000000</td>\n",
       "      <td>25798.000000</td>\n",
       "      <td>25800.000000</td>\n",
       "      <td>25798.000000</td>\n",
       "    </tr>\n",
       "    <tr>\n",
       "      <th>mean</th>\n",
       "      <td>3.0</td>\n",
       "      <td>276.802636</td>\n",
       "      <td>415.804985</td>\n",
       "      <td>2.372248</td>\n",
       "      <td>1.535375</td>\n",
       "    </tr>\n",
       "    <tr>\n",
       "      <th>std</th>\n",
       "      <td>0.0</td>\n",
       "      <td>68.418485</td>\n",
       "      <td>286.957318</td>\n",
       "      <td>1.686239</td>\n",
       "      <td>0.991269</td>\n",
       "    </tr>\n",
       "    <tr>\n",
       "      <th>min</th>\n",
       "      <td>3.0</td>\n",
       "      <td>207.000000</td>\n",
       "      <td>1.000000</td>\n",
       "      <td>1.000000</td>\n",
       "      <td>0.002083</td>\n",
       "    </tr>\n",
       "    <tr>\n",
       "      <th>25%</th>\n",
       "      <td>3.0</td>\n",
       "      <td>225.000000</td>\n",
       "      <td>217.000000</td>\n",
       "      <td>1.000000</td>\n",
       "      <td>0.794186</td>\n",
       "    </tr>\n",
       "    <tr>\n",
       "      <th>50%</th>\n",
       "      <td>3.0</td>\n",
       "      <td>253.000000</td>\n",
       "      <td>387.000000</td>\n",
       "      <td>1.000000</td>\n",
       "      <td>1.453237</td>\n",
       "    </tr>\n",
       "    <tr>\n",
       "      <th>75%</th>\n",
       "      <td>3.0</td>\n",
       "      <td>306.000000</td>\n",
       "      <td>554.750000</td>\n",
       "      <td>4.000000</td>\n",
       "      <td>2.083333</td>\n",
       "    </tr>\n",
       "    <tr>\n",
       "      <th>max</th>\n",
       "      <td>3.0</td>\n",
       "      <td>517.000000</td>\n",
       "      <td>3850.000000</td>\n",
       "      <td>8.000000</td>\n",
       "      <td>12.663755</td>\n",
       "    </tr>\n",
       "  </tbody>\n",
       "</table>\n",
       "</div>"
      ],
      "text/plain": [
       "       applicant_race_1  applicant_income_000s  loan_amount_000s  \\\n",
       "count           25800.0           25800.000000      25798.000000   \n",
       "mean                3.0             276.802636        415.804985   \n",
       "std                 0.0              68.418485        286.957318   \n",
       "min                 3.0             207.000000          1.000000   \n",
       "25%                 3.0             225.000000        217.000000   \n",
       "50%                 3.0             253.000000        387.000000   \n",
       "75%                 3.0             306.000000        554.750000   \n",
       "max                 3.0             517.000000       3850.000000   \n",
       "\n",
       "       action_taken  loan_to_income  \n",
       "count  25800.000000    25798.000000  \n",
       "mean       2.372248        1.535375  \n",
       "std        1.686239        0.991269  \n",
       "min        1.000000        0.002083  \n",
       "25%        1.000000        0.794186  \n",
       "50%        1.000000        1.453237  \n",
       "75%        4.000000        2.083333  \n",
       "max        8.000000       12.663755  "
      ]
     },
     "execution_count": 100,
     "metadata": {},
     "output_type": "execute_result"
    }
   ],
   "source": [
    "black_action.describe()"
   ]
  },
  {
   "cell_type": "code",
   "execution_count": 101,
   "metadata": {},
   "outputs": [
    {
     "data": {
      "text/html": [
       "<div>\n",
       "<style scoped>\n",
       "    .dataframe tbody tr th:only-of-type {\n",
       "        vertical-align: middle;\n",
       "    }\n",
       "\n",
       "    .dataframe tbody tr th {\n",
       "        vertical-align: top;\n",
       "    }\n",
       "\n",
       "    .dataframe thead th {\n",
       "        text-align: right;\n",
       "    }\n",
       "</style>\n",
       "<table border=\"1\" class=\"dataframe\">\n",
       "  <thead>\n",
       "    <tr style=\"text-align: right;\">\n",
       "      <th></th>\n",
       "      <th>applicant_race_1</th>\n",
       "      <th>applicant_income_000s</th>\n",
       "      <th>loan_amount_000s</th>\n",
       "      <th>action_taken</th>\n",
       "      <th>loan_to_income</th>\n",
       "    </tr>\n",
       "  </thead>\n",
       "  <tbody>\n",
       "    <tr>\n",
       "      <th>count</th>\n",
       "      <td>628387.0</td>\n",
       "      <td>628387.000000</td>\n",
       "      <td>628361.000000</td>\n",
       "      <td>628387.000000</td>\n",
       "      <td>628361.000000</td>\n",
       "    </tr>\n",
       "    <tr>\n",
       "      <th>mean</th>\n",
       "      <td>5.0</td>\n",
       "      <td>290.842042</td>\n",
       "      <td>473.072980</td>\n",
       "      <td>2.125906</td>\n",
       "      <td>1.655093</td>\n",
       "    </tr>\n",
       "    <tr>\n",
       "      <th>std</th>\n",
       "      <td>0.0</td>\n",
       "      <td>75.959667</td>\n",
       "      <td>341.257482</td>\n",
       "      <td>1.693332</td>\n",
       "      <td>1.098807</td>\n",
       "    </tr>\n",
       "    <tr>\n",
       "      <th>min</th>\n",
       "      <td>5.0</td>\n",
       "      <td>207.000000</td>\n",
       "      <td>1.000000</td>\n",
       "      <td>1.000000</td>\n",
       "      <td>0.001934</td>\n",
       "    </tr>\n",
       "    <tr>\n",
       "      <th>25%</th>\n",
       "      <td>5.0</td>\n",
       "      <td>230.000000</td>\n",
       "      <td>249.000000</td>\n",
       "      <td>1.000000</td>\n",
       "      <td>0.874126</td>\n",
       "    </tr>\n",
       "    <tr>\n",
       "      <th>50%</th>\n",
       "      <td>5.0</td>\n",
       "      <td>266.000000</td>\n",
       "      <td>411.000000</td>\n",
       "      <td>1.000000</td>\n",
       "      <td>1.475000</td>\n",
       "    </tr>\n",
       "    <tr>\n",
       "      <th>75%</th>\n",
       "      <td>5.0</td>\n",
       "      <td>331.000000</td>\n",
       "      <td>613.000000</td>\n",
       "      <td>3.000000</td>\n",
       "      <td>2.197080</td>\n",
       "    </tr>\n",
       "    <tr>\n",
       "      <th>max</th>\n",
       "      <td>5.0</td>\n",
       "      <td>517.000000</td>\n",
       "      <td>19660.000000</td>\n",
       "      <td>8.000000</td>\n",
       "      <td>67.793103</td>\n",
       "    </tr>\n",
       "  </tbody>\n",
       "</table>\n",
       "</div>"
      ],
      "text/plain": [
       "       applicant_race_1  applicant_income_000s  loan_amount_000s  \\\n",
       "count          628387.0          628387.000000     628361.000000   \n",
       "mean                5.0             290.842042        473.072980   \n",
       "std                 0.0              75.959667        341.257482   \n",
       "min                 5.0             207.000000          1.000000   \n",
       "25%                 5.0             230.000000        249.000000   \n",
       "50%                 5.0             266.000000        411.000000   \n",
       "75%                 5.0             331.000000        613.000000   \n",
       "max                 5.0             517.000000      19660.000000   \n",
       "\n",
       "        action_taken  loan_to_income  \n",
       "count  628387.000000   628361.000000  \n",
       "mean        2.125906        1.655093  \n",
       "std         1.693332        1.098807  \n",
       "min         1.000000        0.001934  \n",
       "25%         1.000000        0.874126  \n",
       "50%         1.000000        1.475000  \n",
       "75%         3.000000        2.197080  \n",
       "max         8.000000       67.793103  "
      ]
     },
     "execution_count": 101,
     "metadata": {},
     "output_type": "execute_result"
    }
   ],
   "source": [
    "white_action.describe()"
   ]
  },
  {
   "cell_type": "markdown",
   "metadata": {},
   "source": [
    "We also wanted to look into the highest income bracket to see if there were any discrepancies there. For this, we used a bottom bound of $518,000 with no ceiling for the range. "
   ]
  },
  {
   "cell_type": "code",
   "execution_count": 71,
   "metadata": {},
   "outputs": [
    {
     "data": {
      "text/html": [
       "<div>\n",
       "<style scoped>\n",
       "    .dataframe tbody tr th:only-of-type {\n",
       "        vertical-align: middle;\n",
       "    }\n",
       "\n",
       "    .dataframe tbody tr th {\n",
       "        vertical-align: top;\n",
       "    }\n",
       "\n",
       "    .dataframe thead th {\n",
       "        text-align: right;\n",
       "    }\n",
       "</style>\n",
       "<table border=\"1\" class=\"dataframe\">\n",
       "  <thead>\n",
       "    <tr style=\"text-align: right;\">\n",
       "      <th></th>\n",
       "      <th>applicant_race_1</th>\n",
       "      <th>applicant_income_000s</th>\n",
       "      <th>loan_amount_000s</th>\n",
       "      <th>action_taken</th>\n",
       "      <th>loan_to_income</th>\n",
       "    </tr>\n",
       "  </thead>\n",
       "  <tbody>\n",
       "    <tr>\n",
       "      <th>44</th>\n",
       "      <td>5</td>\n",
       "      <td>559.0</td>\n",
       "      <td>1560.0</td>\n",
       "      <td>2</td>\n",
       "      <td>2.790698</td>\n",
       "    </tr>\n",
       "    <tr>\n",
       "      <th>165</th>\n",
       "      <td>5</td>\n",
       "      <td>530.0</td>\n",
       "      <td>156.0</td>\n",
       "      <td>1</td>\n",
       "      <td>0.294340</td>\n",
       "    </tr>\n",
       "    <tr>\n",
       "      <th>198</th>\n",
       "      <td>6</td>\n",
       "      <td>1938.0</td>\n",
       "      <td>3542.0</td>\n",
       "      <td>1</td>\n",
       "      <td>1.827657</td>\n",
       "    </tr>\n",
       "    <tr>\n",
       "      <th>200</th>\n",
       "      <td>6</td>\n",
       "      <td>535.0</td>\n",
       "      <td>1400.0</td>\n",
       "      <td>2</td>\n",
       "      <td>2.616822</td>\n",
       "    </tr>\n",
       "    <tr>\n",
       "      <th>250</th>\n",
       "      <td>6</td>\n",
       "      <td>11390.0</td>\n",
       "      <td>NaN</td>\n",
       "      <td>3</td>\n",
       "      <td>NaN</td>\n",
       "    </tr>\n",
       "    <tr>\n",
       "      <th>...</th>\n",
       "      <td>...</td>\n",
       "      <td>...</td>\n",
       "      <td>...</td>\n",
       "      <td>...</td>\n",
       "      <td>...</td>\n",
       "    </tr>\n",
       "    <tr>\n",
       "      <th>14285129</th>\n",
       "      <td>6</td>\n",
       "      <td>841.0</td>\n",
       "      <td>1401.0</td>\n",
       "      <td>4</td>\n",
       "      <td>1.665874</td>\n",
       "    </tr>\n",
       "    <tr>\n",
       "      <th>14285263</th>\n",
       "      <td>6</td>\n",
       "      <td>544.0</td>\n",
       "      <td>756.0</td>\n",
       "      <td>1</td>\n",
       "      <td>1.389706</td>\n",
       "    </tr>\n",
       "    <tr>\n",
       "      <th>14285307</th>\n",
       "      <td>5</td>\n",
       "      <td>586.0</td>\n",
       "      <td>244.0</td>\n",
       "      <td>1</td>\n",
       "      <td>0.416382</td>\n",
       "    </tr>\n",
       "    <tr>\n",
       "      <th>14285382</th>\n",
       "      <td>5</td>\n",
       "      <td>597.0</td>\n",
       "      <td>424.0</td>\n",
       "      <td>1</td>\n",
       "      <td>0.710218</td>\n",
       "    </tr>\n",
       "    <tr>\n",
       "      <th>14285479</th>\n",
       "      <td>5</td>\n",
       "      <td>844.0</td>\n",
       "      <td>417.0</td>\n",
       "      <td>1</td>\n",
       "      <td>0.494076</td>\n",
       "    </tr>\n",
       "  </tbody>\n",
       "</table>\n",
       "<p>143290 rows × 5 columns</p>\n",
       "</div>"
      ],
      "text/plain": [
       "          applicant_race_1  applicant_income_000s  loan_amount_000s  \\\n",
       "44                       5                  559.0            1560.0   \n",
       "165                      5                  530.0             156.0   \n",
       "198                      6                 1938.0            3542.0   \n",
       "200                      6                  535.0            1400.0   \n",
       "250                      6                11390.0               NaN   \n",
       "...                    ...                    ...               ...   \n",
       "14285129                 6                  841.0            1401.0   \n",
       "14285263                 6                  544.0             756.0   \n",
       "14285307                 5                  586.0             244.0   \n",
       "14285382                 5                  597.0             424.0   \n",
       "14285479                 5                  844.0             417.0   \n",
       "\n",
       "          action_taken  loan_to_income  \n",
       "44                   2        2.790698  \n",
       "165                  1        0.294340  \n",
       "198                  1        1.827657  \n",
       "200                  2        2.616822  \n",
       "250                  3             NaN  \n",
       "...                ...             ...  \n",
       "14285129             4        1.665874  \n",
       "14285263             1        1.389706  \n",
       "14285307             1        0.416382  \n",
       "14285382             1        0.710218  \n",
       "14285479             1        0.494076  \n",
       "\n",
       "[143290 rows x 5 columns]"
      ]
     },
     "execution_count": 71,
     "metadata": {},
     "output_type": "execute_result"
    }
   ],
   "source": [
    "df_rich = df_fair.loc[(df_fair['applicant_income_000s'] >= 518.0)]\n",
    "df_rich"
   ]
  },
  {
   "cell_type": "code",
   "execution_count": 72,
   "metadata": {},
   "outputs": [
    {
     "data": {
      "text/plain": [
       "applicant_race_1\n",
       "1    0.411168\n",
       "2    1.030240\n",
       "3    0.481048\n",
       "4    0.728722\n",
       "5    0.803435\n",
       "6    0.878205\n",
       "7    0.561977\n",
       "Name: loan_to_income, dtype: float64"
      ]
     },
     "execution_count": 72,
     "metadata": {},
     "output_type": "execute_result"
    }
   ],
   "source": [
    "df_rich.groupby(['applicant_race_1'])['loan_to_income'].median()  "
   ]
  },
  {
   "cell_type": "code",
   "execution_count": 73,
   "metadata": {},
   "outputs": [
    {
     "data": {
      "text/plain": [
       "1    63.658735\n",
       "4    14.374491\n",
       "3    10.293484\n",
       "6     3.969933\n",
       "5     3.610858\n",
       "2     3.566812\n",
       "8     0.305453\n",
       "7     0.220233\n",
       "Name: action_taken, dtype: float64"
      ]
     },
     "execution_count": 73,
     "metadata": {},
     "output_type": "execute_result"
    }
   ],
   "source": [
    "white_action = df_rich[df_rich['applicant_race_1'] == 5]\n",
    "white_action['action_taken'].value_counts(normalize=True) * 100"
   ]
  },
  {
   "cell_type": "code",
   "execution_count": 74,
   "metadata": {},
   "outputs": [
    {
     "data": {
      "text/plain": [
       "1    44.642857\n",
       "3    23.787062\n",
       "4    16.677898\n",
       "5     5.188679\n",
       "2     4.245283\n",
       "6     3.369272\n",
       "7     1.684636\n",
       "8     0.404313\n",
       "Name: action_taken, dtype: float64"
      ]
     },
     "execution_count": 74,
     "metadata": {},
     "output_type": "execute_result"
    }
   ],
   "source": [
    "black_action = df_rich[df_rich['applicant_race_1'] == 3]\n",
    "black_action['action_taken'].value_counts(normalize=True) * 100"
   ]
  },
  {
   "cell_type": "code",
   "execution_count": 75,
   "metadata": {},
   "outputs": [
    {
     "data": {
      "text/html": [
       "<div>\n",
       "<style scoped>\n",
       "    .dataframe tbody tr th:only-of-type {\n",
       "        vertical-align: middle;\n",
       "    }\n",
       "\n",
       "    .dataframe tbody tr th {\n",
       "        vertical-align: top;\n",
       "    }\n",
       "\n",
       "    .dataframe thead th {\n",
       "        text-align: right;\n",
       "    }\n",
       "</style>\n",
       "<table border=\"1\" class=\"dataframe\">\n",
       "  <thead>\n",
       "    <tr style=\"text-align: right;\">\n",
       "      <th></th>\n",
       "      <th>applicant_race_1</th>\n",
       "      <th>applicant_income_000s</th>\n",
       "      <th>loan_amount_000s</th>\n",
       "      <th>action_taken</th>\n",
       "      <th>loan_to_income</th>\n",
       "    </tr>\n",
       "  </thead>\n",
       "  <tbody>\n",
       "    <tr>\n",
       "      <th>count</th>\n",
       "      <td>104435.0</td>\n",
       "      <td>1.044350e+05</td>\n",
       "      <td>101199.000000</td>\n",
       "      <td>104435.000000</td>\n",
       "      <td>101199.000000</td>\n",
       "    </tr>\n",
       "    <tr>\n",
       "      <th>mean</th>\n",
       "      <td>5.0</td>\n",
       "      <td>1.572216e+03</td>\n",
       "      <td>1014.554867</td>\n",
       "      <td>2.050299</td>\n",
       "      <td>1.105582</td>\n",
       "    </tr>\n",
       "    <tr>\n",
       "      <th>std</th>\n",
       "      <td>0.0</td>\n",
       "      <td>2.280281e+04</td>\n",
       "      <td>3689.207126</td>\n",
       "      <td>1.561148</td>\n",
       "      <td>1.004443</td>\n",
       "    </tr>\n",
       "    <tr>\n",
       "      <th>min</th>\n",
       "      <td>5.0</td>\n",
       "      <td>5.180000e+02</td>\n",
       "      <td>1.000000</td>\n",
       "      <td>1.000000</td>\n",
       "      <td>0.000002</td>\n",
       "    </tr>\n",
       "    <tr>\n",
       "      <th>25%</th>\n",
       "      <td>5.0</td>\n",
       "      <td>6.000000e+02</td>\n",
       "      <td>348.000000</td>\n",
       "      <td>1.000000</td>\n",
       "      <td>0.396040</td>\n",
       "    </tr>\n",
       "    <tr>\n",
       "      <th>50%</th>\n",
       "      <td>5.0</td>\n",
       "      <td>7.470000e+02</td>\n",
       "      <td>660.000000</td>\n",
       "      <td>1.000000</td>\n",
       "      <td>0.803435</td>\n",
       "    </tr>\n",
       "    <tr>\n",
       "      <th>75%</th>\n",
       "      <td>5.0</td>\n",
       "      <td>1.094000e+03</td>\n",
       "      <td>1250.000000</td>\n",
       "      <td>3.000000</td>\n",
       "      <td>1.529004</td>\n",
       "    </tr>\n",
       "    <tr>\n",
       "      <th>max</th>\n",
       "      <td>5.0</td>\n",
       "      <td>7.073045e+06</td>\n",
       "      <td>404000.000000</td>\n",
       "      <td>8.000000</td>\n",
       "      <td>50.000000</td>\n",
       "    </tr>\n",
       "  </tbody>\n",
       "</table>\n",
       "</div>"
      ],
      "text/plain": [
       "       applicant_race_1  applicant_income_000s  loan_amount_000s  \\\n",
       "count          104435.0           1.044350e+05     101199.000000   \n",
       "mean                5.0           1.572216e+03       1014.554867   \n",
       "std                 0.0           2.280281e+04       3689.207126   \n",
       "min                 5.0           5.180000e+02          1.000000   \n",
       "25%                 5.0           6.000000e+02        348.000000   \n",
       "50%                 5.0           7.470000e+02        660.000000   \n",
       "75%                 5.0           1.094000e+03       1250.000000   \n",
       "max                 5.0           7.073045e+06     404000.000000   \n",
       "\n",
       "        action_taken  loan_to_income  \n",
       "count  104435.000000   101199.000000  \n",
       "mean        2.050299        1.105582  \n",
       "std         1.561148        1.004443  \n",
       "min         1.000000        0.000002  \n",
       "25%         1.000000        0.396040  \n",
       "50%         1.000000        0.803435  \n",
       "75%         3.000000        1.529004  \n",
       "max         8.000000       50.000000  "
      ]
     },
     "execution_count": 75,
     "metadata": {},
     "output_type": "execute_result"
    }
   ],
   "source": [
    "white_action.describe()"
   ]
  },
  {
   "cell_type": "code",
   "execution_count": 76,
   "metadata": {},
   "outputs": [
    {
     "data": {
      "text/html": [
       "<div>\n",
       "<style scoped>\n",
       "    .dataframe tbody tr th:only-of-type {\n",
       "        vertical-align: middle;\n",
       "    }\n",
       "\n",
       "    .dataframe tbody tr th {\n",
       "        vertical-align: top;\n",
       "    }\n",
       "\n",
       "    .dataframe thead th {\n",
       "        text-align: right;\n",
       "    }\n",
       "</style>\n",
       "<table border=\"1\" class=\"dataframe\">\n",
       "  <thead>\n",
       "    <tr style=\"text-align: right;\">\n",
       "      <th></th>\n",
       "      <th>applicant_race_1</th>\n",
       "      <th>applicant_income_000s</th>\n",
       "      <th>loan_amount_000s</th>\n",
       "      <th>action_taken</th>\n",
       "      <th>loan_to_income</th>\n",
       "    </tr>\n",
       "  </thead>\n",
       "  <tbody>\n",
       "    <tr>\n",
       "      <th>count</th>\n",
       "      <td>2968.0</td>\n",
       "      <td>2968.000000</td>\n",
       "      <td>2903.000000</td>\n",
       "      <td>2968.000000</td>\n",
       "      <td>2903.000000</td>\n",
       "    </tr>\n",
       "    <tr>\n",
       "      <th>mean</th>\n",
       "      <td>3.0</td>\n",
       "      <td>3129.735175</td>\n",
       "      <td>2777.352050</td>\n",
       "      <td>2.523922</td>\n",
       "      <td>0.823315</td>\n",
       "    </tr>\n",
       "    <tr>\n",
       "      <th>std</th>\n",
       "      <td>0.0</td>\n",
       "      <td>17092.094846</td>\n",
       "      <td>21391.073508</td>\n",
       "      <td>1.628063</td>\n",
       "      <td>0.931974</td>\n",
       "    </tr>\n",
       "    <tr>\n",
       "      <th>min</th>\n",
       "      <td>3.0</td>\n",
       "      <td>518.000000</td>\n",
       "      <td>1.000000</td>\n",
       "      <td>1.000000</td>\n",
       "      <td>0.000257</td>\n",
       "    </tr>\n",
       "    <tr>\n",
       "      <th>25%</th>\n",
       "      <td>3.0</td>\n",
       "      <td>600.000000</td>\n",
       "      <td>174.500000</td>\n",
       "      <td>1.000000</td>\n",
       "      <td>0.186677</td>\n",
       "    </tr>\n",
       "    <tr>\n",
       "      <th>50%</th>\n",
       "      <td>3.0</td>\n",
       "      <td>765.000000</td>\n",
       "      <td>424.000000</td>\n",
       "      <td>3.000000</td>\n",
       "      <td>0.481048</td>\n",
       "    </tr>\n",
       "    <tr>\n",
       "      <th>75%</th>\n",
       "      <td>3.0</td>\n",
       "      <td>1200.000000</td>\n",
       "      <td>1000.000000</td>\n",
       "      <td>4.000000</td>\n",
       "      <td>1.145248</td>\n",
       "    </tr>\n",
       "    <tr>\n",
       "      <th>max</th>\n",
       "      <td>3.0</td>\n",
       "      <td>360000.000000</td>\n",
       "      <td>398000.000000</td>\n",
       "      <td>8.000000</td>\n",
       "      <td>9.960000</td>\n",
       "    </tr>\n",
       "  </tbody>\n",
       "</table>\n",
       "</div>"
      ],
      "text/plain": [
       "       applicant_race_1  applicant_income_000s  loan_amount_000s  \\\n",
       "count            2968.0            2968.000000       2903.000000   \n",
       "mean                3.0            3129.735175       2777.352050   \n",
       "std                 0.0           17092.094846      21391.073508   \n",
       "min                 3.0             518.000000          1.000000   \n",
       "25%                 3.0             600.000000        174.500000   \n",
       "50%                 3.0             765.000000        424.000000   \n",
       "75%                 3.0            1200.000000       1000.000000   \n",
       "max                 3.0          360000.000000     398000.000000   \n",
       "\n",
       "       action_taken  loan_to_income  \n",
       "count   2968.000000     2903.000000  \n",
       "mean       2.523922        0.823315  \n",
       "std        1.628063        0.931974  \n",
       "min        1.000000        0.000257  \n",
       "25%        1.000000        0.186677  \n",
       "50%        3.000000        0.481048  \n",
       "75%        4.000000        1.145248  \n",
       "max        8.000000        9.960000  "
      ]
     },
     "execution_count": 76,
     "metadata": {},
     "output_type": "execute_result"
    }
   ],
   "source": [
    "black_action.describe()"
   ]
  },
  {
   "cell_type": "markdown",
   "metadata": {},
   "source": [
    "From the data we gathered, we made two line charts to show the differences in acceptance and denial rates between White and Black applicants in the different incomes brackets. First, we will go with the difference in denial rates."
   ]
  },
  {
   "cell_type": "code",
   "execution_count": 102,
   "metadata": {},
   "outputs": [
    {
     "data": {
      "image/png": "[encoded data removed]",
      "text/plain": [
       "<Figure size 432x288 with 1 Axes>"
      ]
     },
     "metadata": {
      "needs_background": "light"
     },
     "output_type": "display_data"
    }
   ],
   "source": [
    "x_values = ['$0-10k', '$10-40k','$40-85k','$85-163k','$163k-207k','$207k-518k','$518k+']\n",
    "y1_values = [55.494530, 26.015737, 14.133654, 10.164868,9.027158,9.058271,10.293484]\n",
    "y2_values = [70.951658, 39.880038, 23.696660, 18.517326,16.957265,16.980620,23.787062]\n",
    "\n",
    "df = pd.DataFrame(list(zip(x_values, y1_values, y2_values)),columns = ['Income Bracket', \n",
    "                                                                       'White Rejection Rate','Black Rejection Rate'])\n",
    "\n",
    "plt.plot('Income Bracket', 'White Rejection Rate', data=df, marker='o', markerfacecolor='blue', markersize=12, color='skyblue', linewidth=4)\n",
    "plt.plot('Income Bracket', 'Black Rejection Rate', data=df, marker='o', markerfacecolor='red', markersize = 12, color='pink', linewidth=4)\n",
    "\n",
    "plt.legend()\n",
    "plt.title('Rejection Rates by Income Bracket and Race')\n",
    "plt.show()"
   ]
  },
  {
   "cell_type": "code",
   "execution_count": 104,
   "metadata": {},
   "outputs": [
    {
     "data": {
      "image/png": "[encoded data removed]",
      "text/plain": [
       "<Figure size 432x288 with 1 Axes>"
      ]
     },
     "metadata": {
      "needs_background": "light"
     },
     "output_type": "display_data"
    }
   ],
   "source": [
    "x_values = ['$0-10k', '$10-40k','$40-85k','$85-163k','$163k-207k','$207k-518k','$518k+']\n",
    "y1_values = [21.676496, 48.383400, 59.390740, 62.571129,63.283229,64.088213,63.658735]\n",
    "y2_values = [11.294169, 33.051776, 47.151183, 51.510545,52.505983,53.000000,44.642857]\n",
    "\n",
    "df = pd.DataFrame(list(zip(x_values, y1_values, y2_values)),columns = ['Income Bracket', \n",
    "                                                                       'White Acceptance Rate','Black Acceptance Rate'])\n",
    "\n",
    "plt.plot('Income Bracket', 'White Acceptance Rate', data=df, marker='o', markerfacecolor='blue', markersize=12, color='skyblue', linewidth=4)\n",
    "plt.plot('Income Bracket', 'Black Acceptance Rate', data=df, marker='o', markerfacecolor='red', markersize = 12, color='pink', linewidth=4)\n",
    "\n",
    "plt.legend()\n",
    "plt.title('Acceptance Rates by Income Bracket and Race')\n",
    "plt.show()"
   ]
  },
  {
   "cell_type": "markdown",
   "metadata": {},
   "source": [
    "The above chart is indicative of disparities in lending between Black and White applicants. This becomes especially clear when it is shown that the standard deviations of loan-to-income ratios, income, and loan amounts in most brackets is similar between the two despite having significant disparities in acceptance and rejection rates. We believe that this analysis of the acceptance and rejection rates between White and Black applicants is appropriate as it allows us to group by similar income brackets rather than looking at the dataset as a whole. Except for in the highest bracket, this limits significant outliers for income amounts in our analysis. In addition, we were able to compare standard deviations of loan amount and loan-to-income ratios to ensure that the data in these variables were not too differentiated between Black and White applicants. Through this, we were able to appropriately compare these two populations' experiences with lending data and judge the fairness of this system."
   ]
  },
  {
   "cell_type": "markdown",
   "metadata": {},
   "source": [
    "## The Results\n",
    "\n",
    "The results of our analysis show significant disparities in access to loans between Black and White mortgage applicants. We were able to see that when grouped into different income brackets and taking into consideration the distributions of loan amounts of the application that the distributions of loan amount-to-income ratios were similar between both Black and White applicants. When this was taken into account, we saw that Black applicants were denied at higher rates and accepted at lower rates across the board compared to White applicants, even in higher income brackets. This was especially surprising considering that in those higher income brackets, White applicants through average and median had higher loan-to-income rations than Black applicants and were still getting approved at much higher rates. \n",
    "\n",
    "Also, it is notable that discrimination is the most significant among the highest income population. Looking at the above two charts, we can tell that the difference between Black and White populations is the widest in terms of both loan acceptance and denial rates. This difference is especially remarkable as White applicants in this income bracket had higher loan-to-income ratios for both mean and median than Black applicants. These data firmly imply that the richer a black applicant is, the more difficult it is for the applicant to enjoy financial opportunities than a white applicant with a similar economic background. Simply put, it's harder for black people to become super-rich and maintain their status once they became one, whereas, for white people, it's easier to become super-rich and maintain their super-rich status. Such a mechanism continues to reproduce the financial disparity between white and black populations, especially at the highest level of the wealth pyramid."
   ]
  },
  {
   "cell_type": "markdown",
   "metadata": {},
   "source": [
    "## The Cause of the Inequities\n",
    "\n",
    "To look into the root cause of these inequities, we wanted to look into the history of discrimination in lending pratices. In the 1960s and before, there was a term known as \"redlining\", which was coined from an action where financial institutions would, quite literally, mark \"minority neighborhoods in red\" in order to label the people living there as \"hazardous\" to lenders (Folger, Investopedia). This, in turn, would result in the denial of credit and other financial services to many people who were a part of these minority groups. As a result of the 1968 Fair Housing Act and the 1977 Community Reinvestment Act, the practice of redlining was banned (Brooks, CBS). However, while redlining is now illegal, its effects are still longlasting and visible today. For example, when looking at San Diego, we are able to see that the areas that were once given high, desirable grades in the days of redlining such as coastal La Jolla are still very wealthy and have a White majority population while areas that received lower grades such as Barrio Logan, which tended to have large minority populations, had and continue to face financial hardships (Villafaña and Schroeder, San Diego Tribune). Through this, it can be argued that the main reason for the inequities in lending between White applicants and applicants from minority racial groups is one that is rooted in structural and systemic racism. It is noted that during the 2008 Financial Crisis, there were many cases where \"African-Americans with similar credit profiles and down-payment ratios to white borrowers were more likely to receive subprime loans\" (Carey, Reuters). Predatory loan practices against people of minority groups have been happening for a long time and it is evident from our earlier analysis that lending inequities still exist today. Due to the scope of our data, we can only see if loans were accepted or not but we are not able to determine the terms of those loans. It is possible that some the loans we saw in our dataset could have had unfavorable terms for Black applicants when compared to White applicants in the same financial situation. Taking this into consideration, the true nature of this inequity very well could be under represented in the scope of our research as it does not take into account the specificities of the loans given; it only takes into account the status of whether the loan was originated or not.  "
   ]
  },
  {
   "cell_type": "markdown",
   "metadata": {},
   "source": [
    "Sources:\n",
    "\n",
    "https://business.vanderbilt.edu/news/2020/07/20/racial-disparities-in-lending-markets/\n",
    "\n",
    "https://www.pnas.org/content/116/19/9293)\n",
    "\n",
    "https://ncrc.org/wp-content/uploads/2009/07/ncrc%20nosheild%20june%2009.pdf\n",
    "\n",
    "https://www.cs.wustl.edu/~jain/papers/ftp/fairness.pdf\n",
    "\n",
    "https://www.bostonfed.org/publications/research-department-working-paper/1992/mortgage-lending-in-boston-interpreting-hmda-data.aspx\n",
    "\n",
    "https://academic.oup.com/rfs/article/34/2/763/5827007\n",
    "\n",
    "https://www.consumerfinance.gov/data-research/hmda/historic-data/\n",
    "\n",
    "https://fairmlbook.org/tutorial2.html\n",
    "\n",
    "https://klinechair.missouri.edu/docs/vol_2_demands_of_equality.pdf\n",
    "\n",
    "https://law.yale.edu/sites/default/files/documents/pdf/Intellectual_Life/ltw-Scanlon.pdf\n",
    "\n",
    "https://www.investopedia.com/the-history-of-lending-discrimination-5076948\n",
    "\n",
    "https://www.cbsnews.com/news/redlining-what-is-history-mike-bloomberg-comments/\n",
    "\n",
    "https://www.sandiegouniontribune.com/communities/san-diego/story/2020-09-11/could-you-live-here-decades-old-redlining-still-shapes-san-diegos-neighborhoods-today-advocates-say\n",
    "\n",
    "https://www.reuters.com/article/us-usa-foreclosures-race/racial-predatory-loans-fueled-u-s-housing-crisis-study-idUSTRE6930K520101004"
   ]
  },
  {
   "cell_type": "code",
   "execution_count": null,
   "metadata": {},
   "outputs": [],
   "source": []
  }
 ],
 "metadata": {
  "kernelspec": {
   "display_name": "Python 3",
   "language": "python",
   "name": "python3"
  },
  "language_info": {
   "codemirror_mode": {
    "name": "ipython",
    "version": 3
   },
   "file_extension": ".py",
   "mimetype": "text/x-python",
   "name": "python",
   "nbconvert_exporter": "python",
   "pygments_lexer": "ipython3",
   "version": "3.7.1"
  }
 },
 "nbformat": 4,
 "nbformat_minor": 2
}
