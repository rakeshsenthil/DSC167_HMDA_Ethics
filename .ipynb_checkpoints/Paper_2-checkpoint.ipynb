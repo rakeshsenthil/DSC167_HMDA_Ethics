{
 "cells": [
  {
   "cell_type": "code",
   "execution_count": 2,
   "metadata": {},
   "outputs": [],
   "source": [
    "import pandas as pd\n",
    "import numpy as np\n",
    "import matplotlib.pyplot as plt"
   ]
  },
  {
   "cell_type": "code",
   "execution_count": 3,
   "metadata": {},
   "outputs": [
    {
     "name": "stderr",
     "output_type": "stream",
     "text": [
      "/Users/rakesh/anaconda3/lib/python3.7/site-packages/IPython/core/interactiveshell.py:3020: DtypeWarning: Columns (34,36,38,44,46,48) have mixed types.Specify dtype option on import or set low_memory=False.\n",
      "  interactivity=interactivity, compiler=compiler, result=result)\n"
     ]
    }
   ],
   "source": [
    "df_2017 = pd.read_csv('/Users/rakesh/Documents/DSC167/hmda_2017_nationwide_all-records_labels.csv', \n",
    "                      dtype = {'msamd': str, 'state_code': str, 'county_code': str, 'census_tract_number': str,\n",
    "                              'denial_reason_1':str, 'denial_reason_2': str, 'denial_reason_3': str})"
   ]
  },
  {
   "cell_type": "markdown",
   "metadata": {},
   "source": [
    "# Rakesh Senthilvelan and Shin Ehara"
   ]
  },
  {
   "cell_type": "markdown",
   "metadata": {},
   "source": [
    "## Introduction\n",
    "\n",
    "Through our observation of the Housing Mortgage Disclosure Act in relation to fairness based on racial group in 2017, we noticed significant discrepancies when it came to the access to mortgages between Black applicants and White applicants across all income groups. In order to better understand the discrepancies and inequities in mortgage lending, we wanted to look into the areas of inframarginality and threshold testing, as well as intersectionality analysis, when it comes to algorithmic decision making in this area. Through this, we believe that a more fair and equitable classification model can be developed to determine the most likely scenario of someone getting their loan application originated or not. "
   ]
  },
  {
   "cell_type": "markdown",
   "metadata": {},
   "source": [
    "## Data Preparation\n",
    "\n",
    "For the case of our classification system, we wanted to compare between whether or not a loan was approved or denied. To do this, we had to prepare our data as there are numerous data points that have end results such as \"loan was withdrawn\", \"file closed for incompleteness\", or \"loan was purchased by financial institution\" among others. To handle this, we merged the values for \"loan originated\" and \"application approved but not accepted\" into one value, \"application denied by financial institutio\" into another, and then dropped the remaining columns. We will use this subset of the data as the source for our classification model."
   ]
  },
  {
   "cell_type": "code",
   "execution_count": 7,
   "metadata": {},
   "outputs": [],
   "source": [
    "df_copy = df_2017.copy()"
   ]
  },
  {
   "cell_type": "code",
   "execution_count": 14,
   "metadata": {},
   "outputs": [],
   "source": [
    "df_copy['action_taken'] = df_copy['action_taken'].replace(2,1)"
   ]
  },
  {
   "cell_type": "code",
   "execution_count": 20,
   "metadata": {},
   "outputs": [],
   "source": [
    "no_drop = [1,3]\n",
    "df = df_copy[df_copy.action_taken.isin(no_drop)]\n",
    "# df.action_taken.value_counts()"
   ]
  },
  {
   "cell_type": "code",
   "execution_count": 21,
   "metadata": {},
   "outputs": [
    {
     "data": {
      "text/plain": [
       "Index(['as_of_year', 'respondent_id', 'agency_name', 'agency_abbr',\n",
       "       'agency_code', 'loan_type_name', 'loan_type', 'property_type_name',\n",
       "       'property_type', 'loan_purpose_name', 'loan_purpose',\n",
       "       'owner_occupancy_name', 'owner_occupancy', 'loan_amount_000s',\n",
       "       'preapproval_name', 'preapproval', 'action_taken_name', 'action_taken',\n",
       "       'msamd_name', 'msamd', 'state_name', 'state_abbr', 'state_code',\n",
       "       'county_name', 'county_code', 'census_tract_number',\n",
       "       'applicant_ethnicity_name', 'applicant_ethnicity',\n",
       "       'co_applicant_ethnicity_name', 'co_applicant_ethnicity',\n",
       "       'applicant_race_name_1', 'applicant_race_1', 'applicant_race_name_2',\n",
       "       'applicant_race_2', 'applicant_race_name_3', 'applicant_race_3',\n",
       "       'applicant_race_name_4', 'applicant_race_4', 'applicant_race_name_5',\n",
       "       'applicant_race_5', 'co_applicant_race_name_1', 'co_applicant_race_1',\n",
       "       'co_applicant_race_name_2', 'co_applicant_race_2',\n",
       "       'co_applicant_race_name_3', 'co_applicant_race_3',\n",
       "       'co_applicant_race_name_4', 'co_applicant_race_4',\n",
       "       'co_applicant_race_name_5', 'co_applicant_race_5', 'applicant_sex_name',\n",
       "       'applicant_sex', 'co_applicant_sex_name', 'co_applicant_sex',\n",
       "       'applicant_income_000s', 'purchaser_type_name', 'purchaser_type',\n",
       "       'denial_reason_name_1', 'denial_reason_1', 'denial_reason_name_2',\n",
       "       'denial_reason_2', 'denial_reason_name_3', 'denial_reason_3',\n",
       "       'rate_spread', 'hoepa_status_name', 'hoepa_status', 'lien_status_name',\n",
       "       'lien_status', 'edit_status_name', 'edit_status', 'sequence_number',\n",
       "       'population', 'minority_population', 'hud_median_family_income',\n",
       "       'tract_to_msamd_income', 'number_of_owner_occupied_units',\n",
       "       'number_of_1_to_4_family_units', 'application_date_indicator'],\n",
       "      dtype='object')"
      ]
     },
     "execution_count": 21,
     "metadata": {},
     "output_type": "execute_result"
    }
   ],
   "source": [
    "df.columns\n",
    "# Fairness: ['property_type', 'loan_type', 'loan_purpose', 'owner_occupancy', 'loan_amount_000s', \n",
    "# 'applicant_income_000s', 'number_of_owner_occupied_units', 'number_of_1_to_4_family_units']"
   ]
  },
  {
   "cell_type": "code",
   "execution_count": null,
   "metadata": {},
   "outputs": [],
   "source": []
  }
 ],
 "metadata": {
  "kernelspec": {
   "display_name": "Python 3",
   "language": "python",
   "name": "python3"
  },
  "language_info": {
   "codemirror_mode": {
    "name": "ipython",
    "version": 3
   },
   "file_extension": ".py",
   "mimetype": "text/x-python",
   "name": "python",
   "nbconvert_exporter": "python",
   "pygments_lexer": "ipython3",
   "version": "3.7.1"
  }
 },
 "nbformat": 4,
 "nbformat_minor": 2
}
